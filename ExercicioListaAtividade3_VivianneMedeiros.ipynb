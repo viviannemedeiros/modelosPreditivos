{
  "nbformat": 4,
  "nbformat_minor": 0,
  "metadata": {
    "colab": {
      "name": "ExercicioListaAtividade3-VivianneMedeiros.ipynb",
      "provenance": [],
      "collapsed_sections": [
        "VWKxWHPgRXnN",
        "pXxq3B0HhFY7",
        "fUZJGIlQUoQE",
        "Ocqd0YbyaMi4"
      ],
      "authorship_tag": "ABX9TyO0aC3+wwLEZO5NlthByhXH",
      "include_colab_link": true
    },
    "kernelspec": {
      "name": "python3",
      "display_name": "Python 3"
    }
  },
  "cells": [
    {
      "cell_type": "markdown",
      "metadata": {
        "id": "view-in-github",
        "colab_type": "text"
      },
      "source": [
        "<a href=\"https://colab.research.google.com/github/viviannemedeiros/modelosPreditivos/blob/master/ExercicioListaAtividade3_VivianneMedeiros.ipynb\" target=\"_parent\"><img src=\"https://colab.research.google.com/assets/colab-badge.svg\" alt=\"Open In Colab\"/></a>"
      ]
    },
    {
      "cell_type": "markdown",
      "metadata": {
        "id": "OS8YN2kiGxro",
        "colab_type": "text"
      },
      "source": [
        "**Projeto Final/Atividade 3 - Modelos Preditivos - 22/06/2020** \n",
        "\n",
        "**Prof:** Ricardo Prudêncio\n",
        "\n",
        "**Discente:** Vivianne Medeiros\n"
      ]
    },
    {
      "cell_type": "code",
      "metadata": {
        "id": "CAgVshkqnmUn",
        "colab_type": "code",
        "colab": {
          "base_uri": "https://localhost:8080/",
          "height": 71
        },
        "outputId": "cdd99094-a337-43fa-b2a2-26006d9ace77"
      },
      "source": [
        "# Importando libs necessárias\n",
        "import pandas as pd\n",
        "import seaborn as sns\n",
        "import numpy as np\n",
        "\n",
        "from sklearn import datasets\n",
        "from sklearn import metrics\n",
        "from sklearn.ensemble import RandomForestClassifier\n",
        "from sklearn.feature_selection import RFE\n",
        "from sklearn.feature_selection import RFECV\n",
        "from sklearn.feature_selection import SelectFromModel\n",
        "from sklearn.model_selection import cross_validate\n",
        "from sklearn.model_selection import GridSearchCV\n",
        "from sklearn.model_selection import train_test_split\n",
        "from sklearn.neighbors import KNeighborsClassifier\n",
        "from sklearn.preprocessing import LabelEncoder\n",
        "from sklearn.tree import DecisionTreeClassifier\n",
        "\n",
        "import matplotlib.pyplot as plt\n",
        "%matplotlib inline"
      ],
      "execution_count": 1,
      "outputs": [
        {
          "output_type": "stream",
          "text": [
            "/usr/local/lib/python3.6/dist-packages/statsmodels/tools/_testing.py:19: FutureWarning: pandas.util.testing is deprecated. Use the functions in the public API at pandas.testing instead.\n",
            "  import pandas.util.testing as tm\n"
          ],
          "name": "stderr"
        }
      ]
    },
    {
      "cell_type": "markdown",
      "metadata": {
        "id": "qK0hPSEJHhjY",
        "colab_type": "text"
      },
      "source": [
        "## **Atividade 3**"
      ]
    },
    {
      "cell_type": "code",
      "metadata": {
        "id": "KkgUts57ynjV",
        "colab_type": "code",
        "colab": {}
      },
      "source": [
        "# Carregando os dados. Importante: deve-se fazer upload do respectivo arquivo na sessão antes de executar este comando.\n",
        "dados = pd.read_csv('https://raw.githubusercontent.com/viviannemedeiros/modelosPreditivos/master/KaggleV2-May-2016.csv') "
      ],
      "execution_count": 2,
      "outputs": []
    },
    {
      "cell_type": "markdown",
      "metadata": {
        "id": "VWKxWHPgRXnN",
        "colab_type": "text"
      },
      "source": [
        "### **Análise Exploratória dos Dados:** conhecendo os dados e efetuando as  transformações necessárias"
      ]
    },
    {
      "cell_type": "code",
      "metadata": {
        "id": "Ao17hX0XpqbJ",
        "colab_type": "code",
        "colab": {
          "base_uri": "https://localhost:8080/",
          "height": 566
        },
        "outputId": "f4a2e1a6-791f-44af-dab1-c195c01ae1a9"
      },
      "source": [
        "# Amostra das instâncias\n",
        "dados.head(10)"
      ],
      "execution_count": 3,
      "outputs": [
        {
          "output_type": "execute_result",
          "data": {
            "text/html": [
              "<div>\n",
              "<style scoped>\n",
              "    .dataframe tbody tr th:only-of-type {\n",
              "        vertical-align: middle;\n",
              "    }\n",
              "\n",
              "    .dataframe tbody tr th {\n",
              "        vertical-align: top;\n",
              "    }\n",
              "\n",
              "    .dataframe thead th {\n",
              "        text-align: right;\n",
              "    }\n",
              "</style>\n",
              "<table border=\"1\" class=\"dataframe\">\n",
              "  <thead>\n",
              "    <tr style=\"text-align: right;\">\n",
              "      <th></th>\n",
              "      <th>PatientId</th>\n",
              "      <th>AppointmentID</th>\n",
              "      <th>Gender</th>\n",
              "      <th>ScheduledDay</th>\n",
              "      <th>AppointmentDay</th>\n",
              "      <th>Age</th>\n",
              "      <th>Neighbourhood</th>\n",
              "      <th>Scholarship</th>\n",
              "      <th>Hipertension</th>\n",
              "      <th>Diabetes</th>\n",
              "      <th>Alcoholism</th>\n",
              "      <th>Handcap</th>\n",
              "      <th>SMS_received</th>\n",
              "      <th>No-show</th>\n",
              "    </tr>\n",
              "  </thead>\n",
              "  <tbody>\n",
              "    <tr>\n",
              "      <th>0</th>\n",
              "      <td>2.987250e+13</td>\n",
              "      <td>5642903</td>\n",
              "      <td>F</td>\n",
              "      <td>2016-04-29T18:38:08Z</td>\n",
              "      <td>2016-04-29T00:00:00Z</td>\n",
              "      <td>62</td>\n",
              "      <td>JARDIM DA PENHA</td>\n",
              "      <td>0</td>\n",
              "      <td>1</td>\n",
              "      <td>0</td>\n",
              "      <td>0</td>\n",
              "      <td>0</td>\n",
              "      <td>0</td>\n",
              "      <td>No</td>\n",
              "    </tr>\n",
              "    <tr>\n",
              "      <th>1</th>\n",
              "      <td>5.589978e+14</td>\n",
              "      <td>5642503</td>\n",
              "      <td>M</td>\n",
              "      <td>2016-04-29T16:08:27Z</td>\n",
              "      <td>2016-04-29T00:00:00Z</td>\n",
              "      <td>56</td>\n",
              "      <td>JARDIM DA PENHA</td>\n",
              "      <td>0</td>\n",
              "      <td>0</td>\n",
              "      <td>0</td>\n",
              "      <td>0</td>\n",
              "      <td>0</td>\n",
              "      <td>0</td>\n",
              "      <td>No</td>\n",
              "    </tr>\n",
              "    <tr>\n",
              "      <th>2</th>\n",
              "      <td>4.262962e+12</td>\n",
              "      <td>5642549</td>\n",
              "      <td>F</td>\n",
              "      <td>2016-04-29T16:19:04Z</td>\n",
              "      <td>2016-04-29T00:00:00Z</td>\n",
              "      <td>62</td>\n",
              "      <td>MATA DA PRAIA</td>\n",
              "      <td>0</td>\n",
              "      <td>0</td>\n",
              "      <td>0</td>\n",
              "      <td>0</td>\n",
              "      <td>0</td>\n",
              "      <td>0</td>\n",
              "      <td>No</td>\n",
              "    </tr>\n",
              "    <tr>\n",
              "      <th>3</th>\n",
              "      <td>8.679512e+11</td>\n",
              "      <td>5642828</td>\n",
              "      <td>F</td>\n",
              "      <td>2016-04-29T17:29:31Z</td>\n",
              "      <td>2016-04-29T00:00:00Z</td>\n",
              "      <td>8</td>\n",
              "      <td>PONTAL DE CAMBURI</td>\n",
              "      <td>0</td>\n",
              "      <td>0</td>\n",
              "      <td>0</td>\n",
              "      <td>0</td>\n",
              "      <td>0</td>\n",
              "      <td>0</td>\n",
              "      <td>No</td>\n",
              "    </tr>\n",
              "    <tr>\n",
              "      <th>4</th>\n",
              "      <td>8.841186e+12</td>\n",
              "      <td>5642494</td>\n",
              "      <td>F</td>\n",
              "      <td>2016-04-29T16:07:23Z</td>\n",
              "      <td>2016-04-29T00:00:00Z</td>\n",
              "      <td>56</td>\n",
              "      <td>JARDIM DA PENHA</td>\n",
              "      <td>0</td>\n",
              "      <td>1</td>\n",
              "      <td>1</td>\n",
              "      <td>0</td>\n",
              "      <td>0</td>\n",
              "      <td>0</td>\n",
              "      <td>No</td>\n",
              "    </tr>\n",
              "    <tr>\n",
              "      <th>5</th>\n",
              "      <td>9.598513e+13</td>\n",
              "      <td>5626772</td>\n",
              "      <td>F</td>\n",
              "      <td>2016-04-27T08:36:51Z</td>\n",
              "      <td>2016-04-29T00:00:00Z</td>\n",
              "      <td>76</td>\n",
              "      <td>REPÚBLICA</td>\n",
              "      <td>0</td>\n",
              "      <td>1</td>\n",
              "      <td>0</td>\n",
              "      <td>0</td>\n",
              "      <td>0</td>\n",
              "      <td>0</td>\n",
              "      <td>No</td>\n",
              "    </tr>\n",
              "    <tr>\n",
              "      <th>6</th>\n",
              "      <td>7.336882e+14</td>\n",
              "      <td>5630279</td>\n",
              "      <td>F</td>\n",
              "      <td>2016-04-27T15:05:12Z</td>\n",
              "      <td>2016-04-29T00:00:00Z</td>\n",
              "      <td>23</td>\n",
              "      <td>GOIABEIRAS</td>\n",
              "      <td>0</td>\n",
              "      <td>0</td>\n",
              "      <td>0</td>\n",
              "      <td>0</td>\n",
              "      <td>0</td>\n",
              "      <td>0</td>\n",
              "      <td>Yes</td>\n",
              "    </tr>\n",
              "    <tr>\n",
              "      <th>7</th>\n",
              "      <td>3.449833e+12</td>\n",
              "      <td>5630575</td>\n",
              "      <td>F</td>\n",
              "      <td>2016-04-27T15:39:58Z</td>\n",
              "      <td>2016-04-29T00:00:00Z</td>\n",
              "      <td>39</td>\n",
              "      <td>GOIABEIRAS</td>\n",
              "      <td>0</td>\n",
              "      <td>0</td>\n",
              "      <td>0</td>\n",
              "      <td>0</td>\n",
              "      <td>0</td>\n",
              "      <td>0</td>\n",
              "      <td>Yes</td>\n",
              "    </tr>\n",
              "    <tr>\n",
              "      <th>8</th>\n",
              "      <td>5.639473e+13</td>\n",
              "      <td>5638447</td>\n",
              "      <td>F</td>\n",
              "      <td>2016-04-29T08:02:16Z</td>\n",
              "      <td>2016-04-29T00:00:00Z</td>\n",
              "      <td>21</td>\n",
              "      <td>ANDORINHAS</td>\n",
              "      <td>0</td>\n",
              "      <td>0</td>\n",
              "      <td>0</td>\n",
              "      <td>0</td>\n",
              "      <td>0</td>\n",
              "      <td>0</td>\n",
              "      <td>No</td>\n",
              "    </tr>\n",
              "    <tr>\n",
              "      <th>9</th>\n",
              "      <td>7.812456e+13</td>\n",
              "      <td>5629123</td>\n",
              "      <td>F</td>\n",
              "      <td>2016-04-27T12:48:25Z</td>\n",
              "      <td>2016-04-29T00:00:00Z</td>\n",
              "      <td>19</td>\n",
              "      <td>CONQUISTA</td>\n",
              "      <td>0</td>\n",
              "      <td>0</td>\n",
              "      <td>0</td>\n",
              "      <td>0</td>\n",
              "      <td>0</td>\n",
              "      <td>0</td>\n",
              "      <td>No</td>\n",
              "    </tr>\n",
              "  </tbody>\n",
              "</table>\n",
              "</div>"
            ],
            "text/plain": [
              "      PatientId  AppointmentID Gender  ... Handcap SMS_received  No-show\n",
              "0  2.987250e+13        5642903      F  ...       0            0       No\n",
              "1  5.589978e+14        5642503      M  ...       0            0       No\n",
              "2  4.262962e+12        5642549      F  ...       0            0       No\n",
              "3  8.679512e+11        5642828      F  ...       0            0       No\n",
              "4  8.841186e+12        5642494      F  ...       0            0       No\n",
              "5  9.598513e+13        5626772      F  ...       0            0       No\n",
              "6  7.336882e+14        5630279      F  ...       0            0      Yes\n",
              "7  3.449833e+12        5630575      F  ...       0            0      Yes\n",
              "8  5.639473e+13        5638447      F  ...       0            0       No\n",
              "9  7.812456e+13        5629123      F  ...       0            0       No\n",
              "\n",
              "[10 rows x 14 columns]"
            ]
          },
          "metadata": {
            "tags": []
          },
          "execution_count": 3
        }
      ]
    },
    {
      "cell_type": "code",
      "metadata": {
        "id": "CZ2VRPAMo4gj",
        "colab_type": "code",
        "colab": {}
      },
      "source": [
        "# Exclusão das colunas de identificadores gerados pelo sistema\n",
        "dados.drop(['PatientId', 'AppointmentID'], axis=1, inplace=True)\n"
      ],
      "execution_count": 4,
      "outputs": []
    },
    {
      "cell_type": "code",
      "metadata": {
        "id": "OENSQI22tVx_",
        "colab_type": "code",
        "colab": {
          "base_uri": "https://localhost:8080/",
          "height": 360
        },
        "outputId": "bc5e6fa3-f9e2-40dc-c053-c00f384f2465"
      },
      "source": [
        "# Informações sobre os dados\n",
        "dados.info()"
      ],
      "execution_count": 5,
      "outputs": [
        {
          "output_type": "stream",
          "text": [
            "<class 'pandas.core.frame.DataFrame'>\n",
            "RangeIndex: 110527 entries, 0 to 110526\n",
            "Data columns (total 12 columns):\n",
            " #   Column          Non-Null Count   Dtype \n",
            "---  ------          --------------   ----- \n",
            " 0   Gender          110527 non-null  object\n",
            " 1   ScheduledDay    110527 non-null  object\n",
            " 2   AppointmentDay  110527 non-null  object\n",
            " 3   Age             110527 non-null  int64 \n",
            " 4   Neighbourhood   110527 non-null  object\n",
            " 5   Scholarship     110527 non-null  int64 \n",
            " 6   Hipertension    110527 non-null  int64 \n",
            " 7   Diabetes        110527 non-null  int64 \n",
            " 8   Alcoholism      110527 non-null  int64 \n",
            " 9   Handcap         110527 non-null  int64 \n",
            " 10  SMS_received    110527 non-null  int64 \n",
            " 11  No-show         110527 non-null  object\n",
            "dtypes: int64(7), object(5)\n",
            "memory usage: 10.1+ MB\n"
          ],
          "name": "stdout"
        }
      ]
    },
    {
      "cell_type": "code",
      "metadata": {
        "id": "zW3UPR9hfEjX",
        "colab_type": "code",
        "colab": {
          "base_uri": "https://localhost:8080/",
          "height": 258
        },
        "outputId": "085c5dc5-5c11-4521-a0b7-bb9a5e852309"
      },
      "source": [
        "# Ajustando os tipos de dados das datas\n",
        "dados['ScheduledDay'] = pd.to_datetime(dados['ScheduledDay']).dt.date.astype('datetime64[ns]')\n",
        "dados.AppointmentDay = dados.AppointmentDay.apply(np.datetime64)\n",
        "dados.dtypes"
      ],
      "execution_count": 6,
      "outputs": [
        {
          "output_type": "execute_result",
          "data": {
            "text/plain": [
              "Gender                    object\n",
              "ScheduledDay      datetime64[ns]\n",
              "AppointmentDay    datetime64[ns]\n",
              "Age                        int64\n",
              "Neighbourhood             object\n",
              "Scholarship                int64\n",
              "Hipertension               int64\n",
              "Diabetes                   int64\n",
              "Alcoholism                 int64\n",
              "Handcap                    int64\n",
              "SMS_received               int64\n",
              "No-show                   object\n",
              "dtype: object"
            ]
          },
          "metadata": {
            "tags": []
          },
          "execution_count": 6
        }
      ]
    },
    {
      "cell_type": "code",
      "metadata": {
        "id": "ZR363U5wAD9R",
        "colab_type": "code",
        "colab": {
          "base_uri": "https://localhost:8080/",
          "height": 88
        },
        "outputId": "2979941d-4398-4278-9df6-407c12560b8f"
      },
      "source": [
        "print(\"Features => {}\".format(dados.columns.ravel()))"
      ],
      "execution_count": 7,
      "outputs": [
        {
          "output_type": "stream",
          "text": [
            "Features => ['Gender' 'ScheduledDay' 'AppointmentDay' 'Age' 'Neighbourhood'\n",
            " 'Scholarship' 'Hipertension' 'Diabetes' 'Alcoholism' 'Handcap'\n",
            " 'SMS_received' 'No-show']\n"
          ],
          "name": "stdout"
        }
      ]
    },
    {
      "cell_type": "code",
      "metadata": {
        "id": "D8NEQRn0vrmv",
        "colab_type": "code",
        "colab": {
          "base_uri": "https://localhost:8080/",
          "height": 317
        },
        "outputId": "57068e0d-27c1-40a4-cea0-29a357f09c51"
      },
      "source": [
        "# Dados estatísticos gerais sobre cada coluna\n",
        "dados.describe()"
      ],
      "execution_count": 8,
      "outputs": [
        {
          "output_type": "execute_result",
          "data": {
            "text/html": [
              "<div>\n",
              "<style scoped>\n",
              "    .dataframe tbody tr th:only-of-type {\n",
              "        vertical-align: middle;\n",
              "    }\n",
              "\n",
              "    .dataframe tbody tr th {\n",
              "        vertical-align: top;\n",
              "    }\n",
              "\n",
              "    .dataframe thead th {\n",
              "        text-align: right;\n",
              "    }\n",
              "</style>\n",
              "<table border=\"1\" class=\"dataframe\">\n",
              "  <thead>\n",
              "    <tr style=\"text-align: right;\">\n",
              "      <th></th>\n",
              "      <th>Age</th>\n",
              "      <th>Scholarship</th>\n",
              "      <th>Hipertension</th>\n",
              "      <th>Diabetes</th>\n",
              "      <th>Alcoholism</th>\n",
              "      <th>Handcap</th>\n",
              "      <th>SMS_received</th>\n",
              "    </tr>\n",
              "  </thead>\n",
              "  <tbody>\n",
              "    <tr>\n",
              "      <th>count</th>\n",
              "      <td>110527.000000</td>\n",
              "      <td>110527.000000</td>\n",
              "      <td>110527.000000</td>\n",
              "      <td>110527.000000</td>\n",
              "      <td>110527.000000</td>\n",
              "      <td>110527.000000</td>\n",
              "      <td>110527.000000</td>\n",
              "    </tr>\n",
              "    <tr>\n",
              "      <th>mean</th>\n",
              "      <td>37.088874</td>\n",
              "      <td>0.098266</td>\n",
              "      <td>0.197246</td>\n",
              "      <td>0.071865</td>\n",
              "      <td>0.030400</td>\n",
              "      <td>0.022248</td>\n",
              "      <td>0.321026</td>\n",
              "    </tr>\n",
              "    <tr>\n",
              "      <th>std</th>\n",
              "      <td>23.110205</td>\n",
              "      <td>0.297675</td>\n",
              "      <td>0.397921</td>\n",
              "      <td>0.258265</td>\n",
              "      <td>0.171686</td>\n",
              "      <td>0.161543</td>\n",
              "      <td>0.466873</td>\n",
              "    </tr>\n",
              "    <tr>\n",
              "      <th>min</th>\n",
              "      <td>-1.000000</td>\n",
              "      <td>0.000000</td>\n",
              "      <td>0.000000</td>\n",
              "      <td>0.000000</td>\n",
              "      <td>0.000000</td>\n",
              "      <td>0.000000</td>\n",
              "      <td>0.000000</td>\n",
              "    </tr>\n",
              "    <tr>\n",
              "      <th>25%</th>\n",
              "      <td>18.000000</td>\n",
              "      <td>0.000000</td>\n",
              "      <td>0.000000</td>\n",
              "      <td>0.000000</td>\n",
              "      <td>0.000000</td>\n",
              "      <td>0.000000</td>\n",
              "      <td>0.000000</td>\n",
              "    </tr>\n",
              "    <tr>\n",
              "      <th>50%</th>\n",
              "      <td>37.000000</td>\n",
              "      <td>0.000000</td>\n",
              "      <td>0.000000</td>\n",
              "      <td>0.000000</td>\n",
              "      <td>0.000000</td>\n",
              "      <td>0.000000</td>\n",
              "      <td>0.000000</td>\n",
              "    </tr>\n",
              "    <tr>\n",
              "      <th>75%</th>\n",
              "      <td>55.000000</td>\n",
              "      <td>0.000000</td>\n",
              "      <td>0.000000</td>\n",
              "      <td>0.000000</td>\n",
              "      <td>0.000000</td>\n",
              "      <td>0.000000</td>\n",
              "      <td>1.000000</td>\n",
              "    </tr>\n",
              "    <tr>\n",
              "      <th>max</th>\n",
              "      <td>115.000000</td>\n",
              "      <td>1.000000</td>\n",
              "      <td>1.000000</td>\n",
              "      <td>1.000000</td>\n",
              "      <td>1.000000</td>\n",
              "      <td>4.000000</td>\n",
              "      <td>1.000000</td>\n",
              "    </tr>\n",
              "  </tbody>\n",
              "</table>\n",
              "</div>"
            ],
            "text/plain": [
              "                 Age    Scholarship  ...        Handcap   SMS_received\n",
              "count  110527.000000  110527.000000  ...  110527.000000  110527.000000\n",
              "mean       37.088874       0.098266  ...       0.022248       0.321026\n",
              "std        23.110205       0.297675  ...       0.161543       0.466873\n",
              "min        -1.000000       0.000000  ...       0.000000       0.000000\n",
              "25%        18.000000       0.000000  ...       0.000000       0.000000\n",
              "50%        37.000000       0.000000  ...       0.000000       0.000000\n",
              "75%        55.000000       0.000000  ...       0.000000       1.000000\n",
              "max       115.000000       1.000000  ...       4.000000       1.000000\n",
              "\n",
              "[8 rows x 7 columns]"
            ]
          },
          "metadata": {
            "tags": []
          },
          "execution_count": 8
        }
      ]
    },
    {
      "cell_type": "code",
      "metadata": {
        "id": "HExcf7U0wNBx",
        "colab_type": "code",
        "colab": {
          "base_uri": "https://localhost:8080/",
          "height": 54
        },
        "outputId": "42c6566f-0c02-4595-ce85-cc8b11905265"
      },
      "source": [
        "# Verificando a quantidade de dados\n",
        "dados.shape"
      ],
      "execution_count": 9,
      "outputs": [
        {
          "output_type": "execute_result",
          "data": {
            "text/plain": [
              "(110527, 12)"
            ]
          },
          "metadata": {
            "tags": []
          },
          "execution_count": 9
        }
      ]
    },
    {
      "cell_type": "code",
      "metadata": {
        "id": "6IRjRuKPKwGO",
        "colab_type": "code",
        "colab": {
          "base_uri": "https://localhost:8080/",
          "height": 258
        },
        "outputId": "b668b14c-f9fe-4982-c2fc-69850a488a14"
      },
      "source": [
        "# Verificando quantidade de dados nulos\n",
        "dados.isnull().sum()"
      ],
      "execution_count": 10,
      "outputs": [
        {
          "output_type": "execute_result",
          "data": {
            "text/plain": [
              "Gender            0\n",
              "ScheduledDay      0\n",
              "AppointmentDay    0\n",
              "Age               0\n",
              "Neighbourhood     0\n",
              "Scholarship       0\n",
              "Hipertension      0\n",
              "Diabetes          0\n",
              "Alcoholism        0\n",
              "Handcap           0\n",
              "SMS_received      0\n",
              "No-show           0\n",
              "dtype: int64"
            ]
          },
          "metadata": {
            "tags": []
          },
          "execution_count": 10
        }
      ]
    },
    {
      "cell_type": "code",
      "metadata": {
        "id": "0flOXp5BlLLb",
        "colab_type": "code",
        "colab": {
          "base_uri": "https://localhost:8080/",
          "height": 564
        },
        "outputId": "5f01d8df-c103-404a-8477-4a9f1ea4240d"
      },
      "source": [
        "# Verificando valores errados ou indefinidos\n",
        "print(\"Age => {}\".format(np.sort(dados.Age.unique()))) #print('Age:',sorted(dados.Age.unique()))\n",
        "print(\"Gender => {}\".format(dados.Gender.unique())) #print('Gender:',dados.Gender.unique())\n",
        "print(\"Neighbourhood => {}\".format(np.sort(dados.Neighbourhood.unique())))\n",
        "print('Diabetes =>',dados.Diabetes.unique())\n",
        "print('Alcoholism =>',dados.Alcoholism.unique())\n",
        "print('Hipertension =>',dados.Hipertension.unique())\n",
        "print('Handcap =>',dados.Handcap.unique())\n",
        "print('Scholarship =>',dados.Scholarship.unique())\n",
        "print('SMS_received =>',dados.SMS_received.unique())"
      ],
      "execution_count": 11,
      "outputs": [
        {
          "output_type": "stream",
          "text": [
            "Age => [ -1   0   1   2   3   4   5   6   7   8   9  10  11  12  13  14  15  16\n",
            "  17  18  19  20  21  22  23  24  25  26  27  28  29  30  31  32  33  34\n",
            "  35  36  37  38  39  40  41  42  43  44  45  46  47  48  49  50  51  52\n",
            "  53  54  55  56  57  58  59  60  61  62  63  64  65  66  67  68  69  70\n",
            "  71  72  73  74  75  76  77  78  79  80  81  82  83  84  85  86  87  88\n",
            "  89  90  91  92  93  94  95  96  97  98  99 100 102 115]\n",
            "Gender => ['F' 'M']\n",
            "Neighbourhood => ['AEROPORTO' 'ANDORINHAS' 'ANTÔNIO HONÓRIO' 'ARIOVALDO FAVALESSA'\n",
            " 'BARRO VERMELHO' 'BELA VISTA' 'BENTO FERREIRA' 'BOA VISTA' 'BONFIM'\n",
            " 'CARATOÍRA' 'CENTRO' 'COMDUSA' 'CONQUISTA' 'CONSOLAÇÃO' 'CRUZAMENTO'\n",
            " 'DA PENHA' 'DE LOURDES' 'DO CABRAL' 'DO MOSCOSO' 'DO QUADRO'\n",
            " 'ENSEADA DO SUÁ' 'ESTRELINHA' 'FONTE GRANDE' 'FORTE SÃO JOÃO' 'FRADINHOS'\n",
            " 'GOIABEIRAS' 'GRANDE VITÓRIA' 'GURIGICA' 'HORTO' 'ILHA DAS CAIEIRAS'\n",
            " 'ILHA DE SANTA MARIA' 'ILHA DO BOI' 'ILHA DO FRADE' 'ILHA DO PRÍNCIPE'\n",
            " 'ILHAS OCEÂNICAS DE TRINDADE' 'INHANGUETÁ' 'ITARARÉ' 'JABOUR'\n",
            " 'JARDIM CAMBURI' 'JARDIM DA PENHA' 'JESUS DE NAZARETH' 'JOANA D´ARC'\n",
            " 'JUCUTUQUARA' 'MARIA ORTIZ' 'MARUÍPE' 'MATA DA PRAIA' 'MONTE BELO'\n",
            " 'MORADA DE CAMBURI' 'MÁRIO CYPRESTE' 'NAZARETH' 'NOVA PALESTINA'\n",
            " 'PARQUE INDUSTRIAL' 'PARQUE MOSCOSO' 'PIEDADE' 'PONTAL DE CAMBURI'\n",
            " 'PRAIA DO CANTO' 'PRAIA DO SUÁ' 'REDENÇÃO' 'REPÚBLICA' 'RESISTÊNCIA'\n",
            " 'ROMÃO' 'SANTA CECÍLIA' 'SANTA CLARA' 'SANTA HELENA' 'SANTA LUÍZA'\n",
            " 'SANTA LÚCIA' 'SANTA MARTHA' 'SANTA TEREZA' 'SANTO ANDRÉ' 'SANTO ANTÔNIO'\n",
            " 'SANTOS DUMONT' 'SANTOS REIS' 'SEGURANÇA DO LAR' 'SOLON BORGES'\n",
            " 'SÃO BENEDITO' 'SÃO CRISTÓVÃO' 'SÃO JOSÉ' 'SÃO PEDRO' 'TABUAZEIRO'\n",
            " 'UNIVERSITÁRIO' 'VILA RUBIM']\n",
            "Diabetes => [0 1]\n",
            "Alcoholism => [0 1]\n",
            "Hipertension => [1 0]\n",
            "Handcap => [0 1 2 3 4]\n",
            "Scholarship => [0 1]\n",
            "SMS_received => [0 1]\n"
          ],
          "name": "stdout"
        }
      ]
    },
    {
      "cell_type": "code",
      "metadata": {
        "id": "NLemVeHzDkm6",
        "colab_type": "code",
        "colab": {
          "base_uri": "https://localhost:8080/",
          "height": 54
        },
        "outputId": "87ad1680-687f-417c-ae74-8aeb2b526e0c"
      },
      "source": [
        "print(\"Total Neighbourhood => {}\".format(dados.Neighbourhood.unique().size))"
      ],
      "execution_count": 12,
      "outputs": [
        {
          "output_type": "stream",
          "text": [
            "Total Neighbourhood => 81\n"
          ],
          "name": "stdout"
        }
      ]
    },
    {
      "cell_type": "code",
      "metadata": {
        "id": "UhQCfUYJCKGl",
        "colab_type": "code",
        "colab": {
          "base_uri": "https://localhost:8080/",
          "height": 54
        },
        "outputId": "01a73097-6401-4da7-a64a-81853dfaa831"
      },
      "source": [
        "# Removendo idades inválidas\n",
        "dados = dados[dados.Age >= 0] # dados = dados[(dados.Age >= 0) & (dados.Age <= 100)] # Removendo outliers também\n",
        "dados.shape"
      ],
      "execution_count": 13,
      "outputs": [
        {
          "output_type": "execute_result",
          "data": {
            "text/plain": [
              "(110526, 12)"
            ]
          },
          "metadata": {
            "tags": []
          },
          "execution_count": 13
        }
      ]
    },
    {
      "cell_type": "code",
      "metadata": {
        "id": "SVnKkqOKEEAP",
        "colab_type": "code",
        "colab": {
          "base_uri": "https://localhost:8080/",
          "height": 258
        },
        "outputId": "8e49aeaf-2129-4382-a537-56d00f88b531"
      },
      "source": [
        "# Calcula tempo de espera em dias para substituir pelas datas\n",
        "dados['Waiting_Time_days'] = dados['AppointmentDay'] - dados['ScheduledDay']\n",
        "dados['Waiting_Time_days'] = dados['Waiting_Time_days'].dt.days\n",
        "\n",
        "# Exclusão das colunas de datas\n",
        "dados.drop(['ScheduledDay', 'AppointmentDay'], axis=1, inplace=True)\n",
        "dados.sample(n=5)"
      ],
      "execution_count": 14,
      "outputs": [
        {
          "output_type": "execute_result",
          "data": {
            "text/html": [
              "<div>\n",
              "<style scoped>\n",
              "    .dataframe tbody tr th:only-of-type {\n",
              "        vertical-align: middle;\n",
              "    }\n",
              "\n",
              "    .dataframe tbody tr th {\n",
              "        vertical-align: top;\n",
              "    }\n",
              "\n",
              "    .dataframe thead th {\n",
              "        text-align: right;\n",
              "    }\n",
              "</style>\n",
              "<table border=\"1\" class=\"dataframe\">\n",
              "  <thead>\n",
              "    <tr style=\"text-align: right;\">\n",
              "      <th></th>\n",
              "      <th>Gender</th>\n",
              "      <th>Age</th>\n",
              "      <th>Neighbourhood</th>\n",
              "      <th>Scholarship</th>\n",
              "      <th>Hipertension</th>\n",
              "      <th>Diabetes</th>\n",
              "      <th>Alcoholism</th>\n",
              "      <th>Handcap</th>\n",
              "      <th>SMS_received</th>\n",
              "      <th>No-show</th>\n",
              "      <th>Waiting_Time_days</th>\n",
              "    </tr>\n",
              "  </thead>\n",
              "  <tbody>\n",
              "    <tr>\n",
              "      <th>53487</th>\n",
              "      <td>M</td>\n",
              "      <td>17</td>\n",
              "      <td>DE LOURDES</td>\n",
              "      <td>0</td>\n",
              "      <td>0</td>\n",
              "      <td>0</td>\n",
              "      <td>0</td>\n",
              "      <td>0</td>\n",
              "      <td>0</td>\n",
              "      <td>No</td>\n",
              "      <td>0</td>\n",
              "    </tr>\n",
              "    <tr>\n",
              "      <th>81962</th>\n",
              "      <td>F</td>\n",
              "      <td>45</td>\n",
              "      <td>ITARARÉ</td>\n",
              "      <td>0</td>\n",
              "      <td>0</td>\n",
              "      <td>0</td>\n",
              "      <td>1</td>\n",
              "      <td>0</td>\n",
              "      <td>0</td>\n",
              "      <td>No</td>\n",
              "      <td>1</td>\n",
              "    </tr>\n",
              "    <tr>\n",
              "      <th>108838</th>\n",
              "      <td>F</td>\n",
              "      <td>34</td>\n",
              "      <td>ILHA DE SANTA MARIA</td>\n",
              "      <td>0</td>\n",
              "      <td>0</td>\n",
              "      <td>0</td>\n",
              "      <td>0</td>\n",
              "      <td>0</td>\n",
              "      <td>0</td>\n",
              "      <td>No</td>\n",
              "      <td>0</td>\n",
              "    </tr>\n",
              "    <tr>\n",
              "      <th>100173</th>\n",
              "      <td>M</td>\n",
              "      <td>66</td>\n",
              "      <td>TABUAZEIRO</td>\n",
              "      <td>0</td>\n",
              "      <td>0</td>\n",
              "      <td>0</td>\n",
              "      <td>0</td>\n",
              "      <td>0</td>\n",
              "      <td>0</td>\n",
              "      <td>No</td>\n",
              "      <td>0</td>\n",
              "    </tr>\n",
              "    <tr>\n",
              "      <th>28832</th>\n",
              "      <td>F</td>\n",
              "      <td>34</td>\n",
              "      <td>ROMÃO</td>\n",
              "      <td>1</td>\n",
              "      <td>1</td>\n",
              "      <td>0</td>\n",
              "      <td>0</td>\n",
              "      <td>0</td>\n",
              "      <td>1</td>\n",
              "      <td>Yes</td>\n",
              "      <td>15</td>\n",
              "    </tr>\n",
              "  </tbody>\n",
              "</table>\n",
              "</div>"
            ],
            "text/plain": [
              "       Gender  Age  ... No-show  Waiting_Time_days\n",
              "53487       M   17  ...      No                  0\n",
              "81962       F   45  ...      No                  1\n",
              "108838      F   34  ...      No                  0\n",
              "100173      M   66  ...      No                  0\n",
              "28832       F   34  ...     Yes                 15\n",
              "\n",
              "[5 rows x 11 columns]"
            ]
          },
          "metadata": {
            "tags": []
          },
          "execution_count": 14
        }
      ]
    },
    {
      "cell_type": "code",
      "metadata": {
        "id": "YeA5n44jOOli",
        "colab_type": "code",
        "colab": {
          "base_uri": "https://localhost:8080/",
          "height": 54
        },
        "outputId": "d8825923-8b2e-4d18-cf12-209122a951bc"
      },
      "source": [
        "# Verificando a distribuição das instâncias nas classes\n",
        "ax = sns.countplot(x=dados['No-show'], data=dados)\n",
        "ax.set_title(\"Gráfico1: Show/NoShow\")\n",
        "plt.show()"
      ],
      "execution_count": 15,
      "outputs": [
        {
          "output_type": "display_data",
          "data": {
            "image/png": "[encoded data removed]",
            "text/plain": [
              "<Figure size 432x288 with 1 Axes>"
            ]
          },
          "metadata": {
            "tags": [],
            "needs_background": "light"
          }
        }
      ]
    },
    {
      "cell_type": "code",
      "metadata": {
        "id": "R3hIl1zxLZ8h",
        "colab_type": "code",
        "colab": {
          "base_uri": "https://localhost:8080/",
          "height": 173
        },
        "outputId": "4d419ea1-de9f-4297-a5b8-4c05b295bb80"
      },
      "source": [
        "print(\"Quantidade de registros e percentual por classe\")\n",
        "print(dados.groupby(['No-show']).size()) #print(dados['No-show'].value_counts())\n",
        "show = dados.groupby(['No-show']).size()[0]/(dados.groupby(['No-show']).size()[0]+dados.groupby(['No-show']).size()[1])\n",
        "print(\"\\nPercentual Comparecimento => {:.2f}%\".format(show*100))\n",
        "noshow = dados.groupby(['No-show']).size()[1]/(dados.groupby(['No-show']).size()[0]+dados.groupby(['No-show']).size()[1])\n",
        "print(\"Percentual Falta => {:.2f}%\".format(noshow*100))"
      ],
      "execution_count": 16,
      "outputs": [
        {
          "output_type": "stream",
          "text": [
            "Quantidade de registros e percentual por classe\n",
            "No-show\n",
            "No     88207\n",
            "Yes    22319\n",
            "dtype: int64\n",
            "\n",
            "Percentual Comparecimento => 79.81%\n",
            "Percentual Falta => 20.19%\n"
          ],
          "name": "stdout"
        }
      ]
    },
    {
      "cell_type": "markdown",
      "metadata": {
        "id": "DQ1F0jPOQrTT",
        "colab_type": "text"
      },
      "source": [
        "**Destaques:** analisando **Gráfico1** e os números associados, observa-se o desbalanceamento dos dados, visto que a ausência à consulta ocorre em cerca de 20% dos casos."
      ]
    },
    {
      "cell_type": "markdown",
      "metadata": {
        "id": "pXxq3B0HhFY7",
        "colab_type": "text"
      },
      "source": [
        " ### **Estudo da influência das características para o problema**"
      ]
    },
    {
      "cell_type": "code",
      "metadata": {
        "id": "LUK9zBlSPN9G",
        "colab_type": "code",
        "colab": {
          "base_uri": "https://localhost:8080/",
          "height": 54
        },
        "outputId": "3a655043-642b-4664-84c0-55cc6eccc411"
      },
      "source": [
        "# Quantidade de registros por gênero\n",
        "ax = sns.countplot(x=dados.Gender, hue=dados['No-show'], data=dados)\n",
        "ax.set_title(\"Gráfico2: Quantidade de registros por gênero\")\n",
        "x_ticks_labels=['Mulher', 'Homem']\n",
        "ax.set_xticklabels(x_ticks_labels)\n",
        "plt.show()"
      ],
      "execution_count": 17,
      "outputs": [
        {
          "output_type": "display_data",
          "data": {
            "image/png": "[encoded data removed]",
            "text/plain": [
              "<Figure size 432x288 with 1 Axes>"
            ]
          },
          "metadata": {
            "tags": [],
            "needs_background": "light"
          }
        }
      ]
    },
    {
      "cell_type": "markdown",
      "metadata": {
        "id": "Hi8oUKTlRR0J",
        "colab_type": "text"
      },
      "source": [
        "**Destaques:** o **Gráfico2** exibe que a maioria das consultas são com pacientes mulheres. Analisando apenas as ausências, aparenta-se manter a mesma proporção dos dados gerais. "
      ]
    },
    {
      "cell_type": "code",
      "metadata": {
        "id": "0FMB-LbdRH4Y",
        "colab_type": "code",
        "colab": {
          "base_uri": "https://localhost:8080/",
          "height": 54
        },
        "outputId": "10dea9b9-ca0f-46ba-b613-93245fda9671"
      },
      "source": [
        "# Verificando outliers\n",
        "plt.figure(figsize=(16,2))\n",
        "plt.xticks(rotation=90)\n",
        "plt.title('Boxplot1: Idades')\n",
        "_ = sns.boxplot(x=dados.Age)"
      ],
      "execution_count": 18,
      "outputs": [
        {
          "output_type": "display_data",
          "data": {
            "image/png": "[encoded data removed]",
            "text/plain": [
              "<Figure size 1152x144 with 1 Axes>"
            ]
          },
          "metadata": {
            "tags": [],
            "needs_background": "light"
          }
        }
      ]
    },
    {
      "cell_type": "markdown",
      "metadata": {
        "id": "AwHmffx6fy9Q",
        "colab_type": "text"
      },
      "source": [
        "**Destaques:** No **Boxplot1**, verifica-se que a idade média é próxima de 38, além disso, confirma-se a presença de alguns outliers, mas que não serão descartados por assumir que podem existir na realidade."
      ]
    },
    {
      "cell_type": "code",
      "metadata": {
        "id": "9-cNJeHrsG5R",
        "colab_type": "code",
        "colab": {
          "base_uri": "https://localhost:8080/",
          "height": 54
        },
        "outputId": "dd411b09-d85d-4ae3-998d-702c84377375"
      },
      "source": [
        "plt.figure(figsize=(22,5))\n",
        "plt.xticks(rotation=90)\n",
        "ax = sns.countplot(x=dados.Age)\n",
        "ax.set_title(\"Gráfico3: Número de Consultas por Idade\")\n",
        "plt.show()"
      ],
      "execution_count": 19,
      "outputs": [
        {
          "output_type": "display_data",
          "data": {
            "image/png": "[encoded data removed]",
            "text/plain": [
              "<Figure size 1584x360 with 1 Axes>"
            ]
          },
          "metadata": {
            "tags": [],
            "needs_background": "light"
          }
        }
      ]
    },
    {
      "cell_type": "code",
      "metadata": {
        "id": "utyAbIRSoIEh",
        "colab_type": "code",
        "colab": {
          "base_uri": "https://localhost:8080/",
          "height": 54
        },
        "outputId": "d351d16c-71bb-4103-bb31-c4b1e62f838b"
      },
      "source": [
        "# Verificando se há prevalência de uma certa idade nas ausências/presença às consultas\n",
        "plt.figure(figsize=(22,5))\n",
        "plt.xticks(rotation=90)\n",
        "ax = sns.countplot(x=dados.Age, hue=dados['No-show'])\n",
        "ax.set_title(\"Gráfico4: Ausências/Presenças por Idade\")\n",
        "plt.show()"
      ],
      "execution_count": 20,
      "outputs": [
        {
          "output_type": "display_data",
          "data": {
            "image/png": "[encoded data removed]",
            "text/plain": [
              "<Figure size 1584x360 with 1 Axes>"
            ]
          },
          "metadata": {
            "tags": [],
            "needs_background": "light"
          }
        }
      ]
    },
    {
      "cell_type": "code",
      "metadata": {
        "id": "J3ZnYi3vo-T_",
        "colab_type": "code",
        "colab": {
          "base_uri": "https://localhost:8080/",
          "height": 54
        },
        "outputId": "f7f2d1f5-2517-4708-dad6-4672cf070ec9"
      },
      "source": [
        "age_ratio = dados[dados['No-show'] == 'Yes'].groupby(['Age']).size()/dados.groupby(['Age']).size()\n",
        "plt.figure(figsize=(22,5))\n",
        "plt.xticks(rotation=90)\n",
        "ax = sns.barplot(x=age_ratio.index, y=age_ratio)\n",
        "ax.set_title(\"Gráfico5: Percentual de Ausências por Idade\")\n",
        "plt.show()"
      ],
      "execution_count": 21,
      "outputs": [
        {
          "output_type": "display_data",
          "data": {
            "image/png": "[encoded data removed]",
            "text/plain": [
              "<Figure size 1584x360 with 1 Axes>"
            ]
          },
          "metadata": {
            "tags": [],
            "needs_background": "light"
          }
        }
      ]
    },
    {
      "cell_type": "markdown",
      "metadata": {
        "id": "tWLDMeDHq2Gu",
        "colab_type": "text"
      },
      "source": [
        "**Destaques:** no **Gráfico3**, observa-se que a maioria das consultas são de crianças. Já o **Gráfico4** compara a presença e ausência às consultas por idade, sendo redesenhado para exibir o percentual de ausências por idade no **Gráfico5**. Neste último, verifica-se que os mais velhos faltam menos às consultas, exceto os *outliers* que tem poucos registros de consultas e distorcem o resultado."
      ]
    },
    {
      "cell_type": "code",
      "metadata": {
        "id": "IlJ8ePGqzH3J",
        "colab_type": "code",
        "colab": {
          "base_uri": "https://localhost:8080/",
          "height": 54
        },
        "outputId": "bb2b8c34-216a-4952-c28c-26aec1b23aa8"
      },
      "source": [
        "plt.figure(figsize=(22,5))\n",
        "plt.xticks(rotation=90)\n",
        "ax = sns.countplot(x=np.sort(dados.Neighbourhood), order=dados.Neighbourhood.value_counts().index)\n",
        "ax.set_title(\"Gráfico6: Número de Consultas por Bairro\")\n",
        "plt.show()"
      ],
      "execution_count": 22,
      "outputs": [
        {
          "output_type": "display_data",
          "data": {
            "image/png": "[encoded data removed]",
            "text/plain": [
              "<Figure size 1584x360 with 1 Axes>"
            ]
          },
          "metadata": {
            "tags": [],
            "needs_background": "light"
          }
        }
      ]
    },
    {
      "cell_type": "code",
      "metadata": {
        "id": "CER2p8Pr07An",
        "colab_type": "code",
        "colab": {
          "base_uri": "https://localhost:8080/",
          "height": 54
        },
        "outputId": "088acad4-2a8b-4e63-850f-08f5ad3e45e6"
      },
      "source": [
        "plt.figure(figsize=(22,5))\n",
        "plt.xticks(rotation=90)\n",
        "ax = sns.countplot(x=dados.Neighbourhood, hue=dados['No-show'], order=dados.Neighbourhood.value_counts().index)\n",
        "ax.set_title(\"Gráfico7: Ausências/Presenças por Bairro\")\n",
        "plt.show()"
      ],
      "execution_count": 23,
      "outputs": [
        {
          "output_type": "display_data",
          "data": {
            "image/png": "[encoded data removed]",
            "text/plain": [
              "<Figure size 1584x360 with 1 Axes>"
            ]
          },
          "metadata": {
            "tags": [],
            "needs_background": "light"
          }
        }
      ]
    },
    {
      "cell_type": "code",
      "metadata": {
        "id": "-GlPoc8xaO_e",
        "colab_type": "code",
        "colab": {
          "base_uri": "https://localhost:8080/",
          "height": 54
        },
        "outputId": "81754dab-8ad6-49fc-82e3-de92e43fc699"
      },
      "source": [
        "ax = sns.countplot(x=dados.Scholarship, hue=dados['No-show'], data=dados)\n",
        "ax.set_title(\"Gráfico8: Ausências/Presenças por Beneficiários do Bolsa família\")\n",
        "x_ticks_labels=['Sem bolsa família', 'Bolsa família']\n",
        "ax.set_xticklabels(x_ticks_labels)\n",
        "plt.show()"
      ],
      "execution_count": 24,
      "outputs": [
        {
          "output_type": "display_data",
          "data": {
            "image/png": "[encoded data removed]",
            "text/plain": [
              "<Figure size 432x288 with 1 Axes>"
            ]
          },
          "metadata": {
            "tags": [],
            "needs_background": "light"
          }
        }
      ]
    },
    {
      "cell_type": "code",
      "metadata": {
        "id": "FhK6sX-KbhVE",
        "colab_type": "code",
        "colab": {
          "base_uri": "https://localhost:8080/",
          "height": 54
        },
        "outputId": "71d54e4b-699e-44e5-83e0-45710b60f6f2"
      },
      "source": [
        "ax = sns.countplot(x=dados.Hipertension, hue=dados['No-show'], data=dados)\n",
        "ax.set_title(\"Gráfico9: Ausências/Presenças por Portadores de Hipertensão\")\n",
        "x_ticks_labels=['Sem hipertensão', 'Hipertenso']\n",
        "ax.set_xticklabels(x_ticks_labels)\n",
        "plt.show()"
      ],
      "execution_count": 25,
      "outputs": [
        {
          "output_type": "display_data",
          "data": {
            "image/png": "[encoded data removed]",
            "text/plain": [
              "<Figure size 432x288 with 1 Axes>"
            ]
          },
          "metadata": {
            "tags": [],
            "needs_background": "light"
          }
        }
      ]
    },
    {
      "cell_type": "code",
      "metadata": {
        "id": "MdsHDfOMcLN0",
        "colab_type": "code",
        "colab": {
          "base_uri": "https://localhost:8080/",
          "height": 54
        },
        "outputId": "12babf92-559f-4786-cab8-7abd7e763df8"
      },
      "source": [
        "ax = sns.countplot(x=dados.Diabetes, hue=dados['No-show'], data=dados)\n",
        "ax.set_title(\"Gráfico10: Ausências/Presenças por Portadores de Diabetes\")\n",
        "x_ticks_labels=['Sem Diabetes', 'Diabético']\n",
        "ax.set_xticklabels(x_ticks_labels)\n",
        "plt.show()"
      ],
      "execution_count": 26,
      "outputs": [
        {
          "output_type": "display_data",
          "data": {
            "image/png": "[encoded data removed]",
            "text/plain": [
              "<Figure size 432x288 with 1 Axes>"
            ]
          },
          "metadata": {
            "tags": [],
            "needs_background": "light"
          }
        }
      ]
    },
    {
      "cell_type": "code",
      "metadata": {
        "id": "DeqzjN1Ecf8I",
        "colab_type": "code",
        "colab": {
          "base_uri": "https://localhost:8080/",
          "height": 54
        },
        "outputId": "461d7f91-e96f-483c-9e7e-8aed23f1b1ea"
      },
      "source": [
        "ax = sns.countplot(x=dados.Alcoholism, hue=dados['No-show'], data=dados)\n",
        "ax.set_title(\"Gráfico11: Ausências/Presenças por Portadores de Alcoolismo\")\n",
        "x_ticks_labels=['Não Alcoolatra', 'Alcoolatra']\n",
        "ax.set_xticklabels(x_ticks_labels)\n",
        "plt.show()"
      ],
      "execution_count": 27,
      "outputs": [
        {
          "output_type": "display_data",
          "data": {
            "image/png": "[encoded data removed]",
            "text/plain": [
              "<Figure size 432x288 with 1 Axes>"
            ]
          },
          "metadata": {
            "tags": [],
            "needs_background": "light"
          }
        }
      ]
    },
    {
      "cell_type": "code",
      "metadata": {
        "id": "NPspqsX2c4kJ",
        "colab_type": "code",
        "colab": {
          "base_uri": "https://localhost:8080/",
          "height": 54
        },
        "outputId": "ecf400ab-df9b-40a9-aa01-d2a6248fed67"
      },
      "source": [
        "ax = sns.countplot(x=dados.Handcap, hue=dados['No-show'], data=dados)\n",
        "ax.set_title(\"Gráfico12: Ausências/Presenças por Nível dos Portadores de Deficiências\")\n",
        "plt.show()"
      ],
      "execution_count": 28,
      "outputs": [
        {
          "output_type": "display_data",
          "data": {
            "image/png": "[encoded data removed]",
            "text/plain": [
              "<Figure size 432x288 with 1 Axes>"
            ]
          },
          "metadata": {
            "tags": [],
            "needs_background": "light"
          }
        }
      ]
    },
    {
      "cell_type": "code",
      "metadata": {
        "id": "Lvi-0SlVc664",
        "colab_type": "code",
        "colab": {
          "base_uri": "https://localhost:8080/",
          "height": 54
        },
        "outputId": "c4cd1911-efc7-450d-fd7a-dd67d360b2c0"
      },
      "source": [
        "ax = sns.countplot(x=dados.SMS_received, hue=dados['No-show'], data=dados)\n",
        "ax.set_title(\"Gráfico13: Ausências/Presenças por Paciente que Recebeu SMS\")\n",
        "x_ticks_labels=['Não Recebeu SMS', 'Recebeu SMS']\n",
        "ax.set_xticklabels(x_ticks_labels)\n",
        "plt.show()"
      ],
      "execution_count": 29,
      "outputs": [
        {
          "output_type": "display_data",
          "data": {
            "image/png": "[encoded data removed]",
            "text/plain": [
              "<Figure size 432x288 with 1 Axes>"
            ]
          },
          "metadata": {
            "tags": [],
            "needs_background": "light"
          }
        }
      ]
    },
    {
      "cell_type": "code",
      "metadata": {
        "id": "06ZEeOWVlaJB",
        "colab_type": "code",
        "colab": {
          "base_uri": "https://localhost:8080/",
          "height": 54
        },
        "outputId": "85a38f39-2f85-40d8-863a-b7b0a9dd2906"
      },
      "source": [
        "df_w_ratio = dados[dados['No-show'] == 'Yes'].groupby(['Waiting_Time_days']).size()/dados.groupby(['Waiting_Time_days']).size()\n",
        "plt.figure(figsize=(22,5))\n",
        "ax = sns.barplot(x=df_w_ratio.index, y=df_w_ratio, order=dados.Waiting_Time_days.iloc[:70].index, palette=\"BuGn_d\")\n",
        "ax.set_title(\"Gráfico14: Percentual de Ausências Conforme Dias de Espera para Consulta\")\n",
        "plt.show()"
      ],
      "execution_count": 30,
      "outputs": [
        {
          "output_type": "display_data",
          "data": {
            "image/png": "[encoded data removed]",
            "text/plain": [
              "<Figure size 1584x360 with 1 Axes>"
            ]
          },
          "metadata": {
            "tags": [],
            "needs_background": "light"
          }
        }
      ]
    },
    {
      "cell_type": "markdown",
      "metadata": {
        "id": "HQcTzA-yekMz",
        "colab_type": "text"
      },
      "source": [
        "**Comentários Gerais:** observando os gráficos, na maioria das características não se percebe claramente uma diferença que influencie a presença/ausência à consulta, aparentemente mantendo a proporção existente nos dados gerais. O **Gráfico13** denota mais nitidamente que há uma relação entre quem não compareceu sendo influenciada pela característica recebeu ou não SMS, bem como o **Gráfico14**, onde observa-se que pessoas que marcaram a consulta no mesmo dia do atendimento faltam menos ao compromisso.\n",
        "\n",
        "De forma a ser mais preciso na escolha das características que influenciam a resposta, mais adiante, utilizaremos técnicas para efetuar a seleção automática das características que mais contribuem para determinar a ausência ou presença na consulta."
      ]
    },
    {
      "cell_type": "markdown",
      "metadata": {
        "id": "fUZJGIlQUoQE",
        "colab_type": "text"
      },
      "source": [
        "### **Gerando as bases de treinamento e testes**"
      ]
    },
    {
      "cell_type": "code",
      "metadata": {
        "id": "fpq4Gk00hmcu",
        "colab_type": "code",
        "colab": {
          "base_uri": "https://localhost:8080/",
          "height": 396
        },
        "outputId": "96a78e9e-b9bf-4976-cf48-e607a21c7261"
      },
      "source": [
        "# Usando LabelEncoder para transformar os labels em um valor entre 0 e (número de classes do atributo - 1)\n",
        "le = LabelEncoder()\n",
        "dados['Gender'] = le.fit_transform(dados['Gender'])\n",
        "dados['Neighbourhood'] = le.fit_transform(dados['Neighbourhood'])\n",
        "dados['No-show'] = le.fit_transform(dados['No-show'])\n",
        "dados.sample(10)"
      ],
      "execution_count": 31,
      "outputs": [
        {
          "output_type": "execute_result",
          "data": {
            "text/html": [
              "<div>\n",
              "<style scoped>\n",
              "    .dataframe tbody tr th:only-of-type {\n",
              "        vertical-align: middle;\n",
              "    }\n",
              "\n",
              "    .dataframe tbody tr th {\n",
              "        vertical-align: top;\n",
              "    }\n",
              "\n",
              "    .dataframe thead th {\n",
              "        text-align: right;\n",
              "    }\n",
              "</style>\n",
              "<table border=\"1\" class=\"dataframe\">\n",
              "  <thead>\n",
              "    <tr style=\"text-align: right;\">\n",
              "      <th></th>\n",
              "      <th>Gender</th>\n",
              "      <th>Age</th>\n",
              "      <th>Neighbourhood</th>\n",
              "      <th>Scholarship</th>\n",
              "      <th>Hipertension</th>\n",
              "      <th>Diabetes</th>\n",
              "      <th>Alcoholism</th>\n",
              "      <th>Handcap</th>\n",
              "      <th>SMS_received</th>\n",
              "      <th>No-show</th>\n",
              "      <th>Waiting_Time_days</th>\n",
              "    </tr>\n",
              "  </thead>\n",
              "  <tbody>\n",
              "    <tr>\n",
              "      <th>89110</th>\n",
              "      <td>0</td>\n",
              "      <td>30</td>\n",
              "      <td>1</td>\n",
              "      <td>0</td>\n",
              "      <td>0</td>\n",
              "      <td>0</td>\n",
              "      <td>0</td>\n",
              "      <td>0</td>\n",
              "      <td>1</td>\n",
              "      <td>1</td>\n",
              "      <td>7</td>\n",
              "    </tr>\n",
              "    <tr>\n",
              "      <th>72860</th>\n",
              "      <td>1</td>\n",
              "      <td>62</td>\n",
              "      <td>1</td>\n",
              "      <td>0</td>\n",
              "      <td>1</td>\n",
              "      <td>0</td>\n",
              "      <td>1</td>\n",
              "      <td>0</td>\n",
              "      <td>0</td>\n",
              "      <td>0</td>\n",
              "      <td>0</td>\n",
              "    </tr>\n",
              "    <tr>\n",
              "      <th>21468</th>\n",
              "      <td>0</td>\n",
              "      <td>55</td>\n",
              "      <td>60</td>\n",
              "      <td>0</td>\n",
              "      <td>1</td>\n",
              "      <td>1</td>\n",
              "      <td>0</td>\n",
              "      <td>0</td>\n",
              "      <td>1</td>\n",
              "      <td>0</td>\n",
              "      <td>4</td>\n",
              "    </tr>\n",
              "    <tr>\n",
              "      <th>4965</th>\n",
              "      <td>0</td>\n",
              "      <td>56</td>\n",
              "      <td>78</td>\n",
              "      <td>0</td>\n",
              "      <td>0</td>\n",
              "      <td>0</td>\n",
              "      <td>0</td>\n",
              "      <td>0</td>\n",
              "      <td>0</td>\n",
              "      <td>1</td>\n",
              "      <td>2</td>\n",
              "    </tr>\n",
              "    <tr>\n",
              "      <th>6616</th>\n",
              "      <td>0</td>\n",
              "      <td>60</td>\n",
              "      <td>38</td>\n",
              "      <td>0</td>\n",
              "      <td>0</td>\n",
              "      <td>0</td>\n",
              "      <td>0</td>\n",
              "      <td>0</td>\n",
              "      <td>0</td>\n",
              "      <td>0</td>\n",
              "      <td>2</td>\n",
              "    </tr>\n",
              "    <tr>\n",
              "      <th>5609</th>\n",
              "      <td>0</td>\n",
              "      <td>35</td>\n",
              "      <td>33</td>\n",
              "      <td>0</td>\n",
              "      <td>0</td>\n",
              "      <td>0</td>\n",
              "      <td>0</td>\n",
              "      <td>0</td>\n",
              "      <td>0</td>\n",
              "      <td>0</td>\n",
              "      <td>3</td>\n",
              "    </tr>\n",
              "    <tr>\n",
              "      <th>4579</th>\n",
              "      <td>0</td>\n",
              "      <td>47</td>\n",
              "      <td>30</td>\n",
              "      <td>0</td>\n",
              "      <td>0</td>\n",
              "      <td>0</td>\n",
              "      <td>0</td>\n",
              "      <td>0</td>\n",
              "      <td>1</td>\n",
              "      <td>0</td>\n",
              "      <td>5</td>\n",
              "    </tr>\n",
              "    <tr>\n",
              "      <th>66449</th>\n",
              "      <td>0</td>\n",
              "      <td>7</td>\n",
              "      <td>66</td>\n",
              "      <td>1</td>\n",
              "      <td>0</td>\n",
              "      <td>0</td>\n",
              "      <td>0</td>\n",
              "      <td>0</td>\n",
              "      <td>0</td>\n",
              "      <td>0</td>\n",
              "      <td>0</td>\n",
              "    </tr>\n",
              "    <tr>\n",
              "      <th>59842</th>\n",
              "      <td>0</td>\n",
              "      <td>32</td>\n",
              "      <td>30</td>\n",
              "      <td>0</td>\n",
              "      <td>0</td>\n",
              "      <td>0</td>\n",
              "      <td>0</td>\n",
              "      <td>0</td>\n",
              "      <td>0</td>\n",
              "      <td>0</td>\n",
              "      <td>0</td>\n",
              "    </tr>\n",
              "    <tr>\n",
              "      <th>80651</th>\n",
              "      <td>1</td>\n",
              "      <td>9</td>\n",
              "      <td>65</td>\n",
              "      <td>0</td>\n",
              "      <td>0</td>\n",
              "      <td>0</td>\n",
              "      <td>0</td>\n",
              "      <td>0</td>\n",
              "      <td>1</td>\n",
              "      <td>0</td>\n",
              "      <td>3</td>\n",
              "    </tr>\n",
              "  </tbody>\n",
              "</table>\n",
              "</div>"
            ],
            "text/plain": [
              "       Gender  Age  Neighbourhood  ...  SMS_received  No-show  Waiting_Time_days\n",
              "89110       0   30              1  ...             1        1                  7\n",
              "72860       1   62              1  ...             0        0                  0\n",
              "21468       0   55             60  ...             1        0                  4\n",
              "4965        0   56             78  ...             0        1                  2\n",
              "6616        0   60             38  ...             0        0                  2\n",
              "5609        0   35             33  ...             0        0                  3\n",
              "4579        0   47             30  ...             1        0                  5\n",
              "66449       0    7             66  ...             0        0                  0\n",
              "59842       0   32             30  ...             0        0                  0\n",
              "80651       1    9             65  ...             1        0                  3\n",
              "\n",
              "[10 rows x 11 columns]"
            ]
          },
          "metadata": {
            "tags": []
          },
          "execution_count": 31
        }
      ]
    },
    {
      "cell_type": "code",
      "metadata": {
        "id": "Z5wAGxF-O8Is",
        "colab_type": "code",
        "colab": {
          "base_uri": "https://localhost:8080/",
          "height": 507
        },
        "outputId": "ac0a00a4-4585-4c68-eb2c-acb07bfc4936"
      },
      "source": [
        "# Recuperando os dados \n",
        "X = dados.drop(['No-show'], axis=1)\n",
        "X"
      ],
      "execution_count": 32,
      "outputs": [
        {
          "output_type": "execute_result",
          "data": {
            "text/html": [
              "<div>\n",
              "<style scoped>\n",
              "    .dataframe tbody tr th:only-of-type {\n",
              "        vertical-align: middle;\n",
              "    }\n",
              "\n",
              "    .dataframe tbody tr th {\n",
              "        vertical-align: top;\n",
              "    }\n",
              "\n",
              "    .dataframe thead th {\n",
              "        text-align: right;\n",
              "    }\n",
              "</style>\n",
              "<table border=\"1\" class=\"dataframe\">\n",
              "  <thead>\n",
              "    <tr style=\"text-align: right;\">\n",
              "      <th></th>\n",
              "      <th>Gender</th>\n",
              "      <th>Age</th>\n",
              "      <th>Neighbourhood</th>\n",
              "      <th>Scholarship</th>\n",
              "      <th>Hipertension</th>\n",
              "      <th>Diabetes</th>\n",
              "      <th>Alcoholism</th>\n",
              "      <th>Handcap</th>\n",
              "      <th>SMS_received</th>\n",
              "      <th>Waiting_Time_days</th>\n",
              "    </tr>\n",
              "  </thead>\n",
              "  <tbody>\n",
              "    <tr>\n",
              "      <th>0</th>\n",
              "      <td>0</td>\n",
              "      <td>62</td>\n",
              "      <td>39</td>\n",
              "      <td>0</td>\n",
              "      <td>1</td>\n",
              "      <td>0</td>\n",
              "      <td>0</td>\n",
              "      <td>0</td>\n",
              "      <td>0</td>\n",
              "      <td>0</td>\n",
              "    </tr>\n",
              "    <tr>\n",
              "      <th>1</th>\n",
              "      <td>1</td>\n",
              "      <td>56</td>\n",
              "      <td>39</td>\n",
              "      <td>0</td>\n",
              "      <td>0</td>\n",
              "      <td>0</td>\n",
              "      <td>0</td>\n",
              "      <td>0</td>\n",
              "      <td>0</td>\n",
              "      <td>0</td>\n",
              "    </tr>\n",
              "    <tr>\n",
              "      <th>2</th>\n",
              "      <td>0</td>\n",
              "      <td>62</td>\n",
              "      <td>45</td>\n",
              "      <td>0</td>\n",
              "      <td>0</td>\n",
              "      <td>0</td>\n",
              "      <td>0</td>\n",
              "      <td>0</td>\n",
              "      <td>0</td>\n",
              "      <td>0</td>\n",
              "    </tr>\n",
              "    <tr>\n",
              "      <th>3</th>\n",
              "      <td>0</td>\n",
              "      <td>8</td>\n",
              "      <td>54</td>\n",
              "      <td>0</td>\n",
              "      <td>0</td>\n",
              "      <td>0</td>\n",
              "      <td>0</td>\n",
              "      <td>0</td>\n",
              "      <td>0</td>\n",
              "      <td>0</td>\n",
              "    </tr>\n",
              "    <tr>\n",
              "      <th>4</th>\n",
              "      <td>0</td>\n",
              "      <td>56</td>\n",
              "      <td>39</td>\n",
              "      <td>0</td>\n",
              "      <td>1</td>\n",
              "      <td>1</td>\n",
              "      <td>0</td>\n",
              "      <td>0</td>\n",
              "      <td>0</td>\n",
              "      <td>0</td>\n",
              "    </tr>\n",
              "    <tr>\n",
              "      <th>...</th>\n",
              "      <td>...</td>\n",
              "      <td>...</td>\n",
              "      <td>...</td>\n",
              "      <td>...</td>\n",
              "      <td>...</td>\n",
              "      <td>...</td>\n",
              "      <td>...</td>\n",
              "      <td>...</td>\n",
              "      <td>...</td>\n",
              "      <td>...</td>\n",
              "    </tr>\n",
              "    <tr>\n",
              "      <th>110522</th>\n",
              "      <td>0</td>\n",
              "      <td>56</td>\n",
              "      <td>43</td>\n",
              "      <td>0</td>\n",
              "      <td>0</td>\n",
              "      <td>0</td>\n",
              "      <td>0</td>\n",
              "      <td>0</td>\n",
              "      <td>1</td>\n",
              "      <td>35</td>\n",
              "    </tr>\n",
              "    <tr>\n",
              "      <th>110523</th>\n",
              "      <td>0</td>\n",
              "      <td>51</td>\n",
              "      <td>43</td>\n",
              "      <td>0</td>\n",
              "      <td>0</td>\n",
              "      <td>0</td>\n",
              "      <td>0</td>\n",
              "      <td>0</td>\n",
              "      <td>1</td>\n",
              "      <td>35</td>\n",
              "    </tr>\n",
              "    <tr>\n",
              "      <th>110524</th>\n",
              "      <td>0</td>\n",
              "      <td>21</td>\n",
              "      <td>43</td>\n",
              "      <td>0</td>\n",
              "      <td>0</td>\n",
              "      <td>0</td>\n",
              "      <td>0</td>\n",
              "      <td>0</td>\n",
              "      <td>1</td>\n",
              "      <td>41</td>\n",
              "    </tr>\n",
              "    <tr>\n",
              "      <th>110525</th>\n",
              "      <td>0</td>\n",
              "      <td>38</td>\n",
              "      <td>43</td>\n",
              "      <td>0</td>\n",
              "      <td>0</td>\n",
              "      <td>0</td>\n",
              "      <td>0</td>\n",
              "      <td>0</td>\n",
              "      <td>1</td>\n",
              "      <td>41</td>\n",
              "    </tr>\n",
              "    <tr>\n",
              "      <th>110526</th>\n",
              "      <td>0</td>\n",
              "      <td>54</td>\n",
              "      <td>43</td>\n",
              "      <td>0</td>\n",
              "      <td>0</td>\n",
              "      <td>0</td>\n",
              "      <td>0</td>\n",
              "      <td>0</td>\n",
              "      <td>1</td>\n",
              "      <td>41</td>\n",
              "    </tr>\n",
              "  </tbody>\n",
              "</table>\n",
              "<p>110526 rows × 10 columns</p>\n",
              "</div>"
            ],
            "text/plain": [
              "        Gender  Age  Neighbourhood  ...  Handcap  SMS_received  Waiting_Time_days\n",
              "0            0   62             39  ...        0             0                  0\n",
              "1            1   56             39  ...        0             0                  0\n",
              "2            0   62             45  ...        0             0                  0\n",
              "3            0    8             54  ...        0             0                  0\n",
              "4            0   56             39  ...        0             0                  0\n",
              "...        ...  ...            ...  ...      ...           ...                ...\n",
              "110522       0   56             43  ...        0             1                 35\n",
              "110523       0   51             43  ...        0             1                 35\n",
              "110524       0   21             43  ...        0             1                 41\n",
              "110525       0   38             43  ...        0             1                 41\n",
              "110526       0   54             43  ...        0             1                 41\n",
              "\n",
              "[110526 rows x 10 columns]"
            ]
          },
          "metadata": {
            "tags": []
          },
          "execution_count": 32
        }
      ]
    },
    {
      "cell_type": "code",
      "metadata": {
        "id": "QsM2WhnnPHCB",
        "colab_type": "code",
        "colab": {
          "base_uri": "https://localhost:8080/",
          "height": 241
        },
        "outputId": "c1b8bee2-169e-4a1f-a770-47c49dd92ad7"
      },
      "source": [
        "# Recuperando os rótulos \n",
        "y = dados['No-show']\n",
        "y "
      ],
      "execution_count": 33,
      "outputs": [
        {
          "output_type": "execute_result",
          "data": {
            "text/plain": [
              "0         0\n",
              "1         0\n",
              "2         0\n",
              "3         0\n",
              "4         0\n",
              "         ..\n",
              "110522    0\n",
              "110523    0\n",
              "110524    0\n",
              "110525    0\n",
              "110526    0\n",
              "Name: No-show, Length: 110526, dtype: int64"
            ]
          },
          "metadata": {
            "tags": []
          },
          "execution_count": 33
        }
      ]
    },
    {
      "cell_type": "code",
      "metadata": {
        "id": "fKlOU564PndL",
        "colab_type": "code",
        "colab": {}
      },
      "source": [
        "# Dividindo base de dados em treino e teste (30% para teste)\n",
        "dados_treino, dados_teste, rotulos_treino, rotulos_teste = train_test_split(X, y, test_size=0.3, stratify=y, random_state=42) "
      ],
      "execution_count": 34,
      "outputs": []
    },
    {
      "cell_type": "markdown",
      "metadata": {
        "id": "rig5tE_SVPeF",
        "colab_type": "text"
      },
      "source": [
        "**Importante:** Conforme ressaltou-se na seção anterior, os dados estão desbalanceados, assim, utilizou-se o parâmetro \"stratify=y\" para ter todas as classes em treino e teste."
      ]
    },
    {
      "cell_type": "markdown",
      "metadata": {
        "id": "Ocqd0YbyaMi4",
        "colab_type": "text"
      },
      "source": [
        "### **Seleção dos classificadores e treinamento na base de dados**"
      ]
    },
    {
      "cell_type": "code",
      "metadata": {
        "id": "5D_IkXkfEF09",
        "colab_type": "code",
        "colab": {}
      },
      "source": [
        "# Criando classificadores com os parâmetros default para servir de base de comparação\n",
        "clf_dtc = DecisionTreeClassifier(random_state=42)\n",
        "clf_rf = RandomForestClassifier()\n",
        "clf_knn = KNeighborsClassifier()"
      ],
      "execution_count": 35,
      "outputs": []
    },
    {
      "cell_type": "code",
      "metadata": {
        "id": "0EWsh8_hgf6z",
        "colab_type": "code",
        "colab": {
          "base_uri": "https://localhost:8080/",
          "height": 241
        },
        "outputId": "c3e83474-bac1-4c32-c928-babdc1ac98f8"
      },
      "source": [
        "dados.dtypes"
      ],
      "execution_count": 36,
      "outputs": [
        {
          "output_type": "execute_result",
          "data": {
            "text/plain": [
              "Gender               int64\n",
              "Age                  int64\n",
              "Neighbourhood        int64\n",
              "Scholarship          int64\n",
              "Hipertension         int64\n",
              "Diabetes             int64\n",
              "Alcoholism           int64\n",
              "Handcap              int64\n",
              "SMS_received         int64\n",
              "No-show              int64\n",
              "Waiting_Time_days    int64\n",
              "dtype: object"
            ]
          },
          "metadata": {
            "tags": []
          },
          "execution_count": 36
        }
      ]
    },
    {
      "cell_type": "code",
      "metadata": {
        "id": "xrwi2gCHhOsF",
        "colab_type": "code",
        "colab": {
          "base_uri": "https://localhost:8080/",
          "height": 507
        },
        "outputId": "60d7781b-ba56-4fa6-9727-dc4020727f5b"
      },
      "source": [
        "dados_treino"
      ],
      "execution_count": 37,
      "outputs": [
        {
          "output_type": "execute_result",
          "data": {
            "text/html": [
              "<div>\n",
              "<style scoped>\n",
              "    .dataframe tbody tr th:only-of-type {\n",
              "        vertical-align: middle;\n",
              "    }\n",
              "\n",
              "    .dataframe tbody tr th {\n",
              "        vertical-align: top;\n",
              "    }\n",
              "\n",
              "    .dataframe thead th {\n",
              "        text-align: right;\n",
              "    }\n",
              "</style>\n",
              "<table border=\"1\" class=\"dataframe\">\n",
              "  <thead>\n",
              "    <tr style=\"text-align: right;\">\n",
              "      <th></th>\n",
              "      <th>Gender</th>\n",
              "      <th>Age</th>\n",
              "      <th>Neighbourhood</th>\n",
              "      <th>Scholarship</th>\n",
              "      <th>Hipertension</th>\n",
              "      <th>Diabetes</th>\n",
              "      <th>Alcoholism</th>\n",
              "      <th>Handcap</th>\n",
              "      <th>SMS_received</th>\n",
              "      <th>Waiting_Time_days</th>\n",
              "    </tr>\n",
              "  </thead>\n",
              "  <tbody>\n",
              "    <tr>\n",
              "      <th>61134</th>\n",
              "      <td>1</td>\n",
              "      <td>9</td>\n",
              "      <td>66</td>\n",
              "      <td>0</td>\n",
              "      <td>0</td>\n",
              "      <td>0</td>\n",
              "      <td>0</td>\n",
              "      <td>0</td>\n",
              "      <td>0</td>\n",
              "      <td>0</td>\n",
              "    </tr>\n",
              "    <tr>\n",
              "      <th>109425</th>\n",
              "      <td>1</td>\n",
              "      <td>64</td>\n",
              "      <td>36</td>\n",
              "      <td>0</td>\n",
              "      <td>1</td>\n",
              "      <td>1</td>\n",
              "      <td>0</td>\n",
              "      <td>0</td>\n",
              "      <td>1</td>\n",
              "      <td>4</td>\n",
              "    </tr>\n",
              "    <tr>\n",
              "      <th>22806</th>\n",
              "      <td>0</td>\n",
              "      <td>19</td>\n",
              "      <td>13</td>\n",
              "      <td>0</td>\n",
              "      <td>0</td>\n",
              "      <td>0</td>\n",
              "      <td>0</td>\n",
              "      <td>0</td>\n",
              "      <td>1</td>\n",
              "      <td>23</td>\n",
              "    </tr>\n",
              "    <tr>\n",
              "      <th>96175</th>\n",
              "      <td>1</td>\n",
              "      <td>28</td>\n",
              "      <td>39</td>\n",
              "      <td>0</td>\n",
              "      <td>0</td>\n",
              "      <td>0</td>\n",
              "      <td>0</td>\n",
              "      <td>0</td>\n",
              "      <td>1</td>\n",
              "      <td>5</td>\n",
              "    </tr>\n",
              "    <tr>\n",
              "      <th>68158</th>\n",
              "      <td>0</td>\n",
              "      <td>73</td>\n",
              "      <td>1</td>\n",
              "      <td>0</td>\n",
              "      <td>1</td>\n",
              "      <td>1</td>\n",
              "      <td>0</td>\n",
              "      <td>0</td>\n",
              "      <td>0</td>\n",
              "      <td>28</td>\n",
              "    </tr>\n",
              "    <tr>\n",
              "      <th>...</th>\n",
              "      <td>...</td>\n",
              "      <td>...</td>\n",
              "      <td>...</td>\n",
              "      <td>...</td>\n",
              "      <td>...</td>\n",
              "      <td>...</td>\n",
              "      <td>...</td>\n",
              "      <td>...</td>\n",
              "      <td>...</td>\n",
              "      <td>...</td>\n",
              "    </tr>\n",
              "    <tr>\n",
              "      <th>22678</th>\n",
              "      <td>0</td>\n",
              "      <td>30</td>\n",
              "      <td>74</td>\n",
              "      <td>1</td>\n",
              "      <td>0</td>\n",
              "      <td>0</td>\n",
              "      <td>0</td>\n",
              "      <td>0</td>\n",
              "      <td>0</td>\n",
              "      <td>0</td>\n",
              "    </tr>\n",
              "    <tr>\n",
              "      <th>104926</th>\n",
              "      <td>1</td>\n",
              "      <td>51</td>\n",
              "      <td>66</td>\n",
              "      <td>1</td>\n",
              "      <td>0</td>\n",
              "      <td>0</td>\n",
              "      <td>1</td>\n",
              "      <td>0</td>\n",
              "      <td>0</td>\n",
              "      <td>0</td>\n",
              "    </tr>\n",
              "    <tr>\n",
              "      <th>24908</th>\n",
              "      <td>1</td>\n",
              "      <td>49</td>\n",
              "      <td>43</td>\n",
              "      <td>0</td>\n",
              "      <td>0</td>\n",
              "      <td>0</td>\n",
              "      <td>0</td>\n",
              "      <td>0</td>\n",
              "      <td>0</td>\n",
              "      <td>33</td>\n",
              "    </tr>\n",
              "    <tr>\n",
              "      <th>63178</th>\n",
              "      <td>0</td>\n",
              "      <td>53</td>\n",
              "      <td>38</td>\n",
              "      <td>0</td>\n",
              "      <td>1</td>\n",
              "      <td>0</td>\n",
              "      <td>0</td>\n",
              "      <td>0</td>\n",
              "      <td>0</td>\n",
              "      <td>1</td>\n",
              "    </tr>\n",
              "    <tr>\n",
              "      <th>96317</th>\n",
              "      <td>1</td>\n",
              "      <td>0</td>\n",
              "      <td>70</td>\n",
              "      <td>0</td>\n",
              "      <td>0</td>\n",
              "      <td>0</td>\n",
              "      <td>0</td>\n",
              "      <td>0</td>\n",
              "      <td>1</td>\n",
              "      <td>8</td>\n",
              "    </tr>\n",
              "  </tbody>\n",
              "</table>\n",
              "<p>77368 rows × 10 columns</p>\n",
              "</div>"
            ],
            "text/plain": [
              "        Gender  Age  Neighbourhood  ...  Handcap  SMS_received  Waiting_Time_days\n",
              "61134        1    9             66  ...        0             0                  0\n",
              "109425       1   64             36  ...        0             1                  4\n",
              "22806        0   19             13  ...        0             1                 23\n",
              "96175        1   28             39  ...        0             1                  5\n",
              "68158        0   73              1  ...        0             0                 28\n",
              "...        ...  ...            ...  ...      ...           ...                ...\n",
              "22678        0   30             74  ...        0             0                  0\n",
              "104926       1   51             66  ...        0             0                  0\n",
              "24908        1   49             43  ...        0             0                 33\n",
              "63178        0   53             38  ...        0             0                  1\n",
              "96317        1    0             70  ...        0             1                  8\n",
              "\n",
              "[77368 rows x 10 columns]"
            ]
          },
          "metadata": {
            "tags": []
          },
          "execution_count": 37
        }
      ]
    },
    {
      "cell_type": "code",
      "metadata": {
        "id": "24zlLnLJ3FHw",
        "colab_type": "code",
        "colab": {
          "base_uri": "https://localhost:8080/",
          "height": 139
        },
        "outputId": "3f300fe0-5b17-4807-b5a4-cdd2cab90170"
      },
      "source": [
        "# Treinando classificador DecisionTreeClassifier\n",
        "clf_dtc.fit(dados_treino, rotulos_treino)"
      ],
      "execution_count": 38,
      "outputs": [
        {
          "output_type": "execute_result",
          "data": {
            "text/plain": [
              "DecisionTreeClassifier(ccp_alpha=0.0, class_weight=None, criterion='gini',\n",
              "                       max_depth=None, max_features=None, max_leaf_nodes=None,\n",
              "                       min_impurity_decrease=0.0, min_impurity_split=None,\n",
              "                       min_samples_leaf=1, min_samples_split=2,\n",
              "                       min_weight_fraction_leaf=0.0, presort='deprecated',\n",
              "                       random_state=42, splitter='best')"
            ]
          },
          "metadata": {
            "tags": []
          },
          "execution_count": 38
        }
      ]
    },
    {
      "cell_type": "code",
      "metadata": {
        "id": "ph8cXkcVHaja",
        "colab_type": "code",
        "colab": {
          "base_uri": "https://localhost:8080/",
          "height": 54
        },
        "outputId": "6609a8a3-9783-419a-fdf4-edb77ba29368"
      },
      "source": [
        "# DecisionTreeClassifier: Avaliando com a base de teste a f-measure do modelo gerado\n",
        "predict_dtc = clf_dtc.predict(dados_teste)\n",
        "metrics.f1_score(rotulos_teste, predict_dtc)"
      ],
      "execution_count": 39,
      "outputs": [
        {
          "output_type": "execute_result",
          "data": {
            "text/plain": [
              "0.32901159243441125"
            ]
          },
          "metadata": {
            "tags": []
          },
          "execution_count": 39
        }
      ]
    },
    {
      "cell_type": "code",
      "metadata": {
        "id": "6rRiRrEf2zbr",
        "colab_type": "code",
        "colab": {
          "base_uri": "https://localhost:8080/",
          "height": 173
        },
        "outputId": "40d60237-32dc-4a80-c980-85e57a6e2a83"
      },
      "source": [
        "# Treinando classificador RandomForest\n",
        "clf_rf.fit(dados_treino, rotulos_treino)"
      ],
      "execution_count": 40,
      "outputs": [
        {
          "output_type": "execute_result",
          "data": {
            "text/plain": [
              "RandomForestClassifier(bootstrap=True, ccp_alpha=0.0, class_weight=None,\n",
              "                       criterion='gini', max_depth=None, max_features='auto',\n",
              "                       max_leaf_nodes=None, max_samples=None,\n",
              "                       min_impurity_decrease=0.0, min_impurity_split=None,\n",
              "                       min_samples_leaf=1, min_samples_split=2,\n",
              "                       min_weight_fraction_leaf=0.0, n_estimators=100,\n",
              "                       n_jobs=None, oob_score=False, random_state=None,\n",
              "                       verbose=0, warm_start=False)"
            ]
          },
          "metadata": {
            "tags": []
          },
          "execution_count": 40
        }
      ]
    },
    {
      "cell_type": "code",
      "metadata": {
        "id": "rxqswui3HRl7",
        "colab_type": "code",
        "colab": {
          "base_uri": "https://localhost:8080/",
          "height": 54
        },
        "outputId": "e50d4d1a-1ae5-40f7-9abc-a63cd5cc534a"
      },
      "source": [
        "# RandomForest: Avaliando com a base de teste a f-measure do modelo gerado\n",
        "predict_rf = clf_rf.predict(dados_teste)\n",
        "metrics.f1_score(rotulos_teste, predict_rf)"
      ],
      "execution_count": 41,
      "outputs": [
        {
          "output_type": "execute_result",
          "data": {
            "text/plain": [
              "0.2768009075439592"
            ]
          },
          "metadata": {
            "tags": []
          },
          "execution_count": 41
        }
      ]
    },
    {
      "cell_type": "code",
      "metadata": {
        "id": "mpc6U8tf3K0-",
        "colab_type": "code",
        "colab": {
          "base_uri": "https://localhost:8080/",
          "height": 88
        },
        "outputId": "310dfb23-47ec-4f4e-a991-efa2f64b73a3"
      },
      "source": [
        "# Treinando classificador KNN\n",
        "clf_knn.fit(dados_treino, rotulos_treino)"
      ],
      "execution_count": 42,
      "outputs": [
        {
          "output_type": "execute_result",
          "data": {
            "text/plain": [
              "KNeighborsClassifier(algorithm='auto', leaf_size=30, metric='minkowski',\n",
              "                     metric_params=None, n_jobs=None, n_neighbors=5, p=2,\n",
              "                     weights='uniform')"
            ]
          },
          "metadata": {
            "tags": []
          },
          "execution_count": 42
        }
      ]
    },
    {
      "cell_type": "code",
      "metadata": {
        "id": "UlwimlTYFZpx",
        "colab_type": "code",
        "colab": {
          "base_uri": "https://localhost:8080/",
          "height": 54
        },
        "outputId": "b1fc5787-a209-46ea-d659-b14017188b85"
      },
      "source": [
        "# KNN: Avaliando com a base de teste a f-measure do modelo gerado\n",
        "predict_knn = clf_knn.predict(dados_teste)\n",
        "metrics.f1_score(rotulos_teste, predict_knn)"
      ],
      "execution_count": 43,
      "outputs": [
        {
          "output_type": "execute_result",
          "data": {
            "text/plain": [
              "0.2581081081081081"
            ]
          },
          "metadata": {
            "tags": []
          },
          "execution_count": 43
        }
      ]
    },
    {
      "cell_type": "markdown",
      "metadata": {
        "id": "cGb0V8NJ5RX4",
        "colab_type": "text"
      },
      "source": [
        "### **Avaliando e Comparando os classificadores**"
      ]
    },
    {
      "cell_type": "code",
      "metadata": {
        "id": "-LqC8q0r43Vz",
        "colab_type": "code",
        "colab": {
          "base_uri": "https://localhost:8080/",
          "height": 85
        },
        "outputId": "6bee3944-bb1e-46b7-81c4-abbc2e416bf9"
      },
      "source": [
        "# Avaliando os classificadores com relação à acurácia, precisão, recall e F-measure\n",
        "scoring_list = ['accuracy', 'precision_macro', 'recall_macro', 'f1_macro']\n",
        "\n",
        "# Efetuando uma validação cruzada 4-fold \n",
        "scores_dtc = cross_validate(clf_dtc, X, y, cv=4, scoring=scoring_list)\n",
        "scores_rf = cross_validate(clf_rf, X, y, cv=4, scoring=scoring_list)\n",
        "scores_knn = cross_validate(clf_knn, X, y, cv=4, scoring=scoring_list)\n",
        "\n",
        "avg_scores_dtc = []\n",
        "avg_scores_rf = []\n",
        "avg_scores_knn = []\n",
        "\n",
        "for score in scoring_list:\n",
        "    avg_scores_dtc.append(scores_dtc['test_'+score].mean())\n",
        "    avg_scores_rf.append(scores_rf['test_'+score].mean())\n",
        "    avg_scores_knn.append(scores_knn['test_'+score].mean())\n",
        "\n",
        "# Imprimindo a média das métricas extraídas das 4 execuções da validação cruzada, para cada classificador\n",
        "print('Métricas: acurácia, precisão, recall e F-measure')\n",
        "print('DecisionTreeClassifier - ', avg_scores_dtc)\n",
        "print('Random Forest - ', avg_scores_rf)\n",
        "print('KNN - ', avg_scores_knn)"
      ],
      "execution_count": 44,
      "outputs": [
        {
          "output_type": "stream",
          "text": [
            "Métricas: acurácia, precisão, recall e F-measure\n",
            "DecisionTreeClassifier -  [0.7203554365866809, 0.5607885293587215, 0.5589964228262061, 0.5597007790803866]\n",
            "Random Forest -  [0.7589707860064486, 0.5693880705650249, 0.542592988674856, 0.544132116033236]\n",
            "KNN -  [0.761096988288374, 0.5701704482762726, 0.5414817538788177, 0.5424739539077134]\n"
          ],
          "name": "stdout"
        }
      ]
    },
    {
      "cell_type": "code",
      "metadata": {
        "id": "d3T9IubO8ssH",
        "colab_type": "code",
        "colab": {
          "base_uri": "https://localhost:8080/",
          "height": 554
        },
        "outputId": "b322c51a-a6f3-4478-95e6-2f205f6576e4"
      },
      "source": [
        "df = pd.DataFrame({'DTC': avg_scores_dtc,\n",
        "                   'RF': avg_scores_rf,\n",
        "                   'KNN': avg_scores_knn}, index=scoring_list)\n",
        "ax = df.plot.bar(figsize=(12,8))"
      ],
      "execution_count": 45,
      "outputs": [
        {
          "output_type": "display_data",
          "data": {
            "image/png": "[encoded data removed]",
            "text/plain": [
              "<Figure size 864x576 with 1 Axes>"
            ]
          },
          "metadata": {
            "tags": [],
            "needs_background": "light"
          }
        }
      ]
    },
    {
      "cell_type": "markdown",
      "metadata": {
        "id": "K3YJ6p3pNRS5",
        "colab_type": "text"
      },
      "source": [
        "**Análise:** na avaliação efetuada com os dados em questão, o KNN apresentou os melhores valores nas métricas de acurácia e precisão. Já o DecisionTreeClassifier apresentou melhores valores para recall e F-measure. Como os dados estão desbalanceados e a classe de interesse apresenta-se em menor quantidade, acurácia não é uma boa métrica para basear a escolha do modelo, sendo mais adequada a utilização da F-measure neste contexto, a qual combina precision e recall. Dessa forma, recomenda-se a utilização do DecisionTreeClassifier.\n",
        "\n",
        "Ressalta-se que os valores das métricas de precision, recall e F-measure foram todos  inferiores a 60%, aproximando-se assim da abordagem ingênua. Dessa forma, vamos efetuar uma análise para selecionar as características mais relevantes e reexecutar o estudo, de forma a tentar melhorar tais métricas. \n"
      ]
    },
    {
      "cell_type": "markdown",
      "metadata": {
        "id": "17iNkSv8Z64V",
        "colab_type": "text"
      },
      "source": [
        "### **Selecionando Características e Refazendo a Análise**"
      ]
    },
    {
      "cell_type": "code",
      "metadata": {
        "id": "7yec_nZw32Zi",
        "colab_type": "code",
        "colab": {
          "base_uri": "https://localhost:8080/",
          "height": 390
        },
        "outputId": "569fcbb2-dd31-4871-94ba-d61c1bdb04c7"
      },
      "source": [
        "# Verificando a correlação de Sperman entre os atributos\n",
        "dados_correlacao = dados.corr(method='spearman')\n",
        "dados_correlacao"
      ],
      "execution_count": 46,
      "outputs": [
        {
          "output_type": "execute_result",
          "data": {
            "text/html": [
              "<div>\n",
              "<style scoped>\n",
              "    .dataframe tbody tr th:only-of-type {\n",
              "        vertical-align: middle;\n",
              "    }\n",
              "\n",
              "    .dataframe tbody tr th {\n",
              "        vertical-align: top;\n",
              "    }\n",
              "\n",
              "    .dataframe thead th {\n",
              "        text-align: right;\n",
              "    }\n",
              "</style>\n",
              "<table border=\"1\" class=\"dataframe\">\n",
              "  <thead>\n",
              "    <tr style=\"text-align: right;\">\n",
              "      <th></th>\n",
              "      <th>Gender</th>\n",
              "      <th>Age</th>\n",
              "      <th>Neighbourhood</th>\n",
              "      <th>Scholarship</th>\n",
              "      <th>Hipertension</th>\n",
              "      <th>Diabetes</th>\n",
              "      <th>Alcoholism</th>\n",
              "      <th>Handcap</th>\n",
              "      <th>SMS_received</th>\n",
              "      <th>No-show</th>\n",
              "      <th>Waiting_Time_days</th>\n",
              "    </tr>\n",
              "  </thead>\n",
              "  <tbody>\n",
              "    <tr>\n",
              "      <th>Gender</th>\n",
              "      <td>1.000000</td>\n",
              "      <td>-0.107112</td>\n",
              "      <td>-0.007770</td>\n",
              "      <td>-0.114296</td>\n",
              "      <td>-0.055722</td>\n",
              "      <td>-0.032556</td>\n",
              "      <td>0.106166</td>\n",
              "      <td>0.022437</td>\n",
              "      <td>-0.046302</td>\n",
              "      <td>-0.004122</td>\n",
              "      <td>-0.044786</td>\n",
              "    </tr>\n",
              "    <tr>\n",
              "      <th>Age</th>\n",
              "      <td>-0.107112</td>\n",
              "      <td>1.000000</td>\n",
              "      <td>-0.015279</td>\n",
              "      <td>-0.090105</td>\n",
              "      <td>0.503204</td>\n",
              "      <td>0.293320</td>\n",
              "      <td>0.102265</td>\n",
              "      <td>0.078888</td>\n",
              "      <td>0.015379</td>\n",
              "      <td>-0.061237</td>\n",
              "      <td>0.032991</td>\n",
              "    </tr>\n",
              "    <tr>\n",
              "      <th>Neighbourhood</th>\n",
              "      <td>-0.007770</td>\n",
              "      <td>-0.015279</td>\n",
              "      <td>1.000000</td>\n",
              "      <td>0.001661</td>\n",
              "      <td>0.005847</td>\n",
              "      <td>0.012164</td>\n",
              "      <td>-0.000483</td>\n",
              "      <td>0.011011</td>\n",
              "      <td>0.017521</td>\n",
              "      <td>-0.009511</td>\n",
              "      <td>-0.006639</td>\n",
              "    </tr>\n",
              "    <tr>\n",
              "      <th>Scholarship</th>\n",
              "      <td>-0.114296</td>\n",
              "      <td>-0.090105</td>\n",
              "      <td>0.001661</td>\n",
              "      <td>1.000000</td>\n",
              "      <td>-0.019730</td>\n",
              "      <td>-0.024894</td>\n",
              "      <td>0.035022</td>\n",
              "      <td>-0.009095</td>\n",
              "      <td>0.001192</td>\n",
              "      <td>0.029134</td>\n",
              "      <td>-0.021951</td>\n",
              "    </tr>\n",
              "    <tr>\n",
              "      <th>Hipertension</th>\n",
              "      <td>-0.055722</td>\n",
              "      <td>0.503204</td>\n",
              "      <td>0.005847</td>\n",
              "      <td>-0.019730</td>\n",
              "      <td>1.000000</td>\n",
              "      <td>0.433085</td>\n",
              "      <td>0.087970</td>\n",
              "      <td>0.084845</td>\n",
              "      <td>-0.006270</td>\n",
              "      <td>-0.035704</td>\n",
              "      <td>-0.007694</td>\n",
              "    </tr>\n",
              "    <tr>\n",
              "      <th>Diabetes</th>\n",
              "      <td>-0.032556</td>\n",
              "      <td>0.293320</td>\n",
              "      <td>0.012164</td>\n",
              "      <td>-0.024894</td>\n",
              "      <td>0.433085</td>\n",
              "      <td>1.000000</td>\n",
              "      <td>0.018473</td>\n",
              "      <td>0.059180</td>\n",
              "      <td>-0.014552</td>\n",
              "      <td>-0.015181</td>\n",
              "      <td>-0.020703</td>\n",
              "    </tr>\n",
              "    <tr>\n",
              "      <th>Alcoholism</th>\n",
              "      <td>0.106166</td>\n",
              "      <td>0.102265</td>\n",
              "      <td>-0.000483</td>\n",
              "      <td>0.035022</td>\n",
              "      <td>0.087970</td>\n",
              "      <td>0.018473</td>\n",
              "      <td>1.000000</td>\n",
              "      <td>0.003701</td>\n",
              "      <td>-0.026149</td>\n",
              "      <td>-0.000197</td>\n",
              "      <td>-0.044494</td>\n",
              "    </tr>\n",
              "    <tr>\n",
              "      <th>Handcap</th>\n",
              "      <td>0.022437</td>\n",
              "      <td>0.078888</td>\n",
              "      <td>0.011011</td>\n",
              "      <td>-0.009095</td>\n",
              "      <td>0.084845</td>\n",
              "      <td>0.059180</td>\n",
              "      <td>0.003701</td>\n",
              "      <td>1.000000</td>\n",
              "      <td>-0.025222</td>\n",
              "      <td>-0.007265</td>\n",
              "      <td>-0.029690</td>\n",
              "    </tr>\n",
              "    <tr>\n",
              "      <th>SMS_received</th>\n",
              "      <td>-0.046302</td>\n",
              "      <td>0.015379</td>\n",
              "      <td>0.017521</td>\n",
              "      <td>0.001192</td>\n",
              "      <td>-0.006270</td>\n",
              "      <td>-0.014552</td>\n",
              "      <td>-0.026149</td>\n",
              "      <td>-0.025222</td>\n",
              "      <td>1.000000</td>\n",
              "      <td>0.126428</td>\n",
              "      <td>0.573344</td>\n",
              "    </tr>\n",
              "    <tr>\n",
              "      <th>No-show</th>\n",
              "      <td>-0.004122</td>\n",
              "      <td>-0.061237</td>\n",
              "      <td>-0.009511</td>\n",
              "      <td>0.029134</td>\n",
              "      <td>-0.035704</td>\n",
              "      <td>-0.015181</td>\n",
              "      <td>-0.000197</td>\n",
              "      <td>-0.007265</td>\n",
              "      <td>0.126428</td>\n",
              "      <td>1.000000</td>\n",
              "      <td>0.281645</td>\n",
              "    </tr>\n",
              "    <tr>\n",
              "      <th>Waiting_Time_days</th>\n",
              "      <td>-0.044786</td>\n",
              "      <td>0.032991</td>\n",
              "      <td>-0.006639</td>\n",
              "      <td>-0.021951</td>\n",
              "      <td>-0.007694</td>\n",
              "      <td>-0.020703</td>\n",
              "      <td>-0.044494</td>\n",
              "      <td>-0.029690</td>\n",
              "      <td>0.573344</td>\n",
              "      <td>0.281645</td>\n",
              "      <td>1.000000</td>\n",
              "    </tr>\n",
              "  </tbody>\n",
              "</table>\n",
              "</div>"
            ],
            "text/plain": [
              "                     Gender       Age  ...   No-show  Waiting_Time_days\n",
              "Gender             1.000000 -0.107112  ... -0.004122          -0.044786\n",
              "Age               -0.107112  1.000000  ... -0.061237           0.032991\n",
              "Neighbourhood     -0.007770 -0.015279  ... -0.009511          -0.006639\n",
              "Scholarship       -0.114296 -0.090105  ...  0.029134          -0.021951\n",
              "Hipertension      -0.055722  0.503204  ... -0.035704          -0.007694\n",
              "Diabetes          -0.032556  0.293320  ... -0.015181          -0.020703\n",
              "Alcoholism         0.106166  0.102265  ... -0.000197          -0.044494\n",
              "Handcap            0.022437  0.078888  ... -0.007265          -0.029690\n",
              "SMS_received      -0.046302  0.015379  ...  0.126428           0.573344\n",
              "No-show           -0.004122 -0.061237  ...  1.000000           0.281645\n",
              "Waiting_Time_days -0.044786  0.032991  ...  0.281645           1.000000\n",
              "\n",
              "[11 rows x 11 columns]"
            ]
          },
          "metadata": {
            "tags": []
          },
          "execution_count": 46
        }
      ]
    },
    {
      "cell_type": "code",
      "metadata": {
        "id": "pvPa2FGT0dyh",
        "colab_type": "code",
        "colab": {
          "base_uri": "https://localhost:8080/",
          "height": 372
        },
        "outputId": "3a5be797-b9e9-4026-8206-0bc8d6b15f6f"
      },
      "source": [
        "# Mapa de calor com valores da correlação\n",
        "sns.heatmap(dados_correlacao, yticklabels=False, cbar=True, cmap='viridis')"
      ],
      "execution_count": 47,
      "outputs": [
        {
          "output_type": "execute_result",
          "data": {
            "text/plain": [
              "<matplotlib.axes._subplots.AxesSubplot at 0x7f3f6e2f8160>"
            ]
          },
          "metadata": {
            "tags": []
          },
          "execution_count": 47
        },
        {
          "output_type": "display_data",
          "data": {
            "image/png": "[encoded data removed]",
            "text/plain": [
              "<Figure size 432x288 with 2 Axes>"
            ]
          },
          "metadata": {
            "tags": [],
            "needs_background": "light"
          }
        }
      ]
    },
    {
      "cell_type": "markdown",
      "metadata": {
        "id": "UdLJW-CV5E3d",
        "colab_type": "text"
      },
      "source": [
        "**Análise:** Após analisar a correlação dos atributos com o resultado da classe, observa-se que as colunas Gender, Neighbourhood, Alcoholism e Handcap apresentam valor quase nulo, denotando pouca relevância e sendo candidatas a exclusão. \n",
        "\n",
        "A seguir, faremos uma análise mais ampla das características para selecionar os atributos mais relevantes e, então, refazer o estudo."
      ]
    },
    {
      "cell_type": "code",
      "metadata": {
        "id": "OdhqXQCXvS7M",
        "colab_type": "code",
        "colab": {
          "base_uri": "https://localhost:8080/",
          "height": 204
        },
        "outputId": "244904e0-0efc-4bd6-f63f-6415b3e16598"
      },
      "source": [
        "print(\"Feature Importance - DecisionTreeClassifier:\")\n",
        "for name, importance in zip(X.columns, np.sort(clf_dtc.feature_importances_)[::-1]):\n",
        "    print(\"{} -- {:.2f}\".format(name, importance))"
      ],
      "execution_count": 48,
      "outputs": [
        {
          "output_type": "stream",
          "text": [
            "Feature Importance - DecisionTreeClassifier:\n",
            "Gender -- 0.32\n",
            "Age -- 0.28\n",
            "Neighbourhood -- 0.27\n",
            "Scholarship -- 0.04\n",
            "Hipertension -- 0.02\n",
            "Diabetes -- 0.02\n",
            "Alcoholism -- 0.02\n",
            "Handcap -- 0.01\n",
            "SMS_received -- 0.01\n",
            "Waiting_Time_days -- 0.01\n"
          ],
          "name": "stdout"
        }
      ]
    },
    {
      "cell_type": "code",
      "metadata": {
        "id": "gqIu2hKrwoPd",
        "colab_type": "code",
        "colab": {
          "base_uri": "https://localhost:8080/",
          "height": 204
        },
        "outputId": "ddd3f6a3-5921-4be1-cfd2-760aa13e4768"
      },
      "source": [
        "print(\"Feature Importance - RandomForest:\")\n",
        "for name, importance in zip(X.columns, np.sort(clf_rf.feature_importances_)[::-1]):\n",
        "    print(\"{} -- {:.2f}\".format(name, importance))"
      ],
      "execution_count": 49,
      "outputs": [
        {
          "output_type": "stream",
          "text": [
            "Feature Importance - RandomForest:\n",
            "Gender -- 0.32\n",
            "Age -- 0.31\n",
            "Neighbourhood -- 0.30\n",
            "Scholarship -- 0.02\n",
            "Hipertension -- 0.01\n",
            "Diabetes -- 0.01\n",
            "Alcoholism -- 0.01\n",
            "Handcap -- 0.01\n",
            "SMS_received -- 0.01\n",
            "Waiting_Time_days -- 0.01\n"
          ],
          "name": "stdout"
        }
      ]
    },
    {
      "cell_type": "code",
      "metadata": {
        "id": "UVlxMaXwRLyz",
        "colab_type": "code",
        "colab": {
          "base_uri": "https://localhost:8080/",
          "height": 663
        },
        "outputId": "e9546bff-68e7-4140-f1a0-f6e2fd4d8c49"
      },
      "source": [
        "print('========= DecisionTreeClassifier')\n",
        "# DecisionTreeClassifier: seleção de features baseada na importância\n",
        "print('====> Seleção baseada na Importância')\n",
        "selector_dtc_sfm = SelectFromModel(clf_dtc)\n",
        "selector_dtc_sfm = selector_dtc_sfm.fit(X, y)\n",
        "X_dtc_sfm = selector_dtc_sfm.transform(X)\n",
        "\n",
        "print('## Features selecionadas')\n",
        "sel = selector_dtc_sfm.get_support(True)\n",
        "for s in sel:\n",
        "  print(X.columns[s])\n",
        "\n",
        "# DecisionTreeClassifier: seleção de features via eliminação recursiva \n",
        "print('====> Eliminação recursiva')\n",
        "selector_dtc_rfe = RFE(clf_dtc, n_features_to_select=5, step=1) \n",
        "selector_dtc_rfe = selector_dtc_rfe.fit(X, y)\n",
        "X_dtc_rfe = selector_dtc_rfe.transform(X)\n",
        "\n",
        "print('## Relevância das Features')\n",
        "size = len(X.columns)\n",
        "for i in range(size):\n",
        "  print(X.columns[i], selector_dtc_rfe.ranking_[i])\n",
        "\n",
        "print('## Features selecionadas')\n",
        "sel = selector_dtc_rfe.get_support(True)\n",
        "for s in sel:\n",
        "  print(X.columns[s])\n",
        "\n",
        "# DecisionTreeClassifier: seleção de features via eliminação recursiva com validação cruzada 5-fold \n",
        "print('====> Eliminação recursiva com validação cruzada 5-fold')\n",
        "selector_dtc_rfecv = RFECV(clf_dtc, step=1, cv=5)\n",
        "selector_dtc_rfecv = selector_dtc_rfecv.fit(X, y)\n",
        "X_dtc_rfecv = selector_dtc_rfecv.transform(X)\n",
        "\n",
        "print('## Relevância das Features')\n",
        "size = len(X.columns)\n",
        "for i in range(size):\n",
        "  print(X.columns[i], selector_dtc_rfecv.ranking_[i])\n",
        "\n",
        "print('## Features selecionadas')\n",
        "sel = selector_dtc_rfecv.get_support(True)\n",
        "for s in sel:\n",
        "  print(X.columns[s])"
      ],
      "execution_count": 50,
      "outputs": [
        {
          "output_type": "stream",
          "text": [
            "========= DecisionTreeClassifier\n",
            "====> Seleção baseada na Importância\n",
            "## Features selecionadas\n",
            "Age\n",
            "Neighbourhood\n",
            "Waiting_Time_days\n",
            "====> Eliminação recursiva\n",
            "## Relevância das Features\n",
            "Gender 1\n",
            "Age 1\n",
            "Neighbourhood 1\n",
            "Scholarship 3\n",
            "Hipertension 1\n",
            "Diabetes 5\n",
            "Alcoholism 6\n",
            "Handcap 4\n",
            "SMS_received 2\n",
            "Waiting_Time_days 1\n",
            "## Features selecionadas\n",
            "Gender\n",
            "Age\n",
            "Neighbourhood\n",
            "Hipertension\n",
            "Waiting_Time_days\n",
            "====> Eliminação recursiva com validação cruzada 5-fold\n",
            "## Relevância das Features\n",
            "Gender 4\n",
            "Age 3\n",
            "Neighbourhood 2\n",
            "Scholarship 7\n",
            "Hipertension 5\n",
            "Diabetes 9\n",
            "Alcoholism 10\n",
            "Handcap 8\n",
            "SMS_received 6\n",
            "Waiting_Time_days 1\n",
            "## Features selecionadas\n",
            "Waiting_Time_days\n"
          ],
          "name": "stdout"
        }
      ]
    },
    {
      "cell_type": "code",
      "metadata": {
        "id": "dhjQ97y5nqLU",
        "colab_type": "code",
        "colab": {
          "base_uri": "https://localhost:8080/",
          "height": 425
        },
        "outputId": "5dc0c72a-3269-48a3-be39-74eb7077d1d2"
      },
      "source": [
        "print('========= Random Forest')\n",
        "# Random Forest: seleção de features baseada na importância\n",
        "print('====> Seleção baseada na Importância')\n",
        "selector_rf_sfm = SelectFromModel(clf_rf)\n",
        "selector_rf_sfm = selector_rf_sfm.fit(X, y)\n",
        "X_rf_sfm = selector_rf_sfm.transform(X)\n",
        "\n",
        "print('## Features selecionadas')\n",
        "sel = selector_rf_sfm.get_support(True)\n",
        "for s in sel:\n",
        "  print(X.columns[s])\n",
        "\n",
        "# Random Forest: seleção de features via eliminação recursiva \n",
        "print('====> Eliminação recursiva')\n",
        "selector_rf_rfe = RFE(clf_rf, n_features_to_select=5, step=1) \n",
        "selector_rf_rfe = selector_rf_rfe.fit(X, y)\n",
        "X_rf_rfe = selector_rf_rfe.transform(X)\n",
        "\n",
        "print('## Relevância das Features')\n",
        "size = len(X.columns)\n",
        "for i in range(size):\n",
        "  print(X.columns[i], selector_rf_rfe.ranking_[i])\n",
        "\n",
        "print('## Features selecionadas')\n",
        "sel = selector_rf_rfe.get_support(True)\n",
        "for s in sel:\n",
        "  print(X.columns[s])\n"
      ],
      "execution_count": 51,
      "outputs": [
        {
          "output_type": "stream",
          "text": [
            "========= Random Forest\n",
            "====> Seleção baseada na Importância\n",
            "## Features selecionadas\n",
            "Age\n",
            "Neighbourhood\n",
            "Waiting_Time_days\n",
            "====> Eliminação recursiva\n",
            "## Relevância das Features\n",
            "Gender 1\n",
            "Age 1\n",
            "Neighbourhood 1\n",
            "Scholarship 3\n",
            "Hipertension 2\n",
            "Diabetes 4\n",
            "Alcoholism 6\n",
            "Handcap 5\n",
            "SMS_received 1\n",
            "Waiting_Time_days 1\n",
            "## Features selecionadas\n",
            "Gender\n",
            "Age\n",
            "Neighbourhood\n",
            "SMS_received\n",
            "Waiting_Time_days\n"
          ],
          "name": "stdout"
        }
      ]
    },
    {
      "cell_type": "code",
      "metadata": {
        "id": "oHC5hGWHXtvo",
        "colab_type": "code",
        "colab": {
          "base_uri": "https://localhost:8080/",
          "height": 255
        },
        "outputId": "68a41c5e-1f2c-4ef9-8b38-4ae014dfbf2b"
      },
      "source": [
        "# Random Forest: seleção de features via eliminação recursiva com validação cruzada 5-fold \n",
        "print('====> Eliminação recursiva com validação cruzada 5-fold')\n",
        "selector_rf_rfecv = RFECV(clf_rf, step=1, cv=5)\n",
        "selector_rf_rfecv = selector_rf_rfecv.fit(X, y)\n",
        "X_rf_rfecv = selector_rf_rfecv.transform(X)\n",
        "\n",
        "print('## Relevância das Features')\n",
        "size = len(X.columns)\n",
        "for i in range(size):\n",
        "  print(X.columns[i], selector_rf_rfecv.ranking_[i])\n",
        "\n",
        "print('## Features selecionadas')\n",
        "sel = selector_rf_rfecv.get_support(True)\n",
        "for s in sel:\n",
        "  print(X.columns[s])"
      ],
      "execution_count": 52,
      "outputs": [
        {
          "output_type": "stream",
          "text": [
            "====> Eliminação recursiva com validação cruzada 5-fold\n",
            "## Relevância das Features\n",
            "Gender 4\n",
            "Age 2\n",
            "Neighbourhood 3\n",
            "Scholarship 9\n",
            "Hipertension 6\n",
            "Diabetes 8\n",
            "Alcoholism 10\n",
            "Handcap 7\n",
            "SMS_received 5\n",
            "Waiting_Time_days 1\n",
            "## Features selecionadas\n",
            "Waiting_Time_days\n"
          ],
          "name": "stdout"
        }
      ]
    },
    {
      "cell_type": "code",
      "metadata": {
        "id": "ynNWCJUh7iZa",
        "colab_type": "code",
        "colab": {
          "base_uri": "https://localhost:8080/",
          "height": 221
        },
        "outputId": "d6e8d8ea-4452-4073-e43d-d399ea28e7f7"
      },
      "source": [
        "# Seleção dos melhores parâmetros do KNN através de GridSearch\n",
        "params={\n",
        "'n_neighbors':[1, 3, 5, 11],\n",
        "'weights':['uniform', 'distance'],\n",
        "'algorithm':['auto', 'ball_tree', 'kd_tree', 'brute']}\n",
        "\n",
        "best_model_knn = GridSearchCV(clf_knn, params, cv=5, n_jobs=-1, verbose=1)\n",
        "print(best_model_knn)"
      ],
      "execution_count": 53,
      "outputs": [
        {
          "output_type": "stream",
          "text": [
            "GridSearchCV(cv=5, error_score=nan,\n",
            "             estimator=KNeighborsClassifier(algorithm='auto', leaf_size=30,\n",
            "                                            metric='minkowski',\n",
            "                                            metric_params=None, n_jobs=None,\n",
            "                                            n_neighbors=5, p=2,\n",
            "                                            weights='uniform'),\n",
            "             iid='deprecated', n_jobs=-1,\n",
            "             param_grid={'algorithm': ['auto', 'ball_tree', 'kd_tree', 'brute'],\n",
            "                         'n_neighbors': [1, 3, 5, 11],\n",
            "                         'weights': ['uniform', 'distance']},\n",
            "             pre_dispatch='2*n_jobs', refit=True, return_train_score=False,\n",
            "             scoring=None, verbose=1)\n"
          ],
          "name": "stdout"
        }
      ]
    },
    {
      "cell_type": "code",
      "metadata": {
        "id": "4huPNTMrX8RJ",
        "colab_type": "code",
        "colab": {
          "base_uri": "https://localhost:8080/",
          "height": 173
        },
        "outputId": "fda18160-baf5-4754-ca5c-a8bbddd9121f"
      },
      "source": [
        "# Treinando o KNN selecionado e imprimindo seus parâmetros e métricas\n",
        "best_model_knn.fit(X, y)\n",
        "print(best_model_knn.best_params_)\n",
        "print(best_model_knn.best_score_)\n",
        "# melhor_knn = {'algorithm': 'ball_tree', 'n_neighbors': 11, 'weights': 'uniform'}"
      ],
      "execution_count": 54,
      "outputs": [
        {
          "output_type": "stream",
          "text": [
            "Fitting 5 folds for each of 32 candidates, totalling 160 fits\n"
          ],
          "name": "stdout"
        },
        {
          "output_type": "stream",
          "text": [
            "[Parallel(n_jobs=-1)]: Using backend LokyBackend with 2 concurrent workers.\n",
            "[Parallel(n_jobs=-1)]: Done  46 tasks      | elapsed:   37.0s\n",
            "/usr/local/lib/python3.6/dist-packages/joblib/externals/loky/process_executor.py:691: UserWarning: A worker stopped while some jobs were given to the executor. This can be caused by a too short worker timeout or by a memory leak.\n",
            "  \"timeout or by a memory leak.\", UserWarning\n",
            "[Parallel(n_jobs=-1)]: Done 160 out of 160 | elapsed: 16.4min finished\n"
          ],
          "name": "stderr"
        },
        {
          "output_type": "stream",
          "text": [
            "{'algorithm': 'ball_tree', 'n_neighbors': 11, 'weights': 'uniform'}\n",
            "0.778757897242979\n"
          ],
          "name": "stdout"
        }
      ]
    },
    {
      "cell_type": "code",
      "metadata": {
        "id": "AY9njWLlYUFy",
        "colab_type": "code",
        "colab": {}
      },
      "source": [
        "# DTC: Efetuando nova validação cruzada 4-fold após a seleção de features\n",
        "scores_dtc_sfm = cross_validate(clf_dtc, X_dtc_sfm, y, cv=4, scoring=scoring_list)\n",
        "scores_dtc_rfe = cross_validate(clf_dtc, X_dtc_rfe, y, cv=4, scoring=scoring_list)\n",
        "scores_dtc_rfecv = cross_validate(clf_dtc, X_dtc_rfecv, y, cv=4, scoring=scoring_list)"
      ],
      "execution_count": 58,
      "outputs": []
    },
    {
      "cell_type": "code",
      "metadata": {
        "id": "yu86Q_G0YUwS",
        "colab_type": "code",
        "colab": {}
      },
      "source": [
        "# RF: Efetuando nova validação cruzada 4-fold após a seleção de features \n",
        "scores_rf_sfm = cross_validate(clf_rf, X_rf_sfm, y, cv=4, scoring=scoring_list)\n",
        "scores_rf_rfe = cross_validate(clf_rf, X_rf_rfe, y, cv=4, scoring=scoring_list)\n",
        "scores_rf_rfecv = cross_validate(clf_rf, X_rf_rfecv, y, cv=4, scoring=scoring_list)"
      ],
      "execution_count": 59,
      "outputs": []
    },
    {
      "cell_type": "code",
      "metadata": {
        "id": "53h_jo4tYxf_",
        "colab_type": "code",
        "colab": {}
      },
      "source": [
        "# KNN: Efetuando nova validação cruzada 4-fold após a definição de novos parâmetros\n",
        "melhor_knn = KNeighborsClassifier(algorithm='ball_tree', n_neighbors=11, weights='uniform')\n",
        "scores_knn_new = cross_validate(melhor_knn, X, y, cv=4, scoring=scoring_list)"
      ],
      "execution_count": 61,
      "outputs": []
    },
    {
      "cell_type": "code",
      "metadata": {
        "id": "zFSoRPOJmZS2",
        "colab_type": "code",
        "colab": {
          "base_uri": "https://localhost:8080/",
          "height": 204
        },
        "outputId": "713a103b-b22a-40db-dc35-5ad4f4d4dda8"
      },
      "source": [
        "avg_scores_dtc_sfm = []\n",
        "avg_scores_dtc_rfe = []\n",
        "avg_scores_dtc_rfecv = []\n",
        "avg_scores_rf_sfm = []\n",
        "avg_scores_rf_rfe = []\n",
        "avg_scores_rf_rfecv = []\n",
        "avg_scores_knn_new = []\n",
        "\n",
        "for score in scoring_list:\n",
        "    avg_scores_dtc_sfm.append(scores_dtc_sfm['test_'+score].mean())\n",
        "    avg_scores_dtc_rfe.append(scores_dtc_rfe['test_'+score].mean())\n",
        "    avg_scores_dtc_rfecv.append(scores_dtc_rfecv['test_'+score].mean())\n",
        "    avg_scores_rf_sfm.append(scores_rf_sfm['test_'+score].mean())\n",
        "    avg_scores_rf_rfe.append(scores_rf_rfe['test_'+score].mean())\n",
        "    avg_scores_rf_rfecv.append(scores_rf_rfecv['test_'+score].mean())\n",
        "    avg_scores_knn_new.append(scores_knn_new['test_'+score].mean())\n",
        "\n",
        "# Imprimindo a média das métricas extraídas das 4 execuções da validação cruzada, para cada classificador\n",
        "print('Métricas: acurácia, precisão, recall e F-measure')\n",
        "print('DecisionTreeClassifier - Inicial: ', avg_scores_dtc)\n",
        "print('DecisionTreeClassifier - SFM: ', avg_scores_dtc_sfm)\n",
        "print('DecisionTreeClassifier - RFE: ', avg_scores_dtc_rfe)\n",
        "print('DecisionTreeClassifier - RFECV: ', avg_scores_dtc_rfecv)\n",
        "\n",
        "print('Random Forest - Inicial: ', avg_scores_rf)\n",
        "print('Random Forest - SFM: ', avg_scores_rf_sfm)\n",
        "print('Random Forest - RFE: ', avg_scores_rf_rfe)\n",
        "print('Random Forest - RFECV: ', avg_scores_rf_rfecv)\n",
        "\n",
        "print('KNN - Inicial: ', avg_scores_knn)\n",
        "print('KNN - Melhor modelo: ', avg_scores_knn_new)"
      ],
      "execution_count": 62,
      "outputs": [
        {
          "output_type": "stream",
          "text": [
            "Métricas: acurácia, precisão, recall e F-measure\n",
            "DecisionTreeClassifier - Inicial:  [0.7203554365866809, 0.5607885293587215, 0.5589964228262061, 0.5597007790803866]\n",
            "DecisionTreeClassifier - SFM:  [0.734885962156228, 0.5648909963349877, 0.5558503531626282, 0.5587482038931861]\n",
            "DecisionTreeClassifier - RFE:  [0.72658928864515, 0.5631561311596414, 0.55863452527118, 0.5604016834781749]\n",
            "DecisionTreeClassifier - RFECV:  [0.7970160691281498, 0.5622680295991596, 0.5003298639714235, 0.44607561572049204]\n",
            "Random Forest - Inicial:  [0.7589707860064486, 0.5693880705650249, 0.542592988674856, 0.544132116033236]\n",
            "Random Forest - SFM:  [0.75312599757722, 0.5681602047613328, 0.5464443633050904, 0.5492553435988335]\n",
            "Random Forest - RFE:  [0.7544560123468901, 0.5640826869969833, 0.5413207016218491, 0.5428511056793484]\n",
            "Random Forest - RFECV:  [0.7963736747160765, 0.5727557467714324, 0.5004964153035576, 0.44729268250805304]\n",
            "KNN - Inicial:  [0.761096988288374, 0.5701704482762726, 0.5414817538788177, 0.5424739539077134]\n",
            "KNN - Melhor modelo:  [0.7782603305542224, 0.5752490473691227, 0.5275021794681155, 0.5175231396503805]\n"
          ],
          "name": "stdout"
        }
      ]
    },
    {
      "cell_type": "code",
      "metadata": {
        "id": "Ju87uF4EBX8R",
        "colab_type": "code",
        "colab": {
          "base_uri": "https://localhost:8080/",
          "height": 787
        },
        "outputId": "83fc0327-5891-4353-b471-c2930f5d25c0"
      },
      "source": [
        "# Melhores classificadores em cada algoritmo após seleção de características relevantes\n",
        "df = pd.DataFrame({'DTC - RFE': avg_scores_dtc_rfe,\n",
        "                   'RF - SFM': avg_scores_rf_sfm,\n",
        "                   'KNN - Inicial': avg_scores_knn}, index=scoring_list)\n",
        "ax = df.plot.bar(figsize=(18,12), title='Comparação Final')"
      ],
      "execution_count": 63,
      "outputs": [
        {
          "output_type": "display_data",
          "data": {
            "image/png": "[encoded data removed]",
            "text/plain": [
              "<Figure size 1296x864 with 1 Axes>"
            ]
          },
          "metadata": {
            "tags": [],
            "needs_background": "light"
          }
        }
      ]
    },
    {
      "cell_type": "markdown",
      "metadata": {
        "id": "QXy0Zsi6vIGe",
        "colab_type": "text"
      },
      "source": [
        "**Análise:** utilizou-se seleção de *features* através de três recursos distintos disponibilizados no sklearn, a saber: SelectFromModel (baseia-ne na importância das features), RFE (seleção recursiva de features, onde as menos importantes vão sendo excluídas a cada passo) e RFECV (seleção recursiva de features combinada com validação cruzada).\n",
        "\n",
        "Tais técnicas não são suportadas pelo KNN, por isso não foram aplicadas neste classificador. Para compensar, variou-se os seguintes parâmetros para ter outras possibilidades de comparação: número de vizinhos, ponderação da distância e o algoritmo usado para calcular a distância. Realizou-se uma GridSearch para escolher o melhor modelo baseado na acurácia e então procedeu-se a uma nova execução da validação cruzada.\n",
        "\n",
        "Conforme comentado na seção anterior, considerando os dados desbalanceados do estudo em questão, a escolha dos melhores modelos de cada classificador foi feita com base na medida F-measure, visto que ela combina recall e precision ao invés de considerar apenas a acurácia. O gráfico **Comparação Final** apresenta a comparação entre as métricas dos melhores modelos após a seleção de características, servindo como subsídio para a discussão.  \n",
        "\n",
        "Passando à análise dos resultados dos diversos algoritmos, observou-se que o DecisionTreeClassifier com a seleção através de RFE apresentou melhor f-measure, sendo o primeiro indicado para a aplicação em questão. Ressalta-se ainda que as diferenças entre as f-measure dos melhores de cada modelo não foram significativas, sendo possível a utilização de qualquer um deles. Também destaca-se que as f-measure permaneceram abaixo de 60% mesmo após a seleção das características. \n",
        "\n",
        "Assim, pelo modelo escolhido, teria-se aproximadamente 56,31% de acertos da ausência, ao mesmo tempo que cerca de 55,86% das ausências seriam identificadas. Os resultados ainda aproximam-se da aborgadem ingênua e sugere-se a avaliação de outros modelos para tratar o caso ou ainda a utilização de novas características mais relevantes para o resultado."
      ]
    }
  ]
}