{
  "nbformat": 4,
  "nbformat_minor": 0,
  "metadata": {
    "colab": {
      "name": "ExercicioListaAtividade2-VivianneMedeiros.ipynb",
      "provenance": [],
      "collapsed_sections": [],
      "authorship_tag": "ABX9TyMQl6y0PMBNWQ6up9F6x3EC",
      "include_colab_link": true
    },
    "kernelspec": {
      "name": "python3",
      "display_name": "Python 3"
    }
  },
  "cells": [
    {
      "cell_type": "markdown",
      "metadata": {
        "id": "view-in-github",
        "colab_type": "text"
      },
      "source": [
        "<a href=\"https://colab.research.google.com/github/viviannemedeiros/modelosPreditivos/blob/master/ExercicioListaAtividade2_VivianneMedeiros.ipynb\" target=\"_parent\"><img src=\"https://colab.research.google.com/assets/colab-badge.svg\" alt=\"Open In Colab\"/></a>"
      ]
    },
    {
      "cell_type": "markdown",
      "metadata": {
        "id": "OS8YN2kiGxro",
        "colab_type": "text"
      },
      "source": [
        "**Projeto Final/Atividade 2 - Modelos Preditivos - 22/06/2020** \n",
        "\n",
        "**Prof:** Ricardo Prudêncio\n",
        "\n",
        "**Discente:** Vivianne Medeiros\n"
      ]
    },
    {
      "cell_type": "code",
      "metadata": {
        "id": "CAgVshkqnmUn",
        "colab_type": "code",
        "colab": {}
      },
      "source": [
        "# Importando libs necessárias\n",
        "\n",
        "import pandas as pd\n",
        "import seaborn as sns\n",
        "import numpy as np\n",
        "\n",
        "from scipy.io import arff\n",
        "from sklearn import datasets\n",
        "from sklearn import metrics\n",
        "from sklearn.ensemble import RandomForestClassifier\n",
        "from sklearn.feature_selection import RFE\n",
        "from sklearn.feature_selection import RFECV\n",
        "from sklearn.feature_selection import SelectFromModel\n",
        "from sklearn.linear_model import LogisticRegression\n",
        "from sklearn.model_selection import cross_validate\n",
        "from sklearn.model_selection import train_test_split\n",
        "from sklearn.neighbors import KNeighborsClassifier"
      ],
      "execution_count": null,
      "outputs": []
    },
    {
      "cell_type": "markdown",
      "metadata": {
        "id": "qK0hPSEJHhjY",
        "colab_type": "text"
      },
      "source": [
        "## **Atividade 2**"
      ]
    },
    {
      "cell_type": "code",
      "metadata": {
        "id": "KkgUts57ynjV",
        "colab_type": "code",
        "colab": {}
      },
      "source": [
        "# Carregando os dados. Importante: deve-se fazer upload do respectivo arquivo na sessão antes de executar este comando.\n",
        "dados = arff.loadarff('PhishingData.arff') "
      ],
      "execution_count": null,
      "outputs": []
    },
    {
      "cell_type": "code",
      "metadata": {
        "id": "JHEoS5wnpEJz",
        "colab_type": "code",
        "colab": {}
      },
      "source": [
        "dados_phishing = pd.DataFrame(dados[0], dtype=float)"
      ],
      "execution_count": null,
      "outputs": []
    },
    {
      "cell_type": "markdown",
      "metadata": {
        "id": "VWKxWHPgRXnN",
        "colab_type": "text"
      },
      "source": [
        "### **Análise Exploratória dos Dados:** conhecendo os dados para verificar se são necessárias transformações"
      ]
    },
    {
      "cell_type": "code",
      "metadata": {
        "id": "HKdz8Kf5ujgQ",
        "colab_type": "code",
        "colab": {
          "base_uri": "https://localhost:8080/",
          "height": 85
        },
        "outputId": "fae93566-567c-499b-fb4f-889134a104f5"
      },
      "source": [
        "# Colunas\n",
        "dados_phishing.columns"
      ],
      "execution_count": null,
      "outputs": [
        {
          "output_type": "execute_result",
          "data": {
            "text/plain": [
              "Index(['SFH', 'popUpWidnow', 'SSLfinal_State', 'Request_URL', 'URL_of_Anchor',\n",
              "       'web_traffic', 'URL_Length', 'age_of_domain', 'having_IP_Address',\n",
              "       'Result'],\n",
              "      dtype='object')"
            ]
          },
          "metadata": {
            "tags": []
          },
          "execution_count": 89
        }
      ]
    },
    {
      "cell_type": "code",
      "metadata": {
        "id": "Ao17hX0XpqbJ",
        "colab_type": "code",
        "colab": {
          "base_uri": "https://localhost:8080/",
          "height": 359
        },
        "outputId": "00f64bf7-7d4f-494d-b190-8989439f0cb1"
      },
      "source": [
        "# Amostra das instâncias\n",
        "dados_phishing.head(10)"
      ],
      "execution_count": null,
      "outputs": [
        {
          "output_type": "execute_result",
          "data": {
            "text/html": [
              "<div>\n",
              "<style scoped>\n",
              "    .dataframe tbody tr th:only-of-type {\n",
              "        vertical-align: middle;\n",
              "    }\n",
              "\n",
              "    .dataframe tbody tr th {\n",
              "        vertical-align: top;\n",
              "    }\n",
              "\n",
              "    .dataframe thead th {\n",
              "        text-align: right;\n",
              "    }\n",
              "</style>\n",
              "<table border=\"1\" class=\"dataframe\">\n",
              "  <thead>\n",
              "    <tr style=\"text-align: right;\">\n",
              "      <th></th>\n",
              "      <th>SFH</th>\n",
              "      <th>popUpWidnow</th>\n",
              "      <th>SSLfinal_State</th>\n",
              "      <th>Request_URL</th>\n",
              "      <th>URL_of_Anchor</th>\n",
              "      <th>web_traffic</th>\n",
              "      <th>URL_Length</th>\n",
              "      <th>age_of_domain</th>\n",
              "      <th>having_IP_Address</th>\n",
              "      <th>Result</th>\n",
              "    </tr>\n",
              "  </thead>\n",
              "  <tbody>\n",
              "    <tr>\n",
              "      <th>0</th>\n",
              "      <td>1.0</td>\n",
              "      <td>-1.0</td>\n",
              "      <td>1.0</td>\n",
              "      <td>-1.0</td>\n",
              "      <td>-1.0</td>\n",
              "      <td>1.0</td>\n",
              "      <td>1.0</td>\n",
              "      <td>1.0</td>\n",
              "      <td>0.0</td>\n",
              "      <td>0.0</td>\n",
              "    </tr>\n",
              "    <tr>\n",
              "      <th>1</th>\n",
              "      <td>-1.0</td>\n",
              "      <td>-1.0</td>\n",
              "      <td>-1.0</td>\n",
              "      <td>-1.0</td>\n",
              "      <td>-1.0</td>\n",
              "      <td>0.0</td>\n",
              "      <td>1.0</td>\n",
              "      <td>1.0</td>\n",
              "      <td>1.0</td>\n",
              "      <td>1.0</td>\n",
              "    </tr>\n",
              "    <tr>\n",
              "      <th>2</th>\n",
              "      <td>1.0</td>\n",
              "      <td>-1.0</td>\n",
              "      <td>0.0</td>\n",
              "      <td>0.0</td>\n",
              "      <td>-1.0</td>\n",
              "      <td>0.0</td>\n",
              "      <td>-1.0</td>\n",
              "      <td>1.0</td>\n",
              "      <td>0.0</td>\n",
              "      <td>1.0</td>\n",
              "    </tr>\n",
              "    <tr>\n",
              "      <th>3</th>\n",
              "      <td>1.0</td>\n",
              "      <td>0.0</td>\n",
              "      <td>1.0</td>\n",
              "      <td>-1.0</td>\n",
              "      <td>-1.0</td>\n",
              "      <td>0.0</td>\n",
              "      <td>1.0</td>\n",
              "      <td>1.0</td>\n",
              "      <td>0.0</td>\n",
              "      <td>0.0</td>\n",
              "    </tr>\n",
              "    <tr>\n",
              "      <th>4</th>\n",
              "      <td>-1.0</td>\n",
              "      <td>-1.0</td>\n",
              "      <td>1.0</td>\n",
              "      <td>-1.0</td>\n",
              "      <td>0.0</td>\n",
              "      <td>0.0</td>\n",
              "      <td>-1.0</td>\n",
              "      <td>1.0</td>\n",
              "      <td>0.0</td>\n",
              "      <td>1.0</td>\n",
              "    </tr>\n",
              "    <tr>\n",
              "      <th>5</th>\n",
              "      <td>-1.0</td>\n",
              "      <td>-1.0</td>\n",
              "      <td>1.0</td>\n",
              "      <td>-1.0</td>\n",
              "      <td>-1.0</td>\n",
              "      <td>1.0</td>\n",
              "      <td>0.0</td>\n",
              "      <td>-1.0</td>\n",
              "      <td>0.0</td>\n",
              "      <td>1.0</td>\n",
              "    </tr>\n",
              "    <tr>\n",
              "      <th>6</th>\n",
              "      <td>1.0</td>\n",
              "      <td>-1.0</td>\n",
              "      <td>0.0</td>\n",
              "      <td>1.0</td>\n",
              "      <td>-1.0</td>\n",
              "      <td>0.0</td>\n",
              "      <td>0.0</td>\n",
              "      <td>1.0</td>\n",
              "      <td>0.0</td>\n",
              "      <td>-1.0</td>\n",
              "    </tr>\n",
              "    <tr>\n",
              "      <th>7</th>\n",
              "      <td>1.0</td>\n",
              "      <td>0.0</td>\n",
              "      <td>1.0</td>\n",
              "      <td>1.0</td>\n",
              "      <td>0.0</td>\n",
              "      <td>0.0</td>\n",
              "      <td>0.0</td>\n",
              "      <td>1.0</td>\n",
              "      <td>1.0</td>\n",
              "      <td>-1.0</td>\n",
              "    </tr>\n",
              "    <tr>\n",
              "      <th>8</th>\n",
              "      <td>-1.0</td>\n",
              "      <td>-1.0</td>\n",
              "      <td>0.0</td>\n",
              "      <td>-1.0</td>\n",
              "      <td>-1.0</td>\n",
              "      <td>-1.0</td>\n",
              "      <td>-1.0</td>\n",
              "      <td>1.0</td>\n",
              "      <td>0.0</td>\n",
              "      <td>0.0</td>\n",
              "    </tr>\n",
              "    <tr>\n",
              "      <th>9</th>\n",
              "      <td>-1.0</td>\n",
              "      <td>0.0</td>\n",
              "      <td>-1.0</td>\n",
              "      <td>-1.0</td>\n",
              "      <td>1.0</td>\n",
              "      <td>1.0</td>\n",
              "      <td>0.0</td>\n",
              "      <td>-1.0</td>\n",
              "      <td>0.0</td>\n",
              "      <td>1.0</td>\n",
              "    </tr>\n",
              "  </tbody>\n",
              "</table>\n",
              "</div>"
            ],
            "text/plain": [
              "   SFH  popUpWidnow  SSLfinal_State  ...  age_of_domain  having_IP_Address  Result\n",
              "0  1.0         -1.0             1.0  ...            1.0                0.0     0.0\n",
              "1 -1.0         -1.0            -1.0  ...            1.0                1.0     1.0\n",
              "2  1.0         -1.0             0.0  ...            1.0                0.0     1.0\n",
              "3  1.0          0.0             1.0  ...            1.0                0.0     0.0\n",
              "4 -1.0         -1.0             1.0  ...            1.0                0.0     1.0\n",
              "5 -1.0         -1.0             1.0  ...           -1.0                0.0     1.0\n",
              "6  1.0         -1.0             0.0  ...            1.0                0.0    -1.0\n",
              "7  1.0          0.0             1.0  ...            1.0                1.0    -1.0\n",
              "8 -1.0         -1.0             0.0  ...            1.0                0.0     0.0\n",
              "9 -1.0          0.0            -1.0  ...           -1.0                0.0     1.0\n",
              "\n",
              "[10 rows x 10 columns]"
            ]
          },
          "metadata": {
            "tags": []
          },
          "execution_count": 90
        }
      ]
    },
    {
      "cell_type": "code",
      "metadata": {
        "id": "OENSQI22tVx_",
        "colab_type": "code",
        "colab": {
          "base_uri": "https://localhost:8080/",
          "height": 306
        },
        "outputId": "8af0ee92-0965-4989-b0ba-dc6fbe07e631"
      },
      "source": [
        "# Tipos dos dados\n",
        "dados_phishing.info() #dados_phishing.dtypes"
      ],
      "execution_count": null,
      "outputs": [
        {
          "output_type": "stream",
          "text": [
            "<class 'pandas.core.frame.DataFrame'>\n",
            "RangeIndex: 1353 entries, 0 to 1352\n",
            "Data columns (total 10 columns):\n",
            " #   Column             Non-Null Count  Dtype  \n",
            "---  ------             --------------  -----  \n",
            " 0   SFH                1353 non-null   float64\n",
            " 1   popUpWidnow        1353 non-null   float64\n",
            " 2   SSLfinal_State     1353 non-null   float64\n",
            " 3   Request_URL        1353 non-null   float64\n",
            " 4   URL_of_Anchor      1353 non-null   float64\n",
            " 5   web_traffic        1353 non-null   float64\n",
            " 6   URL_Length         1353 non-null   float64\n",
            " 7   age_of_domain      1353 non-null   float64\n",
            " 8   having_IP_Address  1353 non-null   float64\n",
            " 9   Result             1353 non-null   float64\n",
            "dtypes: float64(10)\n",
            "memory usage: 105.8 KB\n"
          ],
          "name": "stdout"
        }
      ]
    },
    {
      "cell_type": "code",
      "metadata": {
        "id": "D8NEQRn0vrmv",
        "colab_type": "code",
        "colab": {
          "base_uri": "https://localhost:8080/",
          "height": 297
        },
        "outputId": "e8c8016b-63d3-486a-dab5-55f2be3c7b02"
      },
      "source": [
        "# Dados estatísticos gerais sobre cada coluna\n",
        "dados_phishing.describe()"
      ],
      "execution_count": null,
      "outputs": [
        {
          "output_type": "execute_result",
          "data": {
            "text/html": [
              "<div>\n",
              "<style scoped>\n",
              "    .dataframe tbody tr th:only-of-type {\n",
              "        vertical-align: middle;\n",
              "    }\n",
              "\n",
              "    .dataframe tbody tr th {\n",
              "        vertical-align: top;\n",
              "    }\n",
              "\n",
              "    .dataframe thead th {\n",
              "        text-align: right;\n",
              "    }\n",
              "</style>\n",
              "<table border=\"1\" class=\"dataframe\">\n",
              "  <thead>\n",
              "    <tr style=\"text-align: right;\">\n",
              "      <th></th>\n",
              "      <th>SFH</th>\n",
              "      <th>popUpWidnow</th>\n",
              "      <th>SSLfinal_State</th>\n",
              "      <th>Request_URL</th>\n",
              "      <th>URL_of_Anchor</th>\n",
              "      <th>web_traffic</th>\n",
              "      <th>URL_Length</th>\n",
              "      <th>age_of_domain</th>\n",
              "      <th>having_IP_Address</th>\n",
              "      <th>Result</th>\n",
              "    </tr>\n",
              "  </thead>\n",
              "  <tbody>\n",
              "    <tr>\n",
              "      <th>count</th>\n",
              "      <td>1353.000000</td>\n",
              "      <td>1353.000000</td>\n",
              "      <td>1353.000000</td>\n",
              "      <td>1353.000000</td>\n",
              "      <td>1353.000000</td>\n",
              "      <td>1353.000000</td>\n",
              "      <td>1353.000000</td>\n",
              "      <td>1353.000000</td>\n",
              "      <td>1353.000000</td>\n",
              "      <td>1353.000000</td>\n",
              "    </tr>\n",
              "    <tr>\n",
              "      <th>mean</th>\n",
              "      <td>0.237990</td>\n",
              "      <td>-0.258684</td>\n",
              "      <td>0.327421</td>\n",
              "      <td>-0.223208</td>\n",
              "      <td>-0.025129</td>\n",
              "      <td>0.000000</td>\n",
              "      <td>-0.053215</td>\n",
              "      <td>0.219512</td>\n",
              "      <td>0.114560</td>\n",
              "      <td>-0.113821</td>\n",
              "    </tr>\n",
              "    <tr>\n",
              "      <th>std</th>\n",
              "      <td>0.916389</td>\n",
              "      <td>0.679072</td>\n",
              "      <td>0.822193</td>\n",
              "      <td>0.799682</td>\n",
              "      <td>0.936262</td>\n",
              "      <td>0.806776</td>\n",
              "      <td>0.762552</td>\n",
              "      <td>0.975970</td>\n",
              "      <td>0.318608</td>\n",
              "      <td>0.954773</td>\n",
              "    </tr>\n",
              "    <tr>\n",
              "      <th>min</th>\n",
              "      <td>-1.000000</td>\n",
              "      <td>-1.000000</td>\n",
              "      <td>-1.000000</td>\n",
              "      <td>-1.000000</td>\n",
              "      <td>-1.000000</td>\n",
              "      <td>-1.000000</td>\n",
              "      <td>-1.000000</td>\n",
              "      <td>-1.000000</td>\n",
              "      <td>0.000000</td>\n",
              "      <td>-1.000000</td>\n",
              "    </tr>\n",
              "    <tr>\n",
              "      <th>25%</th>\n",
              "      <td>-1.000000</td>\n",
              "      <td>-1.000000</td>\n",
              "      <td>0.000000</td>\n",
              "      <td>-1.000000</td>\n",
              "      <td>-1.000000</td>\n",
              "      <td>-1.000000</td>\n",
              "      <td>-1.000000</td>\n",
              "      <td>-1.000000</td>\n",
              "      <td>0.000000</td>\n",
              "      <td>-1.000000</td>\n",
              "    </tr>\n",
              "    <tr>\n",
              "      <th>50%</th>\n",
              "      <td>1.000000</td>\n",
              "      <td>0.000000</td>\n",
              "      <td>1.000000</td>\n",
              "      <td>0.000000</td>\n",
              "      <td>0.000000</td>\n",
              "      <td>0.000000</td>\n",
              "      <td>0.000000</td>\n",
              "      <td>1.000000</td>\n",
              "      <td>0.000000</td>\n",
              "      <td>-1.000000</td>\n",
              "    </tr>\n",
              "    <tr>\n",
              "      <th>75%</th>\n",
              "      <td>1.000000</td>\n",
              "      <td>0.000000</td>\n",
              "      <td>1.000000</td>\n",
              "      <td>0.000000</td>\n",
              "      <td>1.000000</td>\n",
              "      <td>1.000000</td>\n",
              "      <td>1.000000</td>\n",
              "      <td>1.000000</td>\n",
              "      <td>0.000000</td>\n",
              "      <td>1.000000</td>\n",
              "    </tr>\n",
              "    <tr>\n",
              "      <th>max</th>\n",
              "      <td>1.000000</td>\n",
              "      <td>1.000000</td>\n",
              "      <td>1.000000</td>\n",
              "      <td>1.000000</td>\n",
              "      <td>1.000000</td>\n",
              "      <td>1.000000</td>\n",
              "      <td>1.000000</td>\n",
              "      <td>1.000000</td>\n",
              "      <td>1.000000</td>\n",
              "      <td>1.000000</td>\n",
              "    </tr>\n",
              "  </tbody>\n",
              "</table>\n",
              "</div>"
            ],
            "text/plain": [
              "               SFH  popUpWidnow  ...  having_IP_Address       Result\n",
              "count  1353.000000  1353.000000  ...        1353.000000  1353.000000\n",
              "mean      0.237990    -0.258684  ...           0.114560    -0.113821\n",
              "std       0.916389     0.679072  ...           0.318608     0.954773\n",
              "min      -1.000000    -1.000000  ...           0.000000    -1.000000\n",
              "25%      -1.000000    -1.000000  ...           0.000000    -1.000000\n",
              "50%       1.000000     0.000000  ...           0.000000    -1.000000\n",
              "75%       1.000000     0.000000  ...           0.000000     1.000000\n",
              "max       1.000000     1.000000  ...           1.000000     1.000000\n",
              "\n",
              "[8 rows x 10 columns]"
            ]
          },
          "metadata": {
            "tags": []
          },
          "execution_count": 92
        }
      ]
    },
    {
      "cell_type": "code",
      "metadata": {
        "id": "HExcf7U0wNBx",
        "colab_type": "code",
        "colab": {
          "base_uri": "https://localhost:8080/",
          "height": 34
        },
        "outputId": "2611f963-f57a-4a24-dee8-18ad583ebbbc"
      },
      "source": [
        "# Verificando a quantidade de dados\n",
        "dados_phishing.shape"
      ],
      "execution_count": null,
      "outputs": [
        {
          "output_type": "execute_result",
          "data": {
            "text/plain": [
              "(1353, 10)"
            ]
          },
          "metadata": {
            "tags": []
          },
          "execution_count": 93
        }
      ]
    },
    {
      "cell_type": "code",
      "metadata": {
        "id": "6IRjRuKPKwGO",
        "colab_type": "code",
        "colab": {
          "base_uri": "https://localhost:8080/",
          "height": 204
        },
        "outputId": "b8d9e462-bd95-4df9-92fd-a36c6f2601a2"
      },
      "source": [
        "# Verificando quantidade de dados nulos\n",
        "dados_phishing.isnull().sum()"
      ],
      "execution_count": null,
      "outputs": [
        {
          "output_type": "execute_result",
          "data": {
            "text/plain": [
              "SFH                  0\n",
              "popUpWidnow          0\n",
              "SSLfinal_State       0\n",
              "Request_URL          0\n",
              "URL_of_Anchor        0\n",
              "web_traffic          0\n",
              "URL_Length           0\n",
              "age_of_domain        0\n",
              "having_IP_Address    0\n",
              "Result               0\n",
              "dtype: int64"
            ]
          },
          "metadata": {
            "tags": []
          },
          "execution_count": 94
        }
      ]
    },
    {
      "cell_type": "code",
      "metadata": {
        "id": "NHDoHwyhQ_PY",
        "colab_type": "code",
        "colab": {
          "base_uri": "https://localhost:8080/",
          "height": 298
        },
        "outputId": "9545f39c-8b5d-4c89-df2c-e416ea4ff8cc"
      },
      "source": [
        "# Histograma para verificar a distribuição das instâncias nas classes\n",
        "dados_phishing['Result'].plot(kind='hist', title='Histograma1')"
      ],
      "execution_count": null,
      "outputs": [
        {
          "output_type": "execute_result",
          "data": {
            "text/plain": [
              "<matplotlib.axes._subplots.AxesSubplot at 0x7f8f5f6eefd0>"
            ]
          },
          "metadata": {
            "tags": []
          },
          "execution_count": 95
        },
        {
          "output_type": "display_data",
          "data": {
            "image/png": "[encoded data removed]",
            "text/plain": [
              "<Figure size 432x288 with 1 Axes>"
            ]
          },
          "metadata": {
            "tags": [],
            "needs_background": "light"
          }
        }
      ]
    },
    {
      "cell_type": "code",
      "metadata": {
        "id": "ilI0q01V2cqV",
        "colab_type": "code",
        "colab": {
          "base_uri": "https://localhost:8080/",
          "height": 34
        },
        "outputId": "a1488dce-519c-452f-af54-ac2da87c8a21"
      },
      "source": [
        "dados_phishing['Result'].unique()\n",
        "# dados_phishing['Result'].unique().shape\n",
        "# len(dados_phishing['Result'].unique())"
      ],
      "execution_count": null,
      "outputs": [
        {
          "output_type": "execute_result",
          "data": {
            "text/plain": [
              "array([ 0.,  1., -1.])"
            ]
          },
          "metadata": {
            "tags": []
          },
          "execution_count": 96
        }
      ]
    },
    {
      "cell_type": "code",
      "metadata": {
        "id": "YWQlgfqe7uZB",
        "colab_type": "code",
        "colab": {
          "base_uri": "https://localhost:8080/",
          "height": 85
        },
        "outputId": "1d09a861-4fce-4a27-d5f4-a372425504ad"
      },
      "source": [
        "# Quantidade exata por classe\n",
        "dados_phishing['Result'].value_counts()"
      ],
      "execution_count": null,
      "outputs": [
        {
          "output_type": "execute_result",
          "data": {
            "text/plain": [
              "-1.0    702\n",
              " 1.0    548\n",
              " 0.0    103\n",
              "Name: Result, dtype: int64"
            ]
          },
          "metadata": {
            "tags": []
          },
          "execution_count": 97
        }
      ]
    },
    {
      "cell_type": "code",
      "metadata": {
        "id": "mNJTYUzyoKy_",
        "colab_type": "code",
        "colab": {
          "base_uri": "https://localhost:8080/",
          "height": 34
        },
        "outputId": "a2c090d7-34ea-4d20-e3f1-2918cf1f132f"
      },
      "source": [
        "# Separando apenas os sites que são phishing\n",
        "phishing = dados_phishing[(dados_phishing['Result']==-1.0)]\n",
        "phishing.shape"
      ],
      "execution_count": null,
      "outputs": [
        {
          "output_type": "execute_result",
          "data": {
            "text/plain": [
              "(702, 10)"
            ]
          },
          "metadata": {
            "tags": []
          },
          "execution_count": 98
        }
      ]
    },
    {
      "cell_type": "code",
      "metadata": {
        "id": "28vps-Da_q-d",
        "colab_type": "code",
        "colab": {
          "base_uri": "https://localhost:8080/",
          "height": 34
        },
        "outputId": "2983b1c2-e558-4723-f9f5-ba6ee7b7f4cb"
      },
      "source": [
        "# Separando apenas os sites que são confiáveis\n",
        "confiaveis = dados_phishing[(dados_phishing['Result']==1.0)]\n",
        "confiaveis.shape"
      ],
      "execution_count": null,
      "outputs": [
        {
          "output_type": "execute_result",
          "data": {
            "text/plain": [
              "(548, 10)"
            ]
          },
          "metadata": {
            "tags": []
          },
          "execution_count": 99
        }
      ]
    },
    {
      "cell_type": "code",
      "metadata": {
        "id": "Q8Uz2kVaL4pw",
        "colab_type": "code",
        "colab": {
          "base_uri": "https://localhost:8080/",
          "height": 34
        },
        "outputId": "e4889211-686f-4d10-bb88-53f72574edb5"
      },
      "source": [
        "# Separando apenas os sites que são suspeitos\n",
        "suspeitos = dados_phishing[(dados_phishing['Result']==0.0)]\n",
        "suspeitos.shape"
      ],
      "execution_count": null,
      "outputs": [
        {
          "output_type": "execute_result",
          "data": {
            "text/plain": [
              "(103, 10)"
            ]
          },
          "metadata": {
            "tags": []
          },
          "execution_count": 100
        }
      ]
    },
    {
      "cell_type": "code",
      "metadata": {
        "id": "uEYWXVwcrJ37",
        "colab_type": "code",
        "colab": {
          "base_uri": "https://localhost:8080/",
          "height": 582
        },
        "outputId": "fefd4252-7383-47a6-85f1-5388e2fa54db"
      },
      "source": [
        "# Analisando características dentro das próprias classes, a saber: phishing, sites confiáveis e suspeitos\n",
        "features_list = phishing.columns\n",
        "count_phishing = []\n",
        "count_confiaveis = []\n",
        "count_suspeitos = []\n",
        "\n",
        "for feature in features_list:\n",
        "    count_phishing.append(phishing[feature][phishing[feature] == -1.0].count())\n",
        "    count_confiaveis.append(confiaveis[feature][confiaveis[feature] == 1.0].count())\n",
        "    count_suspeitos.append(suspeitos[feature][suspeitos[feature] == 0.0].count())\n",
        "\n",
        "dataframe = pd.DataFrame({'Phishing': count_phishing, 'Confiáveis': count_confiaveis, 'Suspeitos': count_suspeitos}, index=features_list)\n",
        "chart = dataframe.plot.bar(figsize=(10,8), title='Histograma2')"
      ],
      "execution_count": null,
      "outputs": [
        {
          "output_type": "display_data",
          "data": {
            "image/png": "[encoded data removed]",
            "text/plain": [
              "<Figure size 720x576 with 1 Axes>"
            ]
          },
          "metadata": {
            "tags": [],
            "needs_background": "light"
          }
        }
      ]
    },
    {
      "cell_type": "markdown",
      "metadata": {
        "id": "p3Q8Y3AFSwky",
        "colab_type": "text"
      },
      "source": [
        "**Análises:** verificando o **Histograma1** e os números associados, observa-se um pouco de desbalanceamento dos dados, visto que a classe \"-1.0\" (phishing) está mais presente do que a \"1.0\" (site legítimo) e a \"0.0\" (suspeito), esta última tendo bem menos instâncias. Tal informação será considerada ao gerar os dados de treinamento e testes.\n",
        "\n",
        "Já no **Histograma2**, dentre os sites classificados como phishing, analisou-se quais características foram indicadas como tal, sendo as que apresentaram mais e menos instâncias, respectivamente, web_traffic e having_IP_Address. Já dentre os sites confiáveis, as características que foram mais e menos assinaladas como confiáveis são, nesta ordem, age_of_domain e popUpWidnow. Mais adiante, faremos uma análise de correlação entre as variáveis para aprofundar a discussão.\n",
        "\n",
        "\n",
        "\n",
        "\n",
        "\n"
      ]
    },
    {
      "cell_type": "markdown",
      "metadata": {
        "id": "fUZJGIlQUoQE",
        "colab_type": "text"
      },
      "source": [
        "### **Gerando as bases de treinamento e testes**"
      ]
    },
    {
      "cell_type": "code",
      "metadata": {
        "id": "Z5wAGxF-O8Is",
        "colab_type": "code",
        "colab": {
          "base_uri": "https://localhost:8080/",
          "height": 419
        },
        "outputId": "bdba383f-ef9c-4a5e-ebb5-173acdd29871"
      },
      "source": [
        "# Recuperando os dados \n",
        "X = dados_phishing.iloc[:, 0:-1 ] # :=todas as linhas, 0:-1=todas colunas menos a última\n",
        "X"
      ],
      "execution_count": null,
      "outputs": [
        {
          "output_type": "execute_result",
          "data": {
            "text/html": [
              "<div>\n",
              "<style scoped>\n",
              "    .dataframe tbody tr th:only-of-type {\n",
              "        vertical-align: middle;\n",
              "    }\n",
              "\n",
              "    .dataframe tbody tr th {\n",
              "        vertical-align: top;\n",
              "    }\n",
              "\n",
              "    .dataframe thead th {\n",
              "        text-align: right;\n",
              "    }\n",
              "</style>\n",
              "<table border=\"1\" class=\"dataframe\">\n",
              "  <thead>\n",
              "    <tr style=\"text-align: right;\">\n",
              "      <th></th>\n",
              "      <th>SFH</th>\n",
              "      <th>popUpWidnow</th>\n",
              "      <th>SSLfinal_State</th>\n",
              "      <th>Request_URL</th>\n",
              "      <th>URL_of_Anchor</th>\n",
              "      <th>web_traffic</th>\n",
              "      <th>URL_Length</th>\n",
              "      <th>age_of_domain</th>\n",
              "      <th>having_IP_Address</th>\n",
              "    </tr>\n",
              "  </thead>\n",
              "  <tbody>\n",
              "    <tr>\n",
              "      <th>0</th>\n",
              "      <td>1.0</td>\n",
              "      <td>-1.0</td>\n",
              "      <td>1.0</td>\n",
              "      <td>-1.0</td>\n",
              "      <td>-1.0</td>\n",
              "      <td>1.0</td>\n",
              "      <td>1.0</td>\n",
              "      <td>1.0</td>\n",
              "      <td>0.0</td>\n",
              "    </tr>\n",
              "    <tr>\n",
              "      <th>1</th>\n",
              "      <td>-1.0</td>\n",
              "      <td>-1.0</td>\n",
              "      <td>-1.0</td>\n",
              "      <td>-1.0</td>\n",
              "      <td>-1.0</td>\n",
              "      <td>0.0</td>\n",
              "      <td>1.0</td>\n",
              "      <td>1.0</td>\n",
              "      <td>1.0</td>\n",
              "    </tr>\n",
              "    <tr>\n",
              "      <th>2</th>\n",
              "      <td>1.0</td>\n",
              "      <td>-1.0</td>\n",
              "      <td>0.0</td>\n",
              "      <td>0.0</td>\n",
              "      <td>-1.0</td>\n",
              "      <td>0.0</td>\n",
              "      <td>-1.0</td>\n",
              "      <td>1.0</td>\n",
              "      <td>0.0</td>\n",
              "    </tr>\n",
              "    <tr>\n",
              "      <th>3</th>\n",
              "      <td>1.0</td>\n",
              "      <td>0.0</td>\n",
              "      <td>1.0</td>\n",
              "      <td>-1.0</td>\n",
              "      <td>-1.0</td>\n",
              "      <td>0.0</td>\n",
              "      <td>1.0</td>\n",
              "      <td>1.0</td>\n",
              "      <td>0.0</td>\n",
              "    </tr>\n",
              "    <tr>\n",
              "      <th>4</th>\n",
              "      <td>-1.0</td>\n",
              "      <td>-1.0</td>\n",
              "      <td>1.0</td>\n",
              "      <td>-1.0</td>\n",
              "      <td>0.0</td>\n",
              "      <td>0.0</td>\n",
              "      <td>-1.0</td>\n",
              "      <td>1.0</td>\n",
              "      <td>0.0</td>\n",
              "    </tr>\n",
              "    <tr>\n",
              "      <th>...</th>\n",
              "      <td>...</td>\n",
              "      <td>...</td>\n",
              "      <td>...</td>\n",
              "      <td>...</td>\n",
              "      <td>...</td>\n",
              "      <td>...</td>\n",
              "      <td>...</td>\n",
              "      <td>...</td>\n",
              "      <td>...</td>\n",
              "    </tr>\n",
              "    <tr>\n",
              "      <th>1348</th>\n",
              "      <td>-1.0</td>\n",
              "      <td>-1.0</td>\n",
              "      <td>-1.0</td>\n",
              "      <td>-1.0</td>\n",
              "      <td>-1.0</td>\n",
              "      <td>-1.0</td>\n",
              "      <td>0.0</td>\n",
              "      <td>1.0</td>\n",
              "      <td>0.0</td>\n",
              "    </tr>\n",
              "    <tr>\n",
              "      <th>1349</th>\n",
              "      <td>-1.0</td>\n",
              "      <td>0.0</td>\n",
              "      <td>1.0</td>\n",
              "      <td>0.0</td>\n",
              "      <td>-1.0</td>\n",
              "      <td>0.0</td>\n",
              "      <td>0.0</td>\n",
              "      <td>1.0</td>\n",
              "      <td>0.0</td>\n",
              "    </tr>\n",
              "    <tr>\n",
              "      <th>1350</th>\n",
              "      <td>-1.0</td>\n",
              "      <td>0.0</td>\n",
              "      <td>-1.0</td>\n",
              "      <td>-1.0</td>\n",
              "      <td>-1.0</td>\n",
              "      <td>0.0</td>\n",
              "      <td>-1.0</td>\n",
              "      <td>-1.0</td>\n",
              "      <td>0.0</td>\n",
              "    </tr>\n",
              "    <tr>\n",
              "      <th>1351</th>\n",
              "      <td>0.0</td>\n",
              "      <td>0.0</td>\n",
              "      <td>1.0</td>\n",
              "      <td>0.0</td>\n",
              "      <td>0.0</td>\n",
              "      <td>0.0</td>\n",
              "      <td>-1.0</td>\n",
              "      <td>1.0</td>\n",
              "      <td>0.0</td>\n",
              "    </tr>\n",
              "    <tr>\n",
              "      <th>1352</th>\n",
              "      <td>1.0</td>\n",
              "      <td>0.0</td>\n",
              "      <td>1.0</td>\n",
              "      <td>1.0</td>\n",
              "      <td>1.0</td>\n",
              "      <td>0.0</td>\n",
              "      <td>-1.0</td>\n",
              "      <td>-1.0</td>\n",
              "      <td>0.0</td>\n",
              "    </tr>\n",
              "  </tbody>\n",
              "</table>\n",
              "<p>1353 rows × 9 columns</p>\n",
              "</div>"
            ],
            "text/plain": [
              "      SFH  popUpWidnow  ...  age_of_domain  having_IP_Address\n",
              "0     1.0         -1.0  ...            1.0                0.0\n",
              "1    -1.0         -1.0  ...            1.0                1.0\n",
              "2     1.0         -1.0  ...            1.0                0.0\n",
              "3     1.0          0.0  ...            1.0                0.0\n",
              "4    -1.0         -1.0  ...            1.0                0.0\n",
              "...   ...          ...  ...            ...                ...\n",
              "1348 -1.0         -1.0  ...            1.0                0.0\n",
              "1349 -1.0          0.0  ...            1.0                0.0\n",
              "1350 -1.0          0.0  ...           -1.0                0.0\n",
              "1351  0.0          0.0  ...            1.0                0.0\n",
              "1352  1.0          0.0  ...           -1.0                0.0\n",
              "\n",
              "[1353 rows x 9 columns]"
            ]
          },
          "metadata": {
            "tags": []
          },
          "execution_count": 102
        }
      ]
    },
    {
      "cell_type": "code",
      "metadata": {
        "id": "QsM2WhnnPHCB",
        "colab_type": "code",
        "colab": {
          "base_uri": "https://localhost:8080/",
          "height": 221
        },
        "outputId": "79e51b83-5424-42f4-8e66-ced76cf08abb"
      },
      "source": [
        "# Recuperando os rótulos \n",
        "y = dados_phishing.iloc[:, -1 ] # :=todas as linhas, -1=última coluna apenas\n",
        "y # rotulo = dados_phishing['Result']"
      ],
      "execution_count": null,
      "outputs": [
        {
          "output_type": "execute_result",
          "data": {
            "text/plain": [
              "0       0.0\n",
              "1       1.0\n",
              "2       1.0\n",
              "3       0.0\n",
              "4       1.0\n",
              "       ... \n",
              "1348    1.0\n",
              "1349   -1.0\n",
              "1350    1.0\n",
              "1351    1.0\n",
              "1352   -1.0\n",
              "Name: Result, Length: 1353, dtype: float64"
            ]
          },
          "metadata": {
            "tags": []
          },
          "execution_count": 103
        }
      ]
    },
    {
      "cell_type": "code",
      "metadata": {
        "id": "fKlOU564PndL",
        "colab_type": "code",
        "colab": {}
      },
      "source": [
        "# Dividindo base de dados em treino e teste (30% para teste)\n",
        "dados_treino, dados_teste, rotulos_treino, rotulos_teste = train_test_split(X, y, test_size=0.3, stratify=y, random_state=42) # random_state => seed"
      ],
      "execution_count": null,
      "outputs": []
    },
    {
      "cell_type": "markdown",
      "metadata": {
        "id": "rig5tE_SVPeF",
        "colab_type": "text"
      },
      "source": [
        "**Importante:** Conforme ressaltou-se na seção anterior, os dados estão desbalanceados, assim, utilizou-se o parâmetro \"stratify=y\" para balancear de forma proporcional os rótulos existentes e ter todas as classes em treino e teste."
      ]
    },
    {
      "cell_type": "markdown",
      "metadata": {
        "id": "Ocqd0YbyaMi4",
        "colab_type": "text"
      },
      "source": [
        "### **Seleção dos classificadores e treinamento na base de dados**"
      ]
    },
    {
      "cell_type": "code",
      "metadata": {
        "id": "5D_IkXkfEF09",
        "colab_type": "code",
        "colab": {}
      },
      "source": [
        "# Criando classificadores com os parâmetros default para servir de base de comparação\n",
        "clf_rl = LogisticRegression()\n",
        "clf_rf = RandomForestClassifier()\n",
        "clf_knn = KNeighborsClassifier()"
      ],
      "execution_count": null,
      "outputs": []
    },
    {
      "cell_type": "code",
      "metadata": {
        "id": "24zlLnLJ3FHw",
        "colab_type": "code",
        "colab": {
          "base_uri": "https://localhost:8080/",
          "height": 102
        },
        "outputId": "a61431e6-31db-43ce-b109-de2dd2b72b2f"
      },
      "source": [
        "# Treinando classificador Regressão Logística\n",
        "clf_rl.fit(dados_treino, rotulos_treino)"
      ],
      "execution_count": null,
      "outputs": [
        {
          "output_type": "execute_result",
          "data": {
            "text/plain": [
              "LogisticRegression(C=1.0, class_weight=None, dual=False, fit_intercept=True,\n",
              "                   intercept_scaling=1, l1_ratio=None, max_iter=100,\n",
              "                   multi_class='auto', n_jobs=None, penalty='l2',\n",
              "                   random_state=None, solver='lbfgs', tol=0.0001, verbose=0,\n",
              "                   warm_start=False)"
            ]
          },
          "metadata": {
            "tags": []
          },
          "execution_count": 141
        }
      ]
    },
    {
      "cell_type": "code",
      "metadata": {
        "id": "ph8cXkcVHaja",
        "colab_type": "code",
        "colab": {
          "base_uri": "https://localhost:8080/",
          "height": 34
        },
        "outputId": "54bb70d4-d0ce-464d-dc6b-158ce43eb76c"
      },
      "source": [
        "# Regressão Logística: Avaliando com a base de teste a acurácia do modelo gerado\n",
        "predict_rl = clf_rl.predict(dados_teste)\n",
        "metrics.accuracy_score(rotulos_teste, predict_rl)"
      ],
      "execution_count": null,
      "outputs": [
        {
          "output_type": "execute_result",
          "data": {
            "text/plain": [
              "0.8472906403940886"
            ]
          },
          "metadata": {
            "tags": []
          },
          "execution_count": 142
        }
      ]
    },
    {
      "cell_type": "code",
      "metadata": {
        "id": "6rRiRrEf2zbr",
        "colab_type": "code",
        "colab": {
          "base_uri": "https://localhost:8080/",
          "height": 153
        },
        "outputId": "51488ef9-3f6b-40cb-f2be-ba692d1165fb"
      },
      "source": [
        "# Treinando classificador RandomForest\n",
        "clf_rf.fit(dados_treino, rotulos_treino)"
      ],
      "execution_count": null,
      "outputs": [
        {
          "output_type": "execute_result",
          "data": {
            "text/plain": [
              "RandomForestClassifier(bootstrap=True, ccp_alpha=0.0, class_weight=None,\n",
              "                       criterion='gini', max_depth=None, max_features='auto',\n",
              "                       max_leaf_nodes=None, max_samples=None,\n",
              "                       min_impurity_decrease=0.0, min_impurity_split=None,\n",
              "                       min_samples_leaf=1, min_samples_split=2,\n",
              "                       min_weight_fraction_leaf=0.0, n_estimators=100,\n",
              "                       n_jobs=None, oob_score=False, random_state=None,\n",
              "                       verbose=0, warm_start=False)"
            ]
          },
          "metadata": {
            "tags": []
          },
          "execution_count": 143
        }
      ]
    },
    {
      "cell_type": "code",
      "metadata": {
        "id": "rxqswui3HRl7",
        "colab_type": "code",
        "colab": {
          "base_uri": "https://localhost:8080/",
          "height": 34
        },
        "outputId": "862a21d5-4640-42bc-d803-ad68d0231c74"
      },
      "source": [
        "# RandomForest: Avaliando com a base de teste a acurácia do modelo gerado\n",
        "predict_rf = clf_rf.predict(dados_teste)\n",
        "metrics.accuracy_score(rotulos_teste, predict_rf)"
      ],
      "execution_count": null,
      "outputs": [
        {
          "output_type": "execute_result",
          "data": {
            "text/plain": [
              "0.8866995073891626"
            ]
          },
          "metadata": {
            "tags": []
          },
          "execution_count": 144
        }
      ]
    },
    {
      "cell_type": "code",
      "metadata": {
        "id": "mpc6U8tf3K0-",
        "colab_type": "code",
        "colab": {
          "base_uri": "https://localhost:8080/",
          "height": 68
        },
        "outputId": "24e30c86-eb90-442c-f640-2e8bea7d7ee9"
      },
      "source": [
        "# Treinando classificador KNN\n",
        "clf_knn.fit(dados_treino, rotulos_treino)"
      ],
      "execution_count": null,
      "outputs": [
        {
          "output_type": "execute_result",
          "data": {
            "text/plain": [
              "KNeighborsClassifier(algorithm='auto', leaf_size=30, metric='minkowski',\n",
              "                     metric_params=None, n_jobs=None, n_neighbors=5, p=2,\n",
              "                     weights='uniform')"
            ]
          },
          "metadata": {
            "tags": []
          },
          "execution_count": 145
        }
      ]
    },
    {
      "cell_type": "code",
      "metadata": {
        "id": "UlwimlTYFZpx",
        "colab_type": "code",
        "colab": {
          "base_uri": "https://localhost:8080/",
          "height": 34
        },
        "outputId": "8408f1c9-2a5c-4dfc-c502-3ec6eb58cd1f"
      },
      "source": [
        "# KNN: Avaliando com a base de teste a acurácia do modelo gerado\n",
        "predict_knn = clf_knn.predict(dados_teste)\n",
        "metrics.accuracy_score(rotulos_teste, predict_knn)"
      ],
      "execution_count": null,
      "outputs": [
        {
          "output_type": "execute_result",
          "data": {
            "text/plain": [
              "0.8694581280788177"
            ]
          },
          "metadata": {
            "tags": []
          },
          "execution_count": 146
        }
      ]
    },
    {
      "cell_type": "markdown",
      "metadata": {
        "id": "cGb0V8NJ5RX4",
        "colab_type": "text"
      },
      "source": [
        "### **Avaliando e Comparando os classificadores**"
      ]
    },
    {
      "cell_type": "code",
      "metadata": {
        "id": "-LqC8q0r43Vz",
        "colab_type": "code",
        "colab": {
          "base_uri": "https://localhost:8080/",
          "height": 85
        },
        "outputId": "6b3717e2-2c1a-421f-fc60-040b953f4caa"
      },
      "source": [
        "# Avaliando os classificadores com relação à acurácia, precisão, recall e F-measure\n",
        "scoring_list = ['accuracy', 'precision_macro', 'recall_macro', 'f1_macro']\n",
        "\n",
        "# Efetuando uma validação cruzada 4-fold \n",
        "scores_rl = cross_validate(clf_rl, X, y, cv=4, scoring=scoring_list)\n",
        "scores_rf = cross_validate(clf_rf, X, y, cv=4, scoring=scoring_list)\n",
        "scores_knn = cross_validate(clf_knn, X, y, cv=4, scoring=scoring_list)\n",
        "\n",
        "avg_scores_rl = []\n",
        "avg_scores_rf = []\n",
        "avg_scores_knn = []\n",
        "\n",
        "for score in scoring_list:\n",
        "    avg_scores_rl.append(scores_rl['test_'+score].mean())\n",
        "    avg_scores_rf.append(scores_rf['test_'+score].mean())\n",
        "    avg_scores_knn.append(scores_knn['test_'+score].mean())\n",
        "\n",
        "# Imprimindo a média das métricas extraídas das 4 execuções da validação cruzada, para cada classificador\n",
        "print('Métricas: acurácia, precisão, recall e F-measure')\n",
        "print('Regressão Logística - ', avg_scores_rl)\n",
        "print('Random Forest - ', avg_scores_rf)\n",
        "print('KNN - ', avg_scores_knn)"
      ],
      "execution_count": null,
      "outputs": [
        {
          "output_type": "stream",
          "text": [
            "Métricas: acurácia, precisão, recall e F-measure\n",
            "Regressão Logística -  [0.8300234766368191, 0.6786312054657397, 0.6219883629144578, 0.6203562213102777]\n",
            "Random Forest -  [0.8980140859820913, 0.8785079745813246, 0.8580965324213499, 0.8671677552293519]\n",
            "KNN -  [0.8765796547450735, 0.8326954000680407, 0.8005228560976737, 0.8112383211187483]\n"
          ],
          "name": "stdout"
        }
      ]
    },
    {
      "cell_type": "code",
      "metadata": {
        "id": "d3T9IubO8ssH",
        "colab_type": "code",
        "colab": {
          "base_uri": "https://localhost:8080/",
          "height": 554
        },
        "outputId": "675a0711-9b9e-4bd9-81c7-0e5a3a51969a"
      },
      "source": [
        "df = pd.DataFrame({'RL': avg_scores_rl,\n",
        "                   'RF': avg_scores_rf,\n",
        "                   'KNN': avg_scores_knn}, index=scoring_list)\n",
        "ax = df.plot.bar(figsize=(12,8))"
      ],
      "execution_count": null,
      "outputs": [
        {
          "output_type": "display_data",
          "data": {
            "image/png": "[encoded data removed]",
            "text/plain": [
              "<Figure size 864x576 with 1 Axes>"
            ]
          },
          "metadata": {
            "tags": [],
            "needs_background": "light"
          }
        }
      ]
    },
    {
      "cell_type": "markdown",
      "metadata": {
        "id": "K3YJ6p3pNRS5",
        "colab_type": "text"
      },
      "source": [
        "**Análise:** na avaliação efetuada com os dados em questão, o RandomForest apresentou os melhores valores em todas as métricas consideradas, a saber: acurácia, precisão, recall e F-measure. Em segundo lugar, ficou o KNN e, por último, a Regressão Logística. \n",
        "\n",
        "Ressalta-se ainda que no RandomForest, a precisão e o recall foram altos, significando respectivamente que: i) podemos ter alta confiabilidade quando o modelo afirma que trata-se de phishing e ii) o modelo não deixa passar desclassificados muitos sites que são phishing. Dessa forma, este seria o modelo escolhido para ser utilizado nestas circunstâncias avaliadas. \n",
        "\n",
        "O KNN utilizou K=5 e as distâncias não foram ponderadas. No RandomForest, a profundidade da árvore também não foi definida. Tais parâmetros poderiam ser ajustados para efetuar uma nova comparação entre eles."
      ]
    },
    {
      "cell_type": "markdown",
      "metadata": {
        "id": "17iNkSv8Z64V",
        "colab_type": "text"
      },
      "source": [
        "### **Selecionando Características e Refazendo a Análise**"
      ]
    },
    {
      "cell_type": "code",
      "metadata": {
        "id": "7yec_nZw32Zi",
        "colab_type": "code",
        "colab": {
          "base_uri": "https://localhost:8080/",
          "height": 359
        },
        "outputId": "95b416da-d8f1-44ff-f618-3192166d38d4"
      },
      "source": [
        "# Verificando a correlação de Sperman entre os atributos\n",
        "dados_correlacao = dados_phishing.corr(method='spearman')\n",
        "dados_correlacao"
      ],
      "execution_count": null,
      "outputs": [
        {
          "output_type": "execute_result",
          "data": {
            "text/html": [
              "<div>\n",
              "<style scoped>\n",
              "    .dataframe tbody tr th:only-of-type {\n",
              "        vertical-align: middle;\n",
              "    }\n",
              "\n",
              "    .dataframe tbody tr th {\n",
              "        vertical-align: top;\n",
              "    }\n",
              "\n",
              "    .dataframe thead th {\n",
              "        text-align: right;\n",
              "    }\n",
              "</style>\n",
              "<table border=\"1\" class=\"dataframe\">\n",
              "  <thead>\n",
              "    <tr style=\"text-align: right;\">\n",
              "      <th></th>\n",
              "      <th>SFH</th>\n",
              "      <th>popUpWidnow</th>\n",
              "      <th>SSLfinal_State</th>\n",
              "      <th>Request_URL</th>\n",
              "      <th>URL_of_Anchor</th>\n",
              "      <th>web_traffic</th>\n",
              "      <th>URL_Length</th>\n",
              "      <th>age_of_domain</th>\n",
              "      <th>having_IP_Address</th>\n",
              "      <th>Result</th>\n",
              "    </tr>\n",
              "  </thead>\n",
              "  <tbody>\n",
              "    <tr>\n",
              "      <th>SFH</th>\n",
              "      <td>1.000000</td>\n",
              "      <td>0.383578</td>\n",
              "      <td>0.386249</td>\n",
              "      <td>0.231795</td>\n",
              "      <td>0.314036</td>\n",
              "      <td>-0.189490</td>\n",
              "      <td>0.150600</td>\n",
              "      <td>0.168091</td>\n",
              "      <td>0.042507</td>\n",
              "      <td>-0.698891</td>\n",
              "    </tr>\n",
              "    <tr>\n",
              "      <th>popUpWidnow</th>\n",
              "      <td>0.383578</td>\n",
              "      <td>1.000000</td>\n",
              "      <td>0.244573</td>\n",
              "      <td>0.112455</td>\n",
              "      <td>0.165456</td>\n",
              "      <td>-0.135077</td>\n",
              "      <td>0.136559</td>\n",
              "      <td>0.070816</td>\n",
              "      <td>0.121577</td>\n",
              "      <td>-0.513377</td>\n",
              "    </tr>\n",
              "    <tr>\n",
              "      <th>SSLfinal_State</th>\n",
              "      <td>0.386249</td>\n",
              "      <td>0.244573</td>\n",
              "      <td>1.000000</td>\n",
              "      <td>0.046103</td>\n",
              "      <td>0.102836</td>\n",
              "      <td>-0.163316</td>\n",
              "      <td>0.114083</td>\n",
              "      <td>0.198449</td>\n",
              "      <td>0.115657</td>\n",
              "      <td>-0.530451</td>\n",
              "    </tr>\n",
              "    <tr>\n",
              "      <th>Request_URL</th>\n",
              "      <td>0.231795</td>\n",
              "      <td>0.112455</td>\n",
              "      <td>0.046103</td>\n",
              "      <td>1.000000</td>\n",
              "      <td>0.311861</td>\n",
              "      <td>-0.041007</td>\n",
              "      <td>0.048621</td>\n",
              "      <td>0.047190</td>\n",
              "      <td>0.017281</td>\n",
              "      <td>-0.260166</td>\n",
              "    </tr>\n",
              "    <tr>\n",
              "      <th>URL_of_Anchor</th>\n",
              "      <td>0.314036</td>\n",
              "      <td>0.165456</td>\n",
              "      <td>0.102836</td>\n",
              "      <td>0.311861</td>\n",
              "      <td>1.000000</td>\n",
              "      <td>-0.091947</td>\n",
              "      <td>0.097577</td>\n",
              "      <td>0.069285</td>\n",
              "      <td>0.039955</td>\n",
              "      <td>-0.289553</td>\n",
              "    </tr>\n",
              "    <tr>\n",
              "      <th>web_traffic</th>\n",
              "      <td>-0.189490</td>\n",
              "      <td>-0.135077</td>\n",
              "      <td>-0.163316</td>\n",
              "      <td>-0.041007</td>\n",
              "      <td>-0.091947</td>\n",
              "      <td>1.000000</td>\n",
              "      <td>-0.109010</td>\n",
              "      <td>-0.683857</td>\n",
              "      <td>-0.094957</td>\n",
              "      <td>0.241720</td>\n",
              "    </tr>\n",
              "    <tr>\n",
              "      <th>URL_Length</th>\n",
              "      <td>0.150600</td>\n",
              "      <td>0.136559</td>\n",
              "      <td>0.114083</td>\n",
              "      <td>0.048621</td>\n",
              "      <td>0.097577</td>\n",
              "      <td>-0.109010</td>\n",
              "      <td>1.000000</td>\n",
              "      <td>0.076529</td>\n",
              "      <td>0.162184</td>\n",
              "      <td>-0.178642</td>\n",
              "    </tr>\n",
              "    <tr>\n",
              "      <th>age_of_domain</th>\n",
              "      <td>0.168091</td>\n",
              "      <td>0.070816</td>\n",
              "      <td>0.198449</td>\n",
              "      <td>0.047190</td>\n",
              "      <td>0.069285</td>\n",
              "      <td>-0.683857</td>\n",
              "      <td>0.076529</td>\n",
              "      <td>1.000000</td>\n",
              "      <td>0.040379</td>\n",
              "      <td>-0.229554</td>\n",
              "    </tr>\n",
              "    <tr>\n",
              "      <th>having_IP_Address</th>\n",
              "      <td>0.042507</td>\n",
              "      <td>0.121577</td>\n",
              "      <td>0.115657</td>\n",
              "      <td>0.017281</td>\n",
              "      <td>0.039955</td>\n",
              "      <td>-0.094957</td>\n",
              "      <td>0.162184</td>\n",
              "      <td>0.040379</td>\n",
              "      <td>1.000000</td>\n",
              "      <td>-0.058831</td>\n",
              "    </tr>\n",
              "    <tr>\n",
              "      <th>Result</th>\n",
              "      <td>-0.698891</td>\n",
              "      <td>-0.513377</td>\n",
              "      <td>-0.530451</td>\n",
              "      <td>-0.260166</td>\n",
              "      <td>-0.289553</td>\n",
              "      <td>0.241720</td>\n",
              "      <td>-0.178642</td>\n",
              "      <td>-0.229554</td>\n",
              "      <td>-0.058831</td>\n",
              "      <td>1.000000</td>\n",
              "    </tr>\n",
              "  </tbody>\n",
              "</table>\n",
              "</div>"
            ],
            "text/plain": [
              "                        SFH  popUpWidnow  ...  having_IP_Address    Result\n",
              "SFH                1.000000     0.383578  ...           0.042507 -0.698891\n",
              "popUpWidnow        0.383578     1.000000  ...           0.121577 -0.513377\n",
              "SSLfinal_State     0.386249     0.244573  ...           0.115657 -0.530451\n",
              "Request_URL        0.231795     0.112455  ...           0.017281 -0.260166\n",
              "URL_of_Anchor      0.314036     0.165456  ...           0.039955 -0.289553\n",
              "web_traffic       -0.189490    -0.135077  ...          -0.094957  0.241720\n",
              "URL_Length         0.150600     0.136559  ...           0.162184 -0.178642\n",
              "age_of_domain      0.168091     0.070816  ...           0.040379 -0.229554\n",
              "having_IP_Address  0.042507     0.121577  ...           1.000000 -0.058831\n",
              "Result            -0.698891    -0.513377  ...          -0.058831  1.000000\n",
              "\n",
              "[10 rows x 10 columns]"
            ]
          },
          "metadata": {
            "tags": []
          },
          "execution_count": 117
        }
      ]
    },
    {
      "cell_type": "code",
      "metadata": {
        "id": "pvPa2FGT0dyh",
        "colab_type": "code",
        "colab": {
          "base_uri": "https://localhost:8080/",
          "height": 369
        },
        "outputId": "e870b756-1657-4356-bd34-fb248cbf020d"
      },
      "source": [
        "# Mapa de calor com valores da correlação\n",
        "sns.heatmap(dados_correlacao, yticklabels=False, cbar=True, cmap='viridis')"
      ],
      "execution_count": null,
      "outputs": [
        {
          "output_type": "execute_result",
          "data": {
            "text/plain": [
              "<matplotlib.axes._subplots.AxesSubplot at 0x7f8f5fd3e4a8>"
            ]
          },
          "metadata": {
            "tags": []
          },
          "execution_count": 118
        },
        {
          "output_type": "display_data",
          "data": {
            "image/png": "[encoded data removed]",
            "text/plain": [
              "<Figure size 432x288 with 2 Axes>"
            ]
          },
          "metadata": {
            "tags": [],
            "needs_background": "light"
          }
        }
      ]
    },
    {
      "cell_type": "markdown",
      "metadata": {
        "id": "UdLJW-CV5E3d",
        "colab_type": "text"
      },
      "source": [
        "**Análise:** Após analisar a correlação dos atributos com o resultado da classe, observa-se que a coluna having_IP_Address apresenta valor quase nulo, denotando pouca relevância e sendo candidata a exclusão. \n",
        "\n",
        "A seguir, faremos uma análise mais ampla das características para selecionar os atributos mais relevantes e, então, refazer o estudo."
      ]
    },
    {
      "cell_type": "code",
      "metadata": {
        "id": "UVlxMaXwRLyz",
        "colab_type": "code",
        "colab": {
          "base_uri": "https://localhost:8080/",
          "height": 765
        },
        "outputId": "80f47cce-74cf-4f86-9bd5-28b9845c0905"
      },
      "source": [
        "print('========= Regressão Logística')\n",
        "# Regressão Logística: seleção de features baseada na importância\n",
        "print('====> Seleção baseada na Importância')\n",
        "selector_rl_sfm = SelectFromModel(clf_rl)\n",
        "selector_rl_sfm = selector_rl_sfm.fit(X, y)\n",
        "X_rl_sfm = selector_rl_sfm.transform(X)\n",
        "\n",
        "print('## Features selecionadas')\n",
        "sel = selector_rl_sfm.get_support(True)\n",
        "for s in sel:\n",
        "  print(X.columns[s])\n",
        "\n",
        "# Regressão Logística: seleção de features via eliminação recursiva \n",
        "print('====> Eliminação recursiva')\n",
        "selector_rl_rfe = RFE(clf_rl, n_features_to_select=5, step=1) \n",
        "selector_rl_rfe = selector_rl_rfe.fit(X, y)\n",
        "X_rl_rfe = selector_rl_rfe.transform(X)\n",
        "\n",
        "print('## Relevância das Features')\n",
        "size = len(X.columns)\n",
        "for i in range(size):\n",
        "  print(X.columns[i], selector_rl_rfe.ranking_[i])\n",
        "\n",
        "print('## Features selecionadas')\n",
        "sel = selector_rl_rfe.get_support(True)\n",
        "for s in sel:\n",
        "  print(X.columns[s])\n",
        "\n",
        "# Regressão Logística: seleção de features via eliminação recursiva com validação cruzada 5-fold \n",
        "print('====> Eliminação recursiva com validação cruzada 5-fold')\n",
        "selector_rl_rfecv = RFECV(clf_rl, step=1, cv=5)\n",
        "selector_rl_rfecv = selector_rl_rfecv.fit(X, y)\n",
        "X_rl_rfecv = selector_rl_rfecv.transform(X)\n",
        "\n",
        "print('## Relevância das Features')\n",
        "size = len(X.columns)\n",
        "for i in range(size):\n",
        "  print(X.columns[i], selector_rl_rfecv.ranking_[i])\n",
        "\n",
        "print('## Features selecionadas')\n",
        "sel = selector_rl_rfecv.get_support(True)\n",
        "for s in sel:\n",
        "  print(X.columns[s])"
      ],
      "execution_count": null,
      "outputs": [
        {
          "output_type": "stream",
          "text": [
            "========= Regressão Logística\n",
            "====> Seleção baseada na Importância\n",
            "## Features selecionadas\n",
            "SFH\n",
            "popUpWidnow\n",
            "SSLfinal_State\n",
            "Request_URL\n",
            "URL_Length\n",
            "====> Eliminação recursiva\n",
            "## Relevância das Features\n",
            "SFH 1\n",
            "popUpWidnow 1\n",
            "SSLfinal_State 1\n",
            "Request_URL 1\n",
            "URL_of_Anchor 4\n",
            "web_traffic 3\n",
            "URL_Length 1\n",
            "age_of_domain 5\n",
            "having_IP_Address 2\n",
            "## Features selecionadas\n",
            "SFH\n",
            "popUpWidnow\n",
            "SSLfinal_State\n",
            "Request_URL\n",
            "URL_Length\n",
            "====> Eliminação recursiva com validação cruzada 5-fold\n",
            "## Relevância das Features\n",
            "SFH 1\n",
            "popUpWidnow 1\n",
            "SSLfinal_State 1\n",
            "Request_URL 1\n",
            "URL_of_Anchor 2\n",
            "web_traffic 1\n",
            "URL_Length 1\n",
            "age_of_domain 3\n",
            "having_IP_Address 1\n",
            "## Features selecionadas\n",
            "SFH\n",
            "popUpWidnow\n",
            "SSLfinal_State\n",
            "Request_URL\n",
            "web_traffic\n",
            "URL_Length\n",
            "having_IP_Address\n"
          ],
          "name": "stdout"
        }
      ]
    },
    {
      "cell_type": "code",
      "metadata": {
        "id": "dhjQ97y5nqLU",
        "colab_type": "code",
        "colab": {
          "base_uri": "https://localhost:8080/",
          "height": 731
        },
        "outputId": "7f9e7b5b-2bda-47c3-d440-cd1583b4b854"
      },
      "source": [
        "print('========= Random Forest')\n",
        "# Random Forest: seleção de features baseada na importância\n",
        "print('====> Seleção baseada na Importância')\n",
        "selector_rf_sfm = SelectFromModel(clf_rf)\n",
        "selector_rf_sfm = selector_rf_sfm.fit(X, y)\n",
        "X_rf_sfm = selector_rf_sfm.transform(X)\n",
        "\n",
        "print('## Features selecionadas')\n",
        "sel = selector_rf_sfm.get_support(True)\n",
        "for s in sel:\n",
        "  print(X.columns[s])\n",
        "\n",
        "# Random Forest: seleção de features via eliminação recursiva \n",
        "print('====> Eliminação recursiva')\n",
        "selector_rf_rfe = RFE(clf_rf, n_features_to_select=5, step=1) \n",
        "selector_rf_rfe = selector_rf_rfe.fit(X, y)\n",
        "X_rf_rfe = selector_rf_rfe.transform(X)\n",
        "\n",
        "print('## Relevância das Features')\n",
        "size = len(X.columns)\n",
        "for i in range(size):\n",
        "  print(X.columns[i], selector_rf_rfe.ranking_[i])\n",
        "\n",
        "print('## Features selecionadas')\n",
        "sel = selector_rf_rfe.get_support(True)\n",
        "for s in sel:\n",
        "  print(X.columns[s])\n",
        "\n",
        "# Random Forest: seleção de features via eliminação recursiva com validação cruzada 5-fold \n",
        "print('====> Eliminação recursiva com validação cruzada 5-fold')\n",
        "selector_rf_rfecv = RFECV(clf_rf, step=1, cv=5)\n",
        "selector_rf_rfecv = selector_rf_rfecv.fit(X, y)\n",
        "X_rf_rfecv = selector_rf_rfecv.transform(X)\n",
        "\n",
        "print('## Relevância das Features')\n",
        "size = len(X.columns)\n",
        "for i in range(size):\n",
        "  print(X.columns[i], selector_rf_rfecv.ranking_[i])\n",
        "\n",
        "print('## Features selecionadas')\n",
        "sel = selector_rf_rfecv.get_support(True)\n",
        "for s in sel:\n",
        "  print(X.columns[s])\n"
      ],
      "execution_count": null,
      "outputs": [
        {
          "output_type": "stream",
          "text": [
            "========= Random Forest\n",
            "====> Seleção baseada na Importância\n",
            "## Features selecionadas\n",
            "SFH\n",
            "popUpWidnow\n",
            "SSLfinal_State\n",
            "====> Eliminação recursiva\n",
            "## Relevância das Features\n",
            "SFH 1\n",
            "popUpWidnow 1\n",
            "SSLfinal_State 1\n",
            "Request_URL 1\n",
            "URL_of_Anchor 1\n",
            "web_traffic 3\n",
            "URL_Length 2\n",
            "age_of_domain 4\n",
            "having_IP_Address 5\n",
            "## Features selecionadas\n",
            "SFH\n",
            "popUpWidnow\n",
            "SSLfinal_State\n",
            "Request_URL\n",
            "URL_of_Anchor\n",
            "====> Eliminação recursiva com validação cruzada 5-fold\n",
            "## Relevância das Features\n",
            "SFH 1\n",
            "popUpWidnow 1\n",
            "SSLfinal_State 1\n",
            "Request_URL 1\n",
            "URL_of_Anchor 1\n",
            "web_traffic 1\n",
            "URL_Length 1\n",
            "age_of_domain 2\n",
            "having_IP_Address 3\n",
            "## Features selecionadas\n",
            "SFH\n",
            "popUpWidnow\n",
            "SSLfinal_State\n",
            "Request_URL\n",
            "URL_of_Anchor\n",
            "web_traffic\n",
            "URL_Length\n"
          ],
          "name": "stdout"
        }
      ]
    },
    {
      "cell_type": "code",
      "metadata": {
        "id": "lMASdFeV0qP3",
        "colab_type": "code",
        "colab": {
          "base_uri": "https://localhost:8080/",
          "height": 102
        },
        "outputId": "a756d5e5-1ed5-4b66-cbcb-3cbea8019a96"
      },
      "source": [
        "# Seleção dos melhores parâmetros do KNN baseado em GridSearch. Critério utilizado: acurácia.\n",
        "n_neighbors = [1, 3, 5, 7, 11]\n",
        "weights = {'uniform', 'distance'}\n",
        "algorithm = {'auto', 'ball_tree', 'kd_tree', 'brute'}\n",
        "\n",
        "best_acc = 0\n",
        "for n in n_neighbors:\n",
        "  for w in weights:\n",
        "    for a in algorithm:\n",
        "      clf_knn_new = KNeighborsClassifier(n_neighbors=n, weights=w, algorithm=a)\n",
        "      clf_knn_new.fit(dados_treino, rotulos_treino)\n",
        "      prediction = clf_knn_new.predict(dados_treino)\n",
        "      current_acc = metrics.accuracy_score(rotulos_treino, prediction)\n",
        "      if current_acc > best_acc:\n",
        "        best_acc = current_acc\n",
        "        best_model_knn = clf_knn_new\n",
        "print('Melhor modelo:',best_model_knn)\n",
        "print('Acurácia em treinamento:', best_acc)\n",
        "predict_test = best_model_knn.predict(dados_teste)\n",
        "print('Acurácia em teste:', metrics.accuracy_score(rotulos_teste, predict_test))"
      ],
      "execution_count": null,
      "outputs": [
        {
          "output_type": "stream",
          "text": [
            "Melhor modelo: KNeighborsClassifier(algorithm='auto', leaf_size=30, metric='minkowski',\n",
            "                     metric_params=None, n_jobs=None, n_neighbors=3, p=2,\n",
            "                     weights='distance')\n",
            "Acurácia em treinamento: 0.9662090813093981\n",
            "Acurácia em teste: 0.8694581280788177\n"
          ],
          "name": "stdout"
        }
      ]
    },
    {
      "cell_type": "code",
      "metadata": {
        "id": "zFSoRPOJmZS2",
        "colab_type": "code",
        "colab": {
          "base_uri": "https://localhost:8080/",
          "height": 360
        },
        "outputId": "e7dba370-0973-46ce-b372-eb95f1d22288"
      },
      "source": [
        "# Efetuando nova validação cruzada 4-fold após a seleção de features e de novos parâmetros pro KNN\n",
        "scores_rl_sfm = cross_validate(clf_rl, X_rl_sfm, y, cv=4, scoring=scoring_list)\n",
        "scores_rl_rfe = cross_validate(clf_rl, X_rl_rfe, y, cv=4, scoring=scoring_list)\n",
        "scores_rl_rfecv = cross_validate(clf_rl, X_rl_rfecv, y, cv=4, scoring=scoring_list)\n",
        "\n",
        "scores_rf_sfm = cross_validate(clf_rf, X_rf_sfm, y, cv=4, scoring=scoring_list)\n",
        "scores_rf_rfe = cross_validate(clf_rf, X_rf_rfe, y, cv=4, scoring=scoring_list)\n",
        "scores_rf_rfecv = cross_validate(clf_rf, X_rf_rfecv, y, cv=4, scoring=scoring_list)\n",
        "\n",
        "scores_knn_new = cross_validate(best_model_knn, X, y, cv=4, scoring=scoring_list)\n",
        "\n",
        "avg_scores_rl_sfm = []\n",
        "avg_scores_rl_rfe = []\n",
        "avg_scores_rl_rfecv = []\n",
        "avg_scores_rf_sfm = []\n",
        "avg_scores_rf_rfe = []\n",
        "avg_scores_rf_rfecv = []\n",
        "avg_scores_knn_new = []\n",
        "\n",
        "for score in scoring_list:\n",
        "    avg_scores_rl_sfm.append(scores_rl_sfm['test_'+score].mean())\n",
        "    avg_scores_rl_rfe.append(scores_rl_rfe['test_'+score].mean())\n",
        "    avg_scores_rl_rfecv.append(scores_rl_rfecv['test_'+score].mean())\n",
        "    avg_scores_rf_sfm.append(scores_rf_sfm['test_'+score].mean())\n",
        "    avg_scores_rf_rfe.append(scores_rf_rfe['test_'+score].mean())\n",
        "    avg_scores_rf_rfecv.append(scores_rf_rfecv['test_'+score].mean())\n",
        "    avg_scores_knn_new.append(scores_knn_new['test_'+score].mean())\n",
        "\n",
        "# Imprimindo a média das métricas extraídas das 4 execuções da validação cruzada, para cada classificador\n",
        "print('Métricas: acurácia, precisão, recall e F-measure')\n",
        "print('Regressão Logística - Inicial: ', avg_scores_rl)\n",
        "print('Regressão Logística - SFM: ', avg_scores_rl_sfm)\n",
        "print('Regressão Logística - RFE: ', avg_scores_rl_rfe)\n",
        "print('Regressão Logística - RFECV: ', avg_scores_rl_rfecv)\n",
        "\n",
        "print('Random Forest - Inicial: ', avg_scores_rf)\n",
        "print('Random Forest - SFM: ', avg_scores_rf_sfm)\n",
        "print('Random Forest - RFE: ', avg_scores_rf_rfe)\n",
        "print('Random Forest - RFECV: ', avg_scores_rf_rfecv)\n",
        "\n",
        "print('KNN - Inicial: ', avg_scores_knn)\n",
        "print('KNN - Melhor modelo: ', avg_scores_knn_new)"
      ],
      "execution_count": null,
      "outputs": [
        {
          "output_type": "stream",
          "text": [
            "/usr/local/lib/python3.6/dist-packages/sklearn/metrics/_classification.py:1272: UndefinedMetricWarning: Precision is ill-defined and being set to 0.0 in labels with no predicted samples. Use `zero_division` parameter to control this behavior.\n",
            "  _warn_prf(average, modifier, msg_start, len(result))\n",
            "/usr/local/lib/python3.6/dist-packages/sklearn/metrics/_classification.py:1272: UndefinedMetricWarning: Precision is ill-defined and being set to 0.0 in labels with no predicted samples. Use `zero_division` parameter to control this behavior.\n",
            "  _warn_prf(average, modifier, msg_start, len(result))\n",
            "/usr/local/lib/python3.6/dist-packages/sklearn/metrics/_classification.py:1272: UndefinedMetricWarning: Precision is ill-defined and being set to 0.0 in labels with no predicted samples. Use `zero_division` parameter to control this behavior.\n",
            "  _warn_prf(average, modifier, msg_start, len(result))\n",
            "/usr/local/lib/python3.6/dist-packages/sklearn/metrics/_classification.py:1272: UndefinedMetricWarning: Precision is ill-defined and being set to 0.0 in labels with no predicted samples. Use `zero_division` parameter to control this behavior.\n",
            "  _warn_prf(average, modifier, msg_start, len(result))\n"
          ],
          "name": "stderr"
        },
        {
          "output_type": "stream",
          "text": [
            "Métricas: acurácia, precisão, recall e F-measure\n",
            "Regressão Logística - Inicial:  [0.8300234766368191, 0.6786312054657397, 0.6219883629144578, 0.6203562213102777]\n",
            "Regressão Logística - SFM:  [0.8263143425668953, 0.6171606562630251, 0.6106304477153017, 0.6008253083137234]\n",
            "Regressão Logística - RFE:  [0.8263143425668953, 0.6171606562630251, 0.6106304477153017, 0.6008253083137234]\n",
            "Regressão Logística - RFECV:  [0.8322380478609206, 0.6948513239438168, 0.6232713241746088, 0.6220339660116947]\n",
            "Random Forest - Inicial:  [0.8980140859820913, 0.8785079745813246, 0.8580965324213499, 0.8671677552293519]\n",
            "Random Forest - SFM:  [0.840363233317624, 0.5877616684221538, 0.6089310658927447, 0.5874306198476392]\n",
            "Random Forest - RFE:  [0.8773083904976349, 0.8737939699142305, 0.7239343184188075, 0.7567759388922817]\n",
            "Random Forest - RFECV:  [0.8935827616903179, 0.8770279371090021, 0.8682236680594343, 0.8721876156832754]\n",
            "KNN - Inicial:  [0.8765796547450735, 0.8326954000680407, 0.8005228560976737, 0.8112383211187483]\n",
            "KNN - Melhor modelo:  [0.8810153427239881, 0.8498351174148363, 0.8306589168131139, 0.838570260481267]\n"
          ],
          "name": "stdout"
        }
      ]
    },
    {
      "cell_type": "code",
      "metadata": {
        "id": "Ju87uF4EBX8R",
        "colab_type": "code",
        "colab": {
          "base_uri": "https://localhost:8080/",
          "height": 787
        },
        "outputId": "77c24dd5-b5c3-4063-d0ce-05651c8ffb1c"
      },
      "source": [
        "# Melhores classificadores em cada algoritmo após seleção de características relevantes\n",
        "df = pd.DataFrame({'RL - RFECV': avg_scores_rl_rfecv,\n",
        "                   'RF - RFECV': avg_scores_rf_rfecv,\n",
        "                   'KNN - Melhor Modelo': avg_scores_knn_new}, index=scoring_list)\n",
        "ax = df.plot.bar(figsize=(18,12), title='Histograma3')"
      ],
      "execution_count": null,
      "outputs": [
        {
          "output_type": "display_data",
          "data": {
            "image/png": "[encoded data removed]",
            "text/plain": [
              "<Figure size 1296x864 with 1 Axes>"
            ]
          },
          "metadata": {
            "tags": [],
            "needs_background": "light"
          }
        }
      ]
    },
    {
      "cell_type": "markdown",
      "metadata": {
        "id": "QXy0Zsi6vIGe",
        "colab_type": "text"
      },
      "source": [
        "**Análise:** utilizou-se seleção de *features* através de três recursos distintos disponibilizados no sklearn, a saber: SelectFromModel (baseia-ne na importância das features), RFE (seleção recursiva de features, onde as menos importantes vão sendo excluídas a cada passo) e RFECV (seleção recursiva de features combinada com validação cruzada).\n",
        "\n",
        "Tais técnicas não são suportadas pelo KNN, por isso não foram aplicadas neste classificador. Para compensar, variou-se os seguintes parâmetros para ter outras possibilidades de comparação: número de vizinhos, ponderação da distância e o algoritmo usado para calcular a distância. Realizou-se uma GridSearch para escolher o melhor modelo baseado na acurácia e então procedeu-se a uma nova execução da validação cruzada.\n",
        "\n",
        "Passando à análise dos resultados dos diversos algoritmos, observou-se que o Random Forest com a seleção através de RFECV apresentou melhor recall e f-measure do que o inicial. A melhora no recall significa que mais sites que são phishing serão reconhecidos como tal. A f-measure é uma combinação entre recall e precision e também apresenta-se como bom indicador para critério de escolha do algoritmo a ser utilizado. Dessa forma, indica-se a escolha do \"Random Forest - RFECV\" para a aplicação em questão. \n",
        "\n",
        "Destaca-se ainda que o \"KNN - Melhor modelo\" foi mais otimizado que o \"KNN - Inicial\" com relação a todas as métricas utilizadas e, neste caso, seria uma segunda opção de escolha.\n",
        "\n",
        "Por fim, o **Histograma3** apresenta a comparação entre as métricas dos melhores modelos após a seleção de características, servindo como subsídio para a discussão efetuada acima. \n",
        "\n",
        "\n"
      ]
    }
  ]
}